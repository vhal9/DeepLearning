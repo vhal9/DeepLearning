{
 "cells": [
  {
   "cell_type": "markdown",
   "metadata": {},
   "source": [
    "#### Classificação para a base de imagens de cachorros e gatos"
   ]
  },
  {
   "cell_type": "code",
   "execution_count": 18,
   "metadata": {},
   "outputs": [],
   "source": [
    "from keras.models import Sequential\n",
    "from keras.layers import Dense, Flatten, Conv2D, MaxPooling2D, Dropout\n",
    "from keras.layers.normalization import BatchNormalization\n",
    "from keras.preprocessing.image import ImageDataGenerator\n",
    "import numpy as np\n",
    "from keras.preprocessing import image"
   ]
  },
  {
   "cell_type": "markdown",
   "metadata": {},
   "source": [
    "#### Estrutura da rede neural convolucional"
   ]
  },
  {
   "cell_type": "code",
   "execution_count": 2,
   "metadata": {},
   "outputs": [],
   "source": [
    "classificador = Sequential()\n",
    "classificador.add(Conv2D(32, (3,3), input_shape=(64,64, 3), activation='relu'))\n",
    "classificador.add(BatchNormalization())\n",
    "classificador.add(MaxPooling2D(pool_size=(2,2)))\n",
    "\n",
    "classificador.add(Conv2D(32, (3,3), input_shape=(64,64, 3), activation='relu'))\n",
    "classificador.add(BatchNormalization())\n",
    "classificador.add(MaxPooling2D(pool_size=(2,2)))\n",
    "\n",
    "classificador.add(Flatten())\n",
    "\n",
    "classificador.add(Dense(units=128, activation='relu'))\n",
    "classificador.add(Dropout(0.2))\n",
    "classificador.add(Dense(units=128, activation='relu'))\n",
    "classificador.add(Dropout(0.2))\n",
    "classificador.add(Dense(units=1, activation='softmax'))\n",
    "classificador.compile(optimizer='adam', loss='binary_crossentropy', metrics=['accuracy'])"
   ]
  },
  {
   "cell_type": "markdown",
   "metadata": {},
   "source": [
    "#### Gerar imagens com enquadramentos diferentes"
   ]
  },
  {
   "cell_type": "code",
   "execution_count": 3,
   "metadata": {},
   "outputs": [],
   "source": [
    "gerador_treinamento = ImageDataGenerator(rescale=1./255, rotation_range= 7,horizontal_flip=True, shear_range=0.2,height_shift_range=0.07, zoom_range=0.2)"
   ]
  },
  {
   "cell_type": "code",
   "execution_count": 4,
   "metadata": {},
   "outputs": [],
   "source": [
    "gerador_teste = ImageDataGenerator(rescale=1./255)"
   ]
  },
  {
   "cell_type": "code",
   "execution_count": 5,
   "metadata": {},
   "outputs": [
    {
     "name": "stdout",
     "output_type": "stream",
     "text": [
      "Found 4000 images belonging to 2 classes.\n"
     ]
    }
   ],
   "source": [
    "base_treinamento = gerador_treinamento.flow_from_directory('../../data/baseCaesGatos/dataset/training_set', target_size=(64,64), batch_size=32, class_mode='binary')"
   ]
  },
  {
   "cell_type": "code",
   "execution_count": 6,
   "metadata": {},
   "outputs": [
    {
     "name": "stdout",
     "output_type": "stream",
     "text": [
      "Found 1000 images belonging to 2 classes.\n"
     ]
    }
   ],
   "source": [
    "base_teste = gerador_teste.flow_from_directory('../../data/baseCaesGatos/dataset/test_set', target_size=(64,64), batch_size=32, class_mode='binary')"
   ]
  },
  {
   "cell_type": "markdown",
   "metadata": {},
   "source": [
    "- rodando poucas epocas e dividindo a base de treinamento entre as epocas porque o custo é muito grande"
   ]
  },
  {
   "cell_type": "code",
   "execution_count": 14,
   "metadata": {},
   "outputs": [
    {
     "name": "stdout",
     "output_type": "stream",
     "text": [
      "Epoch 1/10\n",
      "124/500 [======>.......................] - ETA: 2:05 - loss: 7.6705 - accuracy: 0.4997Epoch 1/10\n",
      "500/500 [==============================] - 260s 521ms/step - loss: 7.6666 - accuracy: 0.5000 - val_loss: 9.5308 - val_accuracy: 0.5000\n",
      "Epoch 2/10\n",
      "500/500 [==============================] - 732s 1s/step - loss: 7.6666 - accuracy: 0.5000 - val_loss: 9.5308 - val_accuracy: 0.5000\n",
      "Epoch 3/10\n",
      "500/500 [==============================] - 764s 2s/step - loss: 7.6666 - accuracy: 0.5000 - val_loss: 7.6246 - val_accuracy: 0.5000\n",
      "Epoch 4/10\n",
      "500/500 [==============================] - 261s 522ms/step - loss: 7.6666 - accuracy: 0.5000 - val_loss: 9.5308 - val_accuracy: 0.5000\n",
      "Epoch 5/10\n",
      "500/500 [==============================] - 211s 422ms/step - loss: 7.6666 - accuracy: 0.5000 - val_loss: 9.5308 - val_accuracy: 0.5000\n",
      "Epoch 6/10\n",
      "500/500 [==============================] - 216s 432ms/step - loss: 7.6666 - accuracy: 0.5000 - val_loss: 13.3431 - val_accuracy: 0.5000\n",
      "Epoch 7/10\n",
      "500/500 [==============================] - 282s 563ms/step - loss: 7.6666 - accuracy: 0.5000 - val_loss: 5.7185 - val_accuracy: 0.5000\n",
      "Epoch 8/10\n",
      "500/500 [==============================] - 551s 1s/step - loss: 7.6666 - accuracy: 0.5000 - val_loss: 5.7185 - val_accuracy: 0.5000\n",
      "Epoch 9/10\n",
      "500/500 [==============================] - 610s 1s/step - loss: 7.6666 - accuracy: 0.5000 - val_loss: 9.5308 - val_accuracy: 0.5000\n",
      "Epoch 10/10\n",
      "500/500 [==============================] - 1043s 2s/step - loss: 7.6666 - accuracy: 0.5000 - val_loss: 5.7185 - val_accuracy: 0.5000\n"
     ]
    },
    {
     "data": {
      "text/plain": [
       "<keras.callbacks.callbacks.History at 0x7f1249dde780>"
      ]
     },
     "execution_count": 14,
     "metadata": {},
     "output_type": "execute_result"
    }
   ],
   "source": [
    "classificador.fit_generator(base_treinamento, steps_per_epoch=4000/8, epochs=10, validation_data=base_teste, validation_steps=1000/32, use_multiprocessing=True)"
   ]
  },
  {
   "cell_type": "markdown",
   "metadata": {},
   "source": [
    "#### Predição de uma imagem de classe da classe"
   ]
  },
  {
   "cell_type": "code",
   "execution_count": 15,
   "metadata": {},
   "outputs": [
    {
     "data": {
      "text/plain": [
       "{'cachorro': 0, 'gato': 1}"
      ]
     },
     "execution_count": 15,
     "metadata": {},
     "output_type": "execute_result"
    }
   ],
   "source": [
    "base_treinamento.class_indices"
   ]
  },
  {
   "cell_type": "code",
   "execution_count": 27,
   "metadata": {},
   "outputs": [],
   "source": [
    "imagem_teste = image.load_img('../../data/baseCaesGatos/dataset/test_set/gato/cat.3500.jpg', target_size = (64,64))\n",
    "imagem_teste = image.img_to_array(imagem_teste)"
   ]
  },
  {
   "cell_type": "code",
   "execution_count": 28,
   "metadata": {},
   "outputs": [],
   "source": [
    "imagem_teste /= 255\n",
    "imagem_teste = np.expand_dims(imagem_teste, axis = 0)"
   ]
  },
  {
   "cell_type": "code",
   "execution_count": 29,
   "metadata": {},
   "outputs": [
    {
     "data": {
      "text/plain": [
       "(1, 64, 64, 3)"
      ]
     },
     "execution_count": 29,
     "metadata": {},
     "output_type": "execute_result"
    }
   ],
   "source": [
    "imagem_teste.shape"
   ]
  },
  {
   "cell_type": "code",
   "execution_count": 30,
   "metadata": {},
   "outputs": [],
   "source": [
    "previsao1 = classificador.predict(imagem_teste)"
   ]
  },
  {
   "cell_type": "code",
   "execution_count": 35,
   "metadata": {},
   "outputs": [],
   "source": [
    "def normalizarPrevisao(previsao):\n",
    "    resposta = ''\n",
    "    if previsao < 0.5:\n",
    "        resposta = 'cachorro'\n",
    "    else:\n",
    "        resposta = 'gato'\n",
    "    return resposta"
   ]
  },
  {
   "cell_type": "code",
   "execution_count": 36,
   "metadata": {},
   "outputs": [
    {
     "data": {
      "text/plain": [
       "'gato'"
      ]
     },
     "execution_count": 36,
     "metadata": {},
     "output_type": "execute_result"
    }
   ],
   "source": [
    "normalizarPrevisao(previsao1)"
   ]
  },
  {
   "cell_type": "code",
   "execution_count": 37,
   "metadata": {},
   "outputs": [],
   "source": [
    "imagem_teste2 = image.load_img('../../data/baseCaesGatos/dataset/test_set/cachorro/dog.3500.jpg', target_size = (64,64))\n",
    "imagem_teste2 = image.img_to_array(imagem_teste2) "
   ]
  },
  {
   "cell_type": "code",
   "execution_count": 38,
   "metadata": {},
   "outputs": [],
   "source": [
    "imagem_teste2 /= 255\n",
    "imagem_teste2 = np.expand_dims(imagem_teste2, axis = 0)"
   ]
  },
  {
   "cell_type": "code",
   "execution_count": 39,
   "metadata": {},
   "outputs": [],
   "source": [
    "previsao2 = classificador.predict(imagem_teste)"
   ]
  },
  {
   "cell_type": "code",
   "execution_count": 41,
   "metadata": {},
   "outputs": [
    {
     "data": {
      "text/plain": [
       "'gato'"
      ]
     },
     "execution_count": 41,
     "metadata": {},
     "output_type": "execute_result"
    }
   ],
   "source": [
    "normalizarPrevisao(previsao2)"
   ]
  },
  {
   "cell_type": "code",
   "execution_count": null,
   "metadata": {},
   "outputs": [],
   "source": []
  }
 ],
 "metadata": {
  "kernelspec": {
   "display_name": "Python 3",
   "language": "python",
   "name": "python3"
  },
  "language_info": {
   "codemirror_mode": {
    "name": "ipython",
    "version": 3
   },
   "file_extension": ".py",
   "mimetype": "text/x-python",
   "name": "python",
   "nbconvert_exporter": "python",
   "pygments_lexer": "ipython3",
   "version": "3.5.2"
  }
 },
 "nbformat": 4,
 "nbformat_minor": 4
}
