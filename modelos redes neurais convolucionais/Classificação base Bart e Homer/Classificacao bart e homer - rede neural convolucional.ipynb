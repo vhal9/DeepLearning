{
 "cells": [
  {
   "cell_type": "markdown",
   "metadata": {},
   "source": [
    "### Rede Neural Convolucioanl para Classificação de imagens do bart e do homer"
   ]
  },
  {
   "cell_type": "code",
   "execution_count": 1,
   "metadata": {},
   "outputs": [
    {
     "name": "stderr",
     "output_type": "stream",
     "text": [
      "Using TensorFlow backend.\n"
     ]
    }
   ],
   "source": [
    "from keras.preprocessing.image import ImageDataGenerator"
   ]
  },
  {
   "cell_type": "markdown",
   "metadata": {},
   "source": [
    "### Carregar base de dados"
   ]
  },
  {
   "cell_type": "code",
   "execution_count": 2,
   "metadata": {},
   "outputs": [],
   "source": [
    "gerador_treinamento = ImageDataGenerator(rescale=1./255, rotation_range= 7,horizontal_flip=True, shear_range=0.2,height_shift_range=0.07, zoom_range=0.2)"
   ]
  },
  {
   "cell_type": "code",
   "execution_count": 3,
   "metadata": {},
   "outputs": [
    {
     "name": "stdout",
     "output_type": "stream",
     "text": [
      "Found 196 images belonging to 2 classes.\n"
     ]
    }
   ],
   "source": [
    "base_treinamento = gerador_treinamento.flow_from_directory('../../data/baseHormerEBart/dataset_personagens/training_set/', target_size=(64,64), batch_size=32, class_mode='binary')"
   ]
  },
  {
   "cell_type": "code",
   "execution_count": 4,
   "metadata": {},
   "outputs": [],
   "source": [
    "gerador_teste = ImageDataGenerator(rescale=1./255)"
   ]
  },
  {
   "cell_type": "code",
   "execution_count": 5,
   "metadata": {},
   "outputs": [
    {
     "name": "stdout",
     "output_type": "stream",
     "text": [
      "Found 73 images belonging to 2 classes.\n"
     ]
    }
   ],
   "source": [
    "base_teste = gerador_teste.flow_from_directory('../../data/baseHormerEBart/dataset_personagens/test_set/', target_size=(64,64), batch_size=32, class_mode='binary')"
   ]
  },
  {
   "cell_type": "markdown",
   "metadata": {},
   "source": [
    "### Estrutura da Rede Neural Convolucional"
   ]
  },
  {
   "cell_type": "code",
   "execution_count": 6,
   "metadata": {},
   "outputs": [],
   "source": [
    "from keras.models import Sequential\n",
    "from keras.layers import Dense, Flatten, Conv2D, MaxPooling2D, Dropout\n",
    "from keras.layers.normalization import BatchNormalization\n",
    "from keras.preprocessing.image import ImageDataGenerator"
   ]
  },
  {
   "cell_type": "code",
   "execution_count": 7,
   "metadata": {},
   "outputs": [],
   "source": [
    "def criarRede():\n",
    "    classificador = Sequential()\n",
    "    classificador.add(Conv2D(32, (3,3), input_shape=(64,64,3), activation='relu'))\n",
    "    classificador.add(BatchNormalization())\n",
    "    classificador.add(MaxPooling2D(pool_size= (2,2)))\n",
    "    \n",
    "    classificador.add(Conv2D(32, (3,3), input_shape=(64,64,3), activation='relu'))\n",
    "    classificador.add(BatchNormalization())\n",
    "    classificador.add(MaxPooling2D(pool_size= (2,2)))\n",
    "    \n",
    "    classificador.add(Flatten())\n",
    "    \n",
    "    classificador.add(Dense(units=3, activation = 'relu', kernel_initializer = 'random_uniform'))\n",
    "    classificador.add(Dense(units=3, activation = 'relu', kernel_initializer = 'random_uniform'))\n",
    "    classificador.add(Dense(units=3, activation = 'relu', kernel_initializer = 'random_uniform' ))\n",
    "    classificador.add(Dense(units=3, activation = 'relu', kernel_initializer = 'random_uniform' ))\n",
    "    classificador.add(Dense(units=1, activation = 'sigmoid'))\n",
    "    classificador.compile(loss='binary_crossentropy', optimizer='adam', metrics=['binary_accuracy'])\n",
    "    return classificador"
   ]
  },
  {
   "cell_type": "markdown",
   "metadata": {},
   "source": [
    "#### Treinamento do modelo"
   ]
  },
  {
   "cell_type": "code",
   "execution_count": 8,
   "metadata": {},
   "outputs": [
    {
     "name": "stdout",
     "output_type": "stream",
     "text": [
      "Epoch 1/100\n",
      "196/196 [==============================] - 115s 588ms/step - loss: 0.4900 - binary_accuracy: 0.7017 - val_loss: 0.7023 - val_binary_accuracy: 0.4512\n",
      "Epoch 2/100\n",
      "196/196 [==============================] - 92s 467ms/step - loss: 0.3353 - binary_accuracy: 0.9260 - val_loss: 0.6529 - val_binary_accuracy: 0.7539\n",
      "Epoch 3/100\n",
      "196/196 [==============================] - 102s 519ms/step - loss: 0.2856 - binary_accuracy: 0.9461 - val_loss: 3.6095 - val_binary_accuracy: 0.6854\n",
      "Epoch 4/100\n",
      "196/196 [==============================] - 111s 564ms/step - loss: 0.2767 - binary_accuracy: 0.9364 - val_loss: 0.5535 - val_binary_accuracy: 0.7948\n",
      "Epoch 5/100\n",
      "196/196 [==============================] - 99s 504ms/step - loss: 0.2332 - binary_accuracy: 0.9565 - val_loss: 0.6683 - val_binary_accuracy: 0.7820\n",
      "Epoch 6/100\n",
      "196/196 [==============================] - 105s 535ms/step - loss: 0.1936 - binary_accuracy: 0.9698 - val_loss: 1.4796 - val_binary_accuracy: 0.7666\n",
      "Epoch 7/100\n",
      "196/196 [==============================] - 120s 611ms/step - loss: 0.2032 - binary_accuracy: 0.9654 - val_loss: 2.4187 - val_binary_accuracy: 0.7522\n",
      "Epoch 8/100\n",
      "196/196 [==============================] - 98s 499ms/step - loss: 0.1873 - binary_accuracy: 0.9656 - val_loss: 2.0864 - val_binary_accuracy: 0.7253\n",
      "Epoch 9/100\n",
      "196/196 [==============================] - 80s 406ms/step - loss: 0.1714 - binary_accuracy: 0.9683 - val_loss: 0.6159 - val_binary_accuracy: 0.8228\n",
      "Epoch 10/100\n",
      "196/196 [==============================] - 77s 393ms/step - loss: 0.1416 - binary_accuracy: 0.9776 - val_loss: 0.7650 - val_binary_accuracy: 0.8223\n",
      "Epoch 11/100\n",
      "196/196 [==============================] - 70s 356ms/step - loss: 0.1427 - binary_accuracy: 0.9743 - val_loss: 1.0475 - val_binary_accuracy: 0.8212\n",
      "Epoch 12/100\n",
      "196/196 [==============================] - 71s 363ms/step - loss: 0.1377 - binary_accuracy: 0.9765 - val_loss: 0.2571 - val_binary_accuracy: 0.9040\n",
      "Epoch 13/100\n",
      "196/196 [==============================] - 70s 355ms/step - loss: 0.1473 - binary_accuracy: 0.9685 - val_loss: 0.2158 - val_binary_accuracy: 0.8643\n",
      "Epoch 14/100\n",
      "196/196 [==============================] - 74s 378ms/step - loss: 0.1380 - binary_accuracy: 0.9747 - val_loss: 0.6394 - val_binary_accuracy: 0.8901\n",
      "Epoch 15/100\n",
      "196/196 [==============================] - 67s 341ms/step - loss: 0.1201 - binary_accuracy: 0.9774 - val_loss: 1.3694 - val_binary_accuracy: 0.8626\n",
      "Epoch 16/100\n",
      "196/196 [==============================] - 71s 362ms/step - loss: 0.0975 - binary_accuracy: 0.9856 - val_loss: 0.5626 - val_binary_accuracy: 0.8100\n",
      "Epoch 17/100\n",
      "196/196 [==============================] - 77s 393ms/step - loss: 0.0665 - binary_accuracy: 0.9929 - val_loss: 0.5024 - val_binary_accuracy: 0.7948\n",
      "Epoch 18/100\n",
      "196/196 [==============================] - 119s 609ms/step - loss: 0.0718 - binary_accuracy: 0.9911 - val_loss: 0.3458 - val_binary_accuracy: 0.8620\n",
      "Epoch 19/100\n",
      "196/196 [==============================] - 109s 556ms/step - loss: 0.0846 - binary_accuracy: 0.9845 - val_loss: 1.9020 - val_binary_accuracy: 0.8487\n",
      "Epoch 20/100\n",
      "196/196 [==============================] - 118s 605ms/step - loss: 0.0846 - binary_accuracy: 0.9863 - val_loss: 4.2291 - val_binary_accuracy: 0.6575\n",
      "Epoch 21/100\n",
      "196/196 [==============================] - 94s 477ms/step - loss: 0.0760 - binary_accuracy: 0.9907 - val_loss: 0.5988 - val_binary_accuracy: 0.7922\n",
      "Epoch 22/100\n",
      "196/196 [==============================] - 87s 442ms/step - loss: 0.0632 - binary_accuracy: 0.9892 - val_loss: 1.4006 - val_binary_accuracy: 0.8621\n",
      "Epoch 23/100\n",
      "196/196 [==============================] - 110s 560ms/step - loss: 0.0493 - binary_accuracy: 0.9967 - val_loss: 0.6647 - val_binary_accuracy: 0.8358\n",
      "Epoch 24/100\n",
      "196/196 [==============================] - 95s 486ms/step - loss: 0.0365 - binary_accuracy: 0.9974 - val_loss: 1.7618 - val_binary_accuracy: 0.8910\n",
      "Epoch 25/100\n",
      "196/196 [==============================] - 81s 415ms/step - loss: 0.0394 - binary_accuracy: 0.9956 - val_loss: 0.2064 - val_binary_accuracy: 0.8105\n",
      "Epoch 26/100\n",
      "196/196 [==============================] - 68s 346ms/step - loss: 0.0406 - binary_accuracy: 0.9936 - val_loss: 1.4279 - val_binary_accuracy: 0.8621\n",
      "Epoch 27/100\n",
      "196/196 [==============================] - 80s 409ms/step - loss: 0.0270 - binary_accuracy: 0.9982 - val_loss: 1.4203 - val_binary_accuracy: 0.8348\n",
      "Epoch 28/100\n",
      "196/196 [==============================] - 106s 540ms/step - loss: 0.0654 - binary_accuracy: 0.9872 - val_loss: 0.5572 - val_binary_accuracy: 0.8223\n",
      "Epoch 29/100\n",
      "196/196 [==============================] - 114s 583ms/step - loss: 0.0264 - binary_accuracy: 0.9974 - val_loss: 0.5822 - val_binary_accuracy: 0.8756\n",
      "Epoch 30/100\n",
      "196/196 [==============================] - 106s 541ms/step - loss: 0.0219 - binary_accuracy: 0.9976 - val_loss: 0.0189 - val_binary_accuracy: 0.8910\n",
      "Epoch 31/100\n",
      "196/196 [==============================] - 77s 390ms/step - loss: 0.0218 - binary_accuracy: 0.9976 - val_loss: 0.5168 - val_binary_accuracy: 0.9047\n",
      "Epoch 32/100\n",
      "196/196 [==============================] - 65s 333ms/step - loss: 0.0209 - binary_accuracy: 0.9976 - val_loss: 1.7797 - val_binary_accuracy: 0.8896\n",
      "Epoch 33/100\n",
      "196/196 [==============================] - 108s 552ms/step - loss: 0.0388 - binary_accuracy: 0.9929 - val_loss: 1.5504 - val_binary_accuracy: 0.8626\n",
      "Epoch 34/100\n",
      "196/196 [==============================] - 111s 566ms/step - loss: 0.0367 - binary_accuracy: 0.9911 - val_loss: 1.5452 - val_binary_accuracy: 0.8077\n",
      "Epoch 35/100\n",
      "196/196 [==============================] - 94s 477ms/step - loss: 0.0279 - binary_accuracy: 0.9942 - val_loss: 1.5816 - val_binary_accuracy: 0.8352\n",
      "Epoch 36/100\n",
      "196/196 [==============================] - 123s 629ms/step - loss: 0.0240 - binary_accuracy: 0.9954 - val_loss: 0.4103 - val_binary_accuracy: 0.8092\n",
      "Epoch 37/100\n",
      "196/196 [==============================] - 112s 572ms/step - loss: 0.0198 - binary_accuracy: 0.9974 - val_loss: 2.0948 - val_binary_accuracy: 0.8481\n",
      "Epoch 38/100\n",
      "196/196 [==============================] - 109s 557ms/step - loss: 0.0404 - binary_accuracy: 0.9914 - val_loss: 0.5970 - val_binary_accuracy: 0.8363\n",
      "Epoch 39/100\n",
      "196/196 [==============================] - 135s 687ms/step - loss: 0.0284 - binary_accuracy: 0.9942 - val_loss: 0.0053 - val_binary_accuracy: 0.8910\n",
      "Epoch 40/100\n",
      "196/196 [==============================] - 114s 583ms/step - loss: 0.0300 - binary_accuracy: 0.9960 - val_loss: 2.1341 - val_binary_accuracy: 0.7124\n",
      "Epoch 41/100\n",
      "196/196 [==============================] - 119s 605ms/step - loss: 0.0363 - binary_accuracy: 0.9903 - val_loss: 0.9474 - val_binary_accuracy: 0.7937\n",
      "Epoch 42/100\n",
      "196/196 [==============================] - 107s 546ms/step - loss: 0.0196 - binary_accuracy: 0.9956 - val_loss: 0.4419 - val_binary_accuracy: 0.8086\n",
      "Epoch 43/100\n",
      "196/196 [==============================] - 108s 552ms/step - loss: 0.0172 - binary_accuracy: 0.9980 - val_loss: 0.0494 - val_binary_accuracy: 0.8649\n",
      "Epoch 44/100\n",
      "196/196 [==============================] - 85s 432ms/step - loss: 0.0195 - binary_accuracy: 0.9971 - val_loss: 0.7042 - val_binary_accuracy: 0.8481\n",
      "Epoch 45/100\n",
      "196/196 [==============================] - 97s 493ms/step - loss: 0.0125 - binary_accuracy: 0.9982 - val_loss: 0.4588 - val_binary_accuracy: 0.8501\n",
      "Epoch 46/100\n",
      "196/196 [==============================] - 84s 428ms/step - loss: 0.0093 - binary_accuracy: 0.9989 - val_loss: 0.7653 - val_binary_accuracy: 0.8498\n",
      "Epoch 47/100\n",
      "196/196 [==============================] - 151s 768ms/step - loss: 0.0279 - binary_accuracy: 0.9960 - val_loss: 2.4021 - val_binary_accuracy: 0.8352\n",
      "Epoch 48/100\n",
      "196/196 [==============================] - 120s 611ms/step - loss: 0.0205 - binary_accuracy: 0.9947 - val_loss: 1.1826 - val_binary_accuracy: 0.8348\n",
      "Epoch 49/100\n",
      "196/196 [==============================] - 128s 655ms/step - loss: 0.0093 - binary_accuracy: 0.9984 - val_loss: 1.7739 - val_binary_accuracy: 0.8352\n",
      "Epoch 50/100\n",
      "196/196 [==============================] - 110s 562ms/step - loss: 0.0102 - binary_accuracy: 0.9987 - val_loss: 0.8626 - val_binary_accuracy: 0.8498\n",
      "Epoch 51/100\n",
      "196/196 [==============================] - 85s 436ms/step - loss: 0.0091 - binary_accuracy: 0.9987 - val_loss: 0.4889 - val_binary_accuracy: 0.8631\n"
     ]
    },
    {
     "name": "stdout",
     "output_type": "stream",
     "text": [
      "Epoch 52/100\n",
      "196/196 [==============================] - 71s 362ms/step - loss: 0.0057 - binary_accuracy: 0.9998 - val_loss: 1.1157 - val_binary_accuracy: 0.8627\n",
      "Epoch 53/100\n",
      "196/196 [==============================] - 76s 390ms/step - loss: 0.0235 - binary_accuracy: 0.9947 - val_loss: 0.7300 - val_binary_accuracy: 0.8907\n",
      "Epoch 54/100\n",
      "196/196 [==============================] - 68s 348ms/step - loss: 0.0091 - binary_accuracy: 0.9989 - val_loss: 0.0141 - val_binary_accuracy: 0.9182\n",
      "Epoch 55/100\n",
      "196/196 [==============================] - 105s 536ms/step - loss: 0.0197 - binary_accuracy: 0.9949 - val_loss: 1.0718 - val_binary_accuracy: 0.9036\n",
      "Epoch 56/100\n",
      "196/196 [==============================] - 125s 638ms/step - loss: 0.0109 - binary_accuracy: 0.9985 - val_loss: 0.5733 - val_binary_accuracy: 0.8632\n",
      "Epoch 57/100\n",
      "196/196 [==============================] - 104s 531ms/step - loss: 0.0207 - binary_accuracy: 0.9949 - val_loss: 1.8523 - val_binary_accuracy: 0.8365\n",
      "Epoch 58/100\n",
      "196/196 [==============================] - 107s 545ms/step - loss: 0.0067 - binary_accuracy: 0.9989 - val_loss: 0.8460 - val_binary_accuracy: 0.8503\n",
      "Epoch 59/100\n",
      "196/196 [==============================] - 123s 629ms/step - loss: 0.0063 - binary_accuracy: 0.9989 - val_loss: 0.3399 - val_binary_accuracy: 0.8487\n",
      "Epoch 60/100\n",
      "196/196 [==============================] - 137s 700ms/step - loss: 0.0445 - binary_accuracy: 0.9954 - val_loss: 0.5300 - val_binary_accuracy: 0.8353\n",
      "Epoch 61/100\n",
      "196/196 [==============================] - 151s 768ms/step - loss: 0.0064 - binary_accuracy: 0.9996 - val_loss: 0.9198 - val_binary_accuracy: 0.8767\n",
      "Epoch 62/100\n",
      "196/196 [==============================] - 106s 541ms/step - loss: 0.0201 - binary_accuracy: 0.9969 - val_loss: 1.0355 - val_binary_accuracy: 0.8223\n",
      "Epoch 63/100\n",
      "196/196 [==============================] - 77s 392ms/step - loss: 0.0145 - binary_accuracy: 0.9965 - val_loss: 0.5413 - val_binary_accuracy: 0.8489\n",
      "Epoch 64/100\n",
      "196/196 [==============================] - 72s 368ms/step - loss: 0.0048 - binary_accuracy: 0.9996 - val_loss: 2.2093 - val_binary_accuracy: 0.8481\n",
      "Epoch 65/100\n",
      "196/196 [==============================] - 102s 518ms/step - loss: 0.0107 - binary_accuracy: 0.9984 - val_loss: 1.6807 - val_binary_accuracy: 0.8638\n",
      "Epoch 66/100\n",
      "196/196 [==============================] - 114s 582ms/step - loss: 0.0073 - binary_accuracy: 0.9978 - val_loss: 0.0041 - val_binary_accuracy: 0.8631\n",
      "Epoch 67/100\n",
      "196/196 [==============================] - 149s 761ms/step - loss: 0.0039 - binary_accuracy: 0.9996 - val_loss: 0.9684 - val_binary_accuracy: 0.8767\n",
      "Epoch 68/100\n",
      "196/196 [==============================] - 94s 479ms/step - loss: 0.0053 - binary_accuracy: 0.9991 - val_loss: 0.6286 - val_binary_accuracy: 0.8498\n",
      "Epoch 69/100\n",
      "196/196 [==============================] - 112s 574ms/step - loss: 0.0154 - binary_accuracy: 0.9964 - val_loss: 1.8664 - val_binary_accuracy: 0.8217\n",
      "Epoch 70/100\n",
      "196/196 [==============================] - 139s 710ms/step - loss: 0.0476 - binary_accuracy: 0.9903 - val_loss: 1.0047 - val_binary_accuracy: 0.8913\n",
      "Epoch 71/100\n",
      "196/196 [==============================] - 166s 846ms/step - loss: 0.0122 - binary_accuracy: 0.9971 - val_loss: 0.7438 - val_binary_accuracy: 0.8492\n",
      "Epoch 72/100\n",
      "196/196 [==============================] - 88s 446ms/step - loss: 0.0070 - binary_accuracy: 0.9985 - val_loss: 0.3405 - val_binary_accuracy: 0.8501\n",
      "Epoch 73/100\n",
      "196/196 [==============================] - 94s 479ms/step - loss: 0.0039 - binary_accuracy: 0.9996 - val_loss: 0.7384 - val_binary_accuracy: 0.8492\n",
      "Epoch 74/100\n",
      "196/196 [==============================] - 119s 609ms/step - loss: 0.0090 - binary_accuracy: 0.9991 - val_loss: 0.7266 - val_binary_accuracy: 0.8352\n",
      "Epoch 75/100\n",
      "196/196 [==============================] - 121s 615ms/step - loss: 0.0096 - binary_accuracy: 0.9978 - val_loss: 0.4010 - val_binary_accuracy: 0.8359\n",
      "Epoch 76/100\n",
      "196/196 [==============================] - 84s 431ms/step - loss: 0.0393 - binary_accuracy: 0.9965 - val_loss: 0.8689 - val_binary_accuracy: 0.8901\n",
      "Epoch 77/100\n",
      "196/196 [==============================] - 81s 416ms/step - loss: 0.0134 - binary_accuracy: 0.9965 - val_loss: 0.6696 - val_binary_accuracy: 0.8913\n",
      "Epoch 78/100\n",
      "196/196 [==============================] - 83s 423ms/step - loss: 0.0095 - binary_accuracy: 0.9978 - val_loss: 0.0028 - val_binary_accuracy: 0.8751\n",
      "Epoch 79/100\n",
      "196/196 [==============================] - 89s 452ms/step - loss: 0.0110 - binary_accuracy: 0.9974 - val_loss: 0.1845 - val_binary_accuracy: 0.8784\n",
      "Epoch 80/100\n",
      "196/196 [==============================] - 70s 356ms/step - loss: 0.0098 - binary_accuracy: 0.9982 - val_loss: 0.3430 - val_binary_accuracy: 0.8487\n",
      "Epoch 81/100\n",
      "196/196 [==============================] - 69s 352ms/step - loss: 0.0030 - binary_accuracy: 0.9998 - val_loss: 1.3790 - val_binary_accuracy: 0.9040\n",
      "Epoch 82/100\n",
      "196/196 [==============================] - 92s 471ms/step - loss: 0.0028 - binary_accuracy: 1.0000 - val_loss: 1.0802 - val_binary_accuracy: 0.8890\n",
      "Epoch 83/100\n",
      "196/196 [==============================] - 112s 574ms/step - loss: 0.0034 - binary_accuracy: 0.9996 - val_loss: 1.6615 - val_binary_accuracy: 0.8913\n",
      "Epoch 84/100\n",
      "196/196 [==============================] - 118s 600ms/step - loss: 0.0042 - binary_accuracy: 0.9995 - val_loss: 2.1819 - val_binary_accuracy: 0.8773\n",
      "Epoch 85/100\n",
      "196/196 [==============================] - 153s 781ms/step - loss: 0.0140 - binary_accuracy: 0.9962 - val_loss: 1.7441 - val_binary_accuracy: 0.8767\n",
      "Epoch 86/100\n",
      "196/196 [==============================] - 139s 707ms/step - loss: 0.0036 - binary_accuracy: 0.9996 - val_loss: 0.6757 - val_binary_accuracy: 0.9176\n",
      "Epoch 87/100\n",
      "196/196 [==============================] - 106s 542ms/step - loss: 0.0024 - binary_accuracy: 0.9996 - val_loss: 0.7308 - val_binary_accuracy: 0.9035\n",
      "Epoch 88/100\n",
      "196/196 [==============================] - 117s 599ms/step - loss: 0.0021 - binary_accuracy: 1.0000 - val_loss: 1.4432 - val_binary_accuracy: 0.9176\n",
      "Epoch 89/100\n",
      "196/196 [==============================] - 95s 486ms/step - loss: 0.0027 - binary_accuracy: 0.9996 - val_loss: 0.9500 - val_binary_accuracy: 0.9036\n",
      "Epoch 90/100\n",
      "196/196 [==============================] - 89s 454ms/step - loss: 0.0019 - binary_accuracy: 1.0000 - val_loss: 1.3225 - val_binary_accuracy: 0.9046\n",
      "Epoch 91/100\n",
      "196/196 [==============================] - 91s 464ms/step - loss: 0.0292 - binary_accuracy: 0.9929 - val_loss: 0.4570 - val_binary_accuracy: 0.8772\n",
      "Epoch 92/100\n",
      "196/196 [==============================] - 93s 477ms/step - loss: 0.0292 - binary_accuracy: 0.9938 - val_loss: 0.7176 - val_binary_accuracy: 0.8761\n",
      "Epoch 93/100\n",
      "196/196 [==============================] - 118s 602ms/step - loss: 0.0113 - binary_accuracy: 0.9973 - val_loss: 0.6148 - val_binary_accuracy: 0.9040\n",
      "Epoch 94/100\n",
      "196/196 [==============================] - 100s 511ms/step - loss: 0.0044 - binary_accuracy: 0.9991 - val_loss: 1.6714 - val_binary_accuracy: 0.8750\n",
      "Epoch 95/100\n",
      "196/196 [==============================] - 97s 492ms/step - loss: 0.0055 - binary_accuracy: 0.9989 - val_loss: 1.1673 - val_binary_accuracy: 0.8924\n",
      "Epoch 96/100\n",
      "196/196 [==============================] - 85s 435ms/step - loss: 0.0052 - binary_accuracy: 0.9989 - val_loss: 0.0017 - val_binary_accuracy: 0.9040\n",
      "Epoch 97/100\n",
      "196/196 [==============================] - 102s 520ms/step - loss: 0.0039 - binary_accuracy: 0.9991 - val_loss: 1.2081 - val_binary_accuracy: 0.8901\n",
      "Epoch 98/100\n",
      "196/196 [==============================] - 121s 618ms/step - loss: 0.0055 - binary_accuracy: 0.9985 - val_loss: 1.0554 - val_binary_accuracy: 0.8913\n",
      "Epoch 99/100\n",
      "196/196 [==============================] - 83s 424ms/step - loss: 0.0177 - binary_accuracy: 0.9973 - val_loss: 2.0016 - val_binary_accuracy: 0.8762\n",
      "Epoch 100/100\n",
      "196/196 [==============================] - 78s 396ms/step - loss: 0.0238 - binary_accuracy: 0.9989 - val_loss: 0.2786 - val_binary_accuracy: 0.8913\n"
     ]
    },
    {
     "data": {
      "text/plain": [
       "<keras.callbacks.callbacks.History at 0x7fb95c5c7fd0>"
      ]
     },
     "execution_count": 8,
     "metadata": {},
     "output_type": "execute_result"
    }
   ],
   "source": [
    "previsor = criarRede()\n",
    "previsor.fit_generator(base_treinamento, steps_per_epoch = 196, epochs = 100,\n",
    "                         validation_data = base_teste, validation_steps = 73, use_multiprocessing=True)"
   ]
  },
  {
   "cell_type": "markdown",
   "metadata": {},
   "source": [
    "#### Resultado"
   ]
  },
  {
   "cell_type": "code",
   "execution_count": 9,
   "metadata": {},
   "outputs": [
    {
     "name": "stdout",
     "output_type": "stream",
     "text": [
      "3/3 [==============================] - 0s 77ms/step\n"
     ]
    },
    {
     "data": {
      "text/plain": [
       "[1.689518690109253, 0.8904109597206116]"
      ]
     },
     "execution_count": 9,
     "metadata": {},
     "output_type": "execute_result"
    }
   ],
   "source": [
    "previsor.evaluate(base_teste)"
   ]
  },
  {
   "cell_type": "code",
   "execution_count": null,
   "metadata": {},
   "outputs": [],
   "source": []
  }
 ],
 "metadata": {
  "kernelspec": {
   "display_name": "Python 3",
   "language": "python",
   "name": "python3"
  },
  "language_info": {
   "codemirror_mode": {
    "name": "ipython",
    "version": 3
   },
   "file_extension": ".py",
   "mimetype": "text/x-python",
   "name": "python",
   "nbconvert_exporter": "python",
   "pygments_lexer": "ipython3",
   "version": "3.5.2"
  }
 },
 "nbformat": 4,
 "nbformat_minor": 4
}
