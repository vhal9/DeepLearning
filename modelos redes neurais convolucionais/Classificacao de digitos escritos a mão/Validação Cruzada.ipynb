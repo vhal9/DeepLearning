{
 "cells": [
  {
   "cell_type": "markdown",
   "metadata": {},
   "source": [
    "### Aplicação da validação cruzada na base de dados"
   ]
  },
  {
   "cell_type": "code",
   "execution_count": 3,
   "metadata": {},
   "outputs": [
    {
     "name": "stderr",
     "output_type": "stream",
     "text": [
      "/home/victorhugo/Documentos/Faculdade/Projetos/envs/cursoDeepLearning/lib/python3.5/importlib/_bootstrap.py:222: RuntimeWarning: numpy.ufunc size changed, may indicate binary incompatibility. Expected 192 from C header, got 216 from PyObject\n",
      "  return f(*args, **kwds)\n"
     ]
    }
   ],
   "source": [
    "from keras.datasets import mnist\n",
    "from keras.models import Sequential\n",
    "from keras.layers import Dense, Flatten, Dropout, Conv2D, MaxPooling2D\n",
    "from keras.utils import np_utils\n",
    "from sklearn.model_selection import StratifiedKFold"
   ]
  },
  {
   "cell_type": "code",
   "execution_count": 4,
   "metadata": {},
   "outputs": [],
   "source": [
    "import numpy as np"
   ]
  },
  {
   "cell_type": "code",
   "execution_count": 11,
   "metadata": {},
   "outputs": [],
   "source": [
    "seed =5"
   ]
  },
  {
   "cell_type": "code",
   "execution_count": 13,
   "metadata": {},
   "outputs": [],
   "source": [
    "np.random.seed(seed)"
   ]
  },
  {
   "cell_type": "code",
   "execution_count": 14,
   "metadata": {},
   "outputs": [],
   "source": [
    "(x_treinamento, y_treinamento), (x_teste, y_teste) = mnist.load_data()"
   ]
  },
  {
   "cell_type": "code",
   "execution_count": 15,
   "metadata": {},
   "outputs": [],
   "source": [
    "previsores_treinamento = x_treinamento.reshape(x_treinamento.shape[0], 28, 28, 1)"
   ]
  },
  {
   "cell_type": "code",
   "execution_count": 16,
   "metadata": {},
   "outputs": [],
   "source": [
    "previsores_treinamento = previsores_treinamento.astype('float32')"
   ]
  },
  {
   "cell_type": "code",
   "execution_count": 17,
   "metadata": {},
   "outputs": [],
   "source": [
    "previsores = previsores_treinamento/255"
   ]
  },
  {
   "cell_type": "code",
   "execution_count": 18,
   "metadata": {},
   "outputs": [],
   "source": [
    "classe = np_utils.to_categorical(y_treinamento, 10)"
   ]
  },
  {
   "cell_type": "markdown",
   "metadata": {},
   "source": [
    "#### Definição do numero de partes de treinamento para a validação cruzada"
   ]
  },
  {
   "cell_type": "code",
   "execution_count": 20,
   "metadata": {},
   "outputs": [],
   "source": [
    "kfold = StratifiedKFold(n_splits = 5, shuffle= True, random_state=seed)"
   ]
  },
  {
   "cell_type": "code",
   "execution_count": 21,
   "metadata": {},
   "outputs": [],
   "source": [
    "resultados = []"
   ]
  },
  {
   "cell_type": "markdown",
   "metadata": {},
   "source": [
    "#### Validação cruzada"
   ]
  },
  {
   "cell_type": "code",
   "execution_count": 24,
   "metadata": {},
   "outputs": [
    {
     "name": "stdout",
     "output_type": "stream",
     "text": [
      "Epoch 1/5\n",
      "48000/48000 [==============================] - 23s 488us/step - loss: 0.2494 - accuracy: 0.9289\n",
      "Epoch 2/5\n",
      "48000/48000 [==============================] - 26s 532us/step - loss: 0.0762 - accuracy: 0.9778\n",
      "Epoch 3/5\n",
      "48000/48000 [==============================] - 26s 534us/step - loss: 0.0496 - accuracy: 0.9850\n",
      "Epoch 4/5\n",
      "48000/48000 [==============================] - 28s 576us/step - loss: 0.0373 - accuracy: 0.9889\n",
      "Epoch 5/5\n",
      "48000/48000 [==============================] - 30s 633us/step - loss: 0.0282 - accuracy: 0.9914\n",
      "12000/12000 [==============================] - 3s 275us/step\n",
      "Epoch 1/5\n",
      "48000/48000 [==============================] - 29s 607us/step - loss: 0.2407 - accuracy: 0.9318\n",
      "Epoch 2/5\n",
      "48000/48000 [==============================] - 34s 702us/step - loss: 0.0756 - accuracy: 0.9777\n",
      "Epoch 3/5\n",
      "48000/48000 [==============================] - 33s 690us/step - loss: 0.0496 - accuracy: 0.9847\n",
      "Epoch 4/5\n",
      "48000/48000 [==============================] - 38s 789us/step - loss: 0.0369 - accuracy: 0.9891\n",
      "Epoch 5/5\n",
      "48000/48000 [==============================] - 56s 1ms/step - loss: 0.0280 - accuracy: 0.9918\n",
      "12000/12000 [==============================] - 6s 507us/step\n",
      "Epoch 1/5\n",
      "48000/48000 [==============================] - 50s 1ms/step - loss: 0.2494 - accuracy: 0.9289\n",
      "Epoch 2/5\n",
      "48000/48000 [==============================] - 62s 1ms/step - loss: 0.0769 - accuracy: 0.9781\n",
      "Epoch 3/5\n",
      "48000/48000 [==============================] - 55s 1ms/step - loss: 0.0520 - accuracy: 0.9847\n",
      "Epoch 4/5\n",
      "48000/48000 [==============================] - 63s 1ms/step - loss: 0.0380 - accuracy: 0.9885\n",
      "Epoch 5/5\n",
      "48000/48000 [==============================] - 70s 1ms/step - loss: 0.0277 - accuracy: 0.9915\n",
      "12000/12000 [==============================] - 7s 599us/step\n",
      "Epoch 1/5\n",
      "48000/48000 [==============================] - 72s 2ms/step - loss: 0.2584 - accuracy: 0.9259\n",
      "Epoch 2/5\n",
      "48000/48000 [==============================] - 63s 1ms/step - loss: 0.0814 - accuracy: 0.9761\n",
      "Epoch 3/5\n",
      "48000/48000 [==============================] - 32s 658us/step - loss: 0.0514 - accuracy: 0.9847\n",
      "Epoch 4/5\n",
      "48000/48000 [==============================] - 28s 586us/step - loss: 0.0379 - accuracy: 0.9884\n",
      "Epoch 5/5\n",
      "48000/48000 [==============================] - 29s 613us/step - loss: 0.0290 - accuracy: 0.9914\n",
      "12000/12000 [==============================] - 3s 209us/step\n",
      "Epoch 1/5\n",
      "48000/48000 [==============================] - 43s 899us/step - loss: 0.2505 - accuracy: 0.9299\n",
      "Epoch 2/5\n",
      "48000/48000 [==============================] - 70s 1ms/step - loss: 0.0785 - accuracy: 0.9768\n",
      "Epoch 3/5\n",
      "48000/48000 [==============================] - 75s 2ms/step - loss: 0.0541 - accuracy: 0.9839\n",
      "Epoch 4/5\n",
      "48000/48000 [==============================] - 72s 1ms/step - loss: 0.0391 - accuracy: 0.9885\n",
      "Epoch 5/5\n",
      "48000/48000 [==============================] - 46s 968us/step - loss: 0.0296 - accuracy: 0.9911\n",
      "12000/12000 [==============================] - 4s 359us/step\n"
     ]
    }
   ],
   "source": [
    "for indice_treinamento, indice_teste in kfold.split(previsores, \n",
    "                                                    np.zeros(shape = (classe.shape[0], 1))):\n",
    "    #print('indices treinamento: ', indice_treinamento, 'indice teste', indice_teste)\n",
    "    classificador = Sequential()\n",
    "    classificador.add(Conv2D(32, (3,3), input_shape=(28,28,1), activation = 'relu'))\n",
    "    classificador.add(MaxPooling2D(pool_size = (2,2)))\n",
    "    classificador.add(Flatten())\n",
    "    classificador.add(Dense(units = 128, activation = 'relu'))\n",
    "    classificador.add(Dense(units = 10, activation = 'softmax'))\n",
    "    classificador.compile(loss = 'categorical_crossentropy', optimizer = 'adam',\n",
    "                          metrics = ['accuracy'])\n",
    "    classificador.fit(previsores[indice_treinamento], classe[indice_treinamento],\n",
    "                      batch_size = 128, epochs = 5)\n",
    "    precisao = classificador.evaluate(previsores[indice_teste], classe[indice_teste])\n",
    "    resultados.append(precisao[1])"
   ]
  },
  {
   "cell_type": "code",
   "execution_count": 25,
   "metadata": {},
   "outputs": [],
   "source": [
    "#media = resultados.mean()\n",
    "media = sum(resultados) / len(resultados)"
   ]
  },
  {
   "cell_type": "code",
   "execution_count": 26,
   "metadata": {},
   "outputs": [
    {
     "data": {
      "text/plain": [
       "0.9838833332061767"
      ]
     },
     "execution_count": 26,
     "metadata": {},
     "output_type": "execute_result"
    }
   ],
   "source": [
    "media"
   ]
  },
  {
   "cell_type": "code",
   "execution_count": null,
   "metadata": {},
   "outputs": [],
   "source": []
  }
 ],
 "metadata": {
  "kernelspec": {
   "display_name": "Python 3",
   "language": "python",
   "name": "python3"
  },
  "language_info": {
   "codemirror_mode": {
    "name": "ipython",
    "version": 3
   },
   "file_extension": ".py",
   "mimetype": "text/x-python",
   "name": "python",
   "nbconvert_exporter": "python",
   "pygments_lexer": "ipython3",
   "version": "3.5.2"
  }
 },
 "nbformat": 4,
 "nbformat_minor": 4
}
