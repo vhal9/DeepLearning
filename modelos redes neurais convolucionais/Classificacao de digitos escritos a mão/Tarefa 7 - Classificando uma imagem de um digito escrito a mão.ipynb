{
 "cells": [
  {
   "cell_type": "code",
   "execution_count": 1,
   "metadata": {},
   "outputs": [
    {
     "name": "stderr",
     "output_type": "stream",
     "text": [
      "Using TensorFlow backend.\n"
     ]
    }
   ],
   "source": [
    "import matplotlib.pyplot as plt\n",
    "from keras.datasets import mnist\n",
    "from keras.models import Sequential\n",
    "from keras.layers import Dense, Flatten, Dropout\n",
    "from keras.utils import np_utils\n",
    "from keras.layers import Conv2D, MaxPooling2D\n",
    "from keras.layers.normalization import BatchNormalization"
   ]
  },
  {
   "cell_type": "code",
   "execution_count": 2,
   "metadata": {},
   "outputs": [],
   "source": [
    "(x_treinamento, y_treinamento), (x_teste, y_teste) = mnist.load_data()"
   ]
  },
  {
   "cell_type": "markdown",
   "metadata": {},
   "source": [
    "### Iremos trabalhar com apenas escalas de cinza para diminuir o custo\n",
    "- alterar o formato do array de imagens para escala de cinza\n",
    "- reshape(numLinhas, tamanho em pixel altura, tamanho em pixel largura, numero de canais)"
   ]
  },
  {
   "cell_type": "code",
   "execution_count": 3,
   "metadata": {},
   "outputs": [],
   "source": [
    "previsores_treinamento = x_treinamento.reshape(x_treinamento.shape[0], 28, 28, 1)"
   ]
  },
  {
   "cell_type": "code",
   "execution_count": 4,
   "metadata": {},
   "outputs": [],
   "source": [
    "previsores_teste = x_teste.reshape(x_teste.shape[0], 28, 28, 1)"
   ]
  },
  {
   "cell_type": "markdown",
   "metadata": {},
   "source": [
    "### Setar o tipo das imagens, aumentando para float 32"
   ]
  },
  {
   "cell_type": "code",
   "execution_count": 5,
   "metadata": {},
   "outputs": [],
   "source": [
    "previsores_treinamento = previsores_treinamento.astype('float32')"
   ]
  },
  {
   "cell_type": "code",
   "execution_count": 6,
   "metadata": {},
   "outputs": [],
   "source": [
    "previsores_teste = previsores_teste.astype('float32')"
   ]
  },
  {
   "cell_type": "markdown",
   "metadata": {},
   "source": [
    "### Reduzir a escala dos valores dos pixel\n",
    "- escala de 0 a 1\n",
    "- divisao por 255"
   ]
  },
  {
   "cell_type": "code",
   "execution_count": 7,
   "metadata": {},
   "outputs": [],
   "source": [
    "previsores_treinamento /= 255"
   ]
  },
  {
   "cell_type": "code",
   "execution_count": 8,
   "metadata": {},
   "outputs": [],
   "source": [
    "previsores_teste /= 255"
   ]
  },
  {
   "cell_type": "markdown",
   "metadata": {},
   "source": [
    "### Transformação dos valores das classes para valores categoricos"
   ]
  },
  {
   "cell_type": "code",
   "execution_count": 10,
   "metadata": {},
   "outputs": [],
   "source": [
    "classe_treinamento = np_utils.to_categorical(y_treinamento, 10)"
   ]
  },
  {
   "cell_type": "code",
   "execution_count": 11,
   "metadata": {},
   "outputs": [],
   "source": [
    "classe_teste  = np_utils.to_categorical(y_teste, 10)"
   ]
  },
  {
   "cell_type": "markdown",
   "metadata": {},
   "source": [
    "### Estrutura da Rede Neural"
   ]
  },
  {
   "cell_type": "code",
   "execution_count": 12,
   "metadata": {},
   "outputs": [],
   "source": [
    "classificador = Sequential()\n",
    "#primeira camada de convolução\n",
    "classificador.add(Conv2D(32, (3,3), input_shape=(28,28,1), activation = 'relu'))\n",
    "classificador.add(BatchNormalization())\n",
    "classificador.add(MaxPooling2D(pool_size=(2,2)))\n",
    "#segunda camada de convolução\n",
    "classificador.add(Conv2D(32, (3,3), input_shape=(28,28,1), activation = 'relu'))\n",
    "classificador.add(BatchNormalization())\n",
    "classificador.add(MaxPooling2D(pool_size=(2,2)))\n",
    "#Flatten para transformar a matriz num vetor\n",
    "classificador.add(Flatten())\n",
    "\n",
    "\n",
    "classificador.add(Dense(units=128, activation = 'relu'))\n",
    "classificador.add(Dropout(0.2))\n",
    "classificador.add(Dense(units=128, activation = 'relu'))\n",
    "classificador.add(Dropout(0.2))\n",
    "\n",
    "classificador.add(Dense(units=10, activation='softmax'))\n",
    "classificador.compile(loss='categorical_crossentropy', optimizer='adam', metrics=['accuracy'])"
   ]
  },
  {
   "cell_type": "code",
   "execution_count": 13,
   "metadata": {},
   "outputs": [
    {
     "name": "stdout",
     "output_type": "stream",
     "text": [
      "Train on 60000 samples, validate on 10000 samples\n",
      "Epoch 1/10\n",
      "60000/60000 [==============================] - 204s 3ms/step - loss: 0.2266 - accuracy: 0.9309 - val_loss: 0.1365 - val_accuracy: 0.9580\n",
      "Epoch 2/10\n",
      "60000/60000 [==============================] - 211s 4ms/step - loss: 0.0647 - accuracy: 0.9809 - val_loss: 0.0405 - val_accuracy: 0.9887\n",
      "Epoch 3/10\n",
      "60000/60000 [==============================] - 257s 4ms/step - loss: 0.0463 - accuracy: 0.9861 - val_loss: 0.0363 - val_accuracy: 0.9901\n",
      "Epoch 4/10\n",
      "60000/60000 [==============================] - 209s 3ms/step - loss: 0.0359 - accuracy: 0.9890 - val_loss: 0.0322 - val_accuracy: 0.9900\n",
      "Epoch 5/10\n",
      "60000/60000 [==============================] - 233s 4ms/step - loss: 0.0308 - accuracy: 0.9909 - val_loss: 0.0400 - val_accuracy: 0.9882\n",
      "Epoch 6/10\n",
      "60000/60000 [==============================] - 232s 4ms/step - loss: 0.0255 - accuracy: 0.9920 - val_loss: 0.0453 - val_accuracy: 0.9863\n",
      "Epoch 7/10\n",
      "60000/60000 [==============================] - 234s 4ms/step - loss: 0.0246 - accuracy: 0.9922 - val_loss: 0.0283 - val_accuracy: 0.9904\n",
      "Epoch 8/10\n",
      "60000/60000 [==============================] - 250s 4ms/step - loss: 0.0205 - accuracy: 0.9934 - val_loss: 0.0443 - val_accuracy: 0.9876\n",
      "Epoch 9/10\n",
      "60000/60000 [==============================] - 252s 4ms/step - loss: 0.0184 - accuracy: 0.9944 - val_loss: 0.0293 - val_accuracy: 0.9911\n",
      "Epoch 10/10\n",
      "60000/60000 [==============================] - 289s 5ms/step - loss: 0.0157 - accuracy: 0.9951 - val_loss: 0.0473 - val_accuracy: 0.9877\n"
     ]
    },
    {
     "data": {
      "text/plain": [
       "<keras.callbacks.callbacks.History at 0x7f037e36e390>"
      ]
     },
     "execution_count": 13,
     "metadata": {},
     "output_type": "execute_result"
    }
   ],
   "source": [
    "classificador.fit(previsores_treinamento, classe_treinamento, batch_size=128, epochs=10, validation_data = (previsores_teste, classe_teste), use_multiprocessing=True)"
   ]
  },
  {
   "cell_type": "markdown",
   "metadata": {},
   "source": [
    "#### Seleção de uma imagem para ser classificada"
   ]
  },
  {
   "cell_type": "code",
   "execution_count": 15,
   "metadata": {},
   "outputs": [],
   "source": [
    "imagem_teste = x_teste[8].reshape(1, 28, 28, 1)\n",
    "imagem_teste = imagem_teste.astype('float32')\n",
    "imagem_teste /= 255"
   ]
  },
  {
   "cell_type": "code",
   "execution_count": 16,
   "metadata": {},
   "outputs": [
    {
     "data": {
      "text/plain": [
       "Text(0.5, 1.0, 'Classe 5')"
      ]
     },
     "execution_count": 16,
     "metadata": {},
     "output_type": "execute_result"
    },
    {
     "data": {
      "image/png": "[encoded data removed]",
      "text/plain": [
       "<Figure size 432x288 with 1 Axes>"
      ]
     },
     "metadata": {
      "needs_background": "light"
     },
     "output_type": "display_data"
    }
   ],
   "source": [
    "plt.imshow(x_teste[8], cmap='gray')\n",
    "plt.title('Classe ' + str(y_teste[8]))"
   ]
  },
  {
   "cell_type": "code",
   "execution_count": 18,
   "metadata": {},
   "outputs": [],
   "source": [
    "import numpy as np\n",
    "previsao = classificador.predict(imagem_teste)\n",
    "resultado = np.argmax(previsao)"
   ]
  },
  {
   "cell_type": "code",
   "execution_count": 19,
   "metadata": {},
   "outputs": [
    {
     "data": {
      "text/plain": [
       "5"
      ]
     },
     "execution_count": 19,
     "metadata": {},
     "output_type": "execute_result"
    }
   ],
   "source": [
    "resultado"
   ]
  },
  {
   "cell_type": "code",
   "execution_count": null,
   "metadata": {},
   "outputs": [],
   "source": []
  }
 ],
 "metadata": {
  "kernelspec": {
   "display_name": "Python 3",
   "language": "python",
   "name": "python3"
  },
  "language_info": {
   "codemirror_mode": {
    "name": "ipython",
    "version": 3
   },
   "file_extension": ".py",
   "mimetype": "text/x-python",
   "name": "python",
   "nbconvert_exporter": "python",
   "pygments_lexer": "ipython3",
   "version": "3.5.2"
  }
 },
 "nbformat": 4,
 "nbformat_minor": 4
}
