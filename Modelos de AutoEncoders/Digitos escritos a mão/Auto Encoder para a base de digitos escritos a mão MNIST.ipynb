{
 "cells": [
  {
   "cell_type": "code",
   "execution_count": 1,
   "metadata": {},
   "outputs": [
    {
     "name": "stderr",
     "output_type": "stream",
     "text": [
      "Using TensorFlow backend.\n"
     ]
    }
   ],
   "source": [
    "import matplotlib.pyplot as plt\n",
    "import numpy as np\n",
    "from keras.datasets import mnist\n",
    "from keras.models import Model, Sequential\n",
    "from keras.layers import Input, Dense"
   ]
  },
  {
   "cell_type": "markdown",
   "metadata": {},
   "source": [
    "#### Importar base de dados"
   ]
  },
  {
   "cell_type": "code",
   "execution_count": 2,
   "metadata": {},
   "outputs": [],
   "source": [
    "(previsores_treinamento, _), (previsores_teste, _) = mnist.load_data()"
   ]
  },
  {
   "cell_type": "markdown",
   "metadata": {},
   "source": [
    "#### Normalizar e dividir os dados"
   ]
  },
  {
   "cell_type": "code",
   "execution_count": 3,
   "metadata": {},
   "outputs": [],
   "source": [
    "previsores_treinamento = previsores_treinamento.astype('float32') / 255\n",
    "previsores_teste = previsores_teste.astype('float32') / 255"
   ]
  },
  {
   "cell_type": "code",
   "execution_count": 4,
   "metadata": {},
   "outputs": [],
   "source": [
    "previsores_treinamento = previsores_treinamento.reshape((len(previsores_treinamento), np.prod(previsores_treinamento.shape[1:])))\n",
    "previsores_teste = previsores_teste.reshape((len(previsores_teste), np.prod(previsores_teste.shape[1:])))"
   ]
  },
  {
   "cell_type": "markdown",
   "metadata": {},
   "source": [
    "#### Estrutura do Autoencoder\n",
    "- 784 - 32 - 784"
   ]
  },
  {
   "cell_type": "code",
   "execution_count": 9,
   "metadata": {},
   "outputs": [
    {
     "name": "stdout",
     "output_type": "stream",
     "text": [
      "Model: \"sequential_2\"\n",
      "_________________________________________________________________\n",
      "Layer (type)                 Output Shape              Param #   \n",
      "=================================================================\n",
      "dense_3 (Dense)              (None, 32)                25120     \n",
      "_________________________________________________________________\n",
      "dense_4 (Dense)              (None, 784)               25872     \n",
      "=================================================================\n",
      "Total params: 50,992\n",
      "Trainable params: 50,992\n",
      "Non-trainable params: 0\n",
      "_________________________________________________________________\n",
      "Train on 60000 samples, validate on 10000 samples\n",
      "Epoch 1/100\n",
      "60000/60000 [==============================] - 3s 45us/step - loss: 0.2759 - accuracy: 0.7827 - val_loss: 0.1879 - val_accuracy: 0.7984\n",
      "Epoch 2/100\n",
      "60000/60000 [==============================] - 3s 46us/step - loss: 0.1694 - accuracy: 0.8029 - val_loss: 0.1525 - val_accuracy: 0.8056\n",
      "Epoch 3/100\n",
      "60000/60000 [==============================] - 3s 45us/step - loss: 0.1430 - accuracy: 0.8074 - val_loss: 0.1326 - val_accuracy: 0.8079\n",
      "Epoch 4/100\n",
      "60000/60000 [==============================] - 3s 45us/step - loss: 0.1277 - accuracy: 0.8098 - val_loss: 0.1206 - val_accuracy: 0.8099\n",
      "Epoch 5/100\n",
      "60000/60000 [==============================] - 3s 46us/step - loss: 0.1177 - accuracy: 0.8113 - val_loss: 0.1123 - val_accuracy: 0.8109\n",
      "Epoch 6/100\n",
      "60000/60000 [==============================] - 3s 46us/step - loss: 0.1106 - accuracy: 0.8123 - val_loss: 0.1065 - val_accuracy: 0.8119\n",
      "Epoch 7/100\n",
      "60000/60000 [==============================] - 3s 45us/step - loss: 0.1055 - accuracy: 0.8129 - val_loss: 0.1021 - val_accuracy: 0.8124\n",
      "Epoch 8/100\n",
      "60000/60000 [==============================] - 3s 45us/step - loss: 0.1017 - accuracy: 0.8134 - val_loss: 0.0989 - val_accuracy: 0.8126\n",
      "Epoch 9/100\n",
      "60000/60000 [==============================] - 3s 45us/step - loss: 0.0990 - accuracy: 0.8137 - val_loss: 0.0967 - val_accuracy: 0.8129\n",
      "Epoch 10/100\n",
      "60000/60000 [==============================] - 3s 45us/step - loss: 0.0972 - accuracy: 0.8138 - val_loss: 0.0952 - val_accuracy: 0.8130\n",
      "Epoch 11/100\n",
      "60000/60000 [==============================] - 3s 46us/step - loss: 0.0960 - accuracy: 0.8140 - val_loss: 0.0944 - val_accuracy: 0.8131\n",
      "Epoch 12/100\n",
      "60000/60000 [==============================] - 3s 54us/step - loss: 0.0953 - accuracy: 0.8140 - val_loss: 0.0938 - val_accuracy: 0.8132\n",
      "Epoch 13/100\n",
      "60000/60000 [==============================] - 3s 49us/step - loss: 0.0948 - accuracy: 0.8141 - val_loss: 0.0933 - val_accuracy: 0.8132\n",
      "Epoch 14/100\n",
      "60000/60000 [==============================] - 3s 47us/step - loss: 0.0944 - accuracy: 0.8141 - val_loss: 0.0930 - val_accuracy: 0.8132\n",
      "Epoch 15/100\n",
      "60000/60000 [==============================] - 3s 46us/step - loss: 0.0942 - accuracy: 0.8141 - val_loss: 0.0929 - val_accuracy: 0.8133\n",
      "Epoch 16/100\n",
      "60000/60000 [==============================] - 3s 48us/step - loss: 0.0940 - accuracy: 0.8141 - val_loss: 0.0926 - val_accuracy: 0.8132\n",
      "Epoch 17/100\n",
      "60000/60000 [==============================] - 3s 56us/step - loss: 0.0938 - accuracy: 0.8141 - val_loss: 0.0925 - val_accuracy: 0.8133\n",
      "Epoch 18/100\n",
      "60000/60000 [==============================] - 4s 65us/step - loss: 0.0937 - accuracy: 0.8142 - val_loss: 0.0925 - val_accuracy: 0.8133\n",
      "Epoch 19/100\n",
      "60000/60000 [==============================] - 3s 54us/step - loss: 0.0936 - accuracy: 0.8142 - val_loss: 0.0923 - val_accuracy: 0.8133\n",
      "Epoch 20/100\n",
      "60000/60000 [==============================] - 3s 49us/step - loss: 0.0935 - accuracy: 0.8142 - val_loss: 0.0923 - val_accuracy: 0.8132\n",
      "Epoch 21/100\n",
      "60000/60000 [==============================] - 3s 55us/step - loss: 0.0934 - accuracy: 0.8142 - val_loss: 0.0921 - val_accuracy: 0.8133\n",
      "Epoch 22/100\n",
      "60000/60000 [==============================] - 3s 50us/step - loss: 0.0933 - accuracy: 0.8142 - val_loss: 0.0921 - val_accuracy: 0.8132\n",
      "Epoch 23/100\n",
      "60000/60000 [==============================] - 3s 55us/step - loss: 0.0933 - accuracy: 0.8142 - val_loss: 0.0920 - val_accuracy: 0.8133\n",
      "Epoch 24/100\n",
      "60000/60000 [==============================] - 3s 52us/step - loss: 0.0932 - accuracy: 0.8142 - val_loss: 0.0920 - val_accuracy: 0.8133\n",
      "Epoch 25/100\n",
      "60000/60000 [==============================] - 3s 49us/step - loss: 0.0932 - accuracy: 0.8142 - val_loss: 0.0919 - val_accuracy: 0.8133\n",
      "Epoch 26/100\n",
      "60000/60000 [==============================] - 4s 62us/step - loss: 0.0931 - accuracy: 0.8142 - val_loss: 0.0919 - val_accuracy: 0.8133\n",
      "Epoch 27/100\n",
      "60000/60000 [==============================] - 3s 50us/step - loss: 0.0931 - accuracy: 0.8142 - val_loss: 0.0919 - val_accuracy: 0.8133\n",
      "Epoch 28/100\n",
      "60000/60000 [==============================] - 3s 53us/step - loss: 0.0930 - accuracy: 0.8142 - val_loss: 0.0919 - val_accuracy: 0.8133\n",
      "Epoch 29/100\n",
      "60000/60000 [==============================] - 4s 63us/step - loss: 0.0930 - accuracy: 0.8142 - val_loss: 0.0918 - val_accuracy: 0.8133\n",
      "Epoch 30/100\n",
      "60000/60000 [==============================] - 4s 68us/step - loss: 0.0930 - accuracy: 0.8142 - val_loss: 0.0918 - val_accuracy: 0.8133\n",
      "Epoch 31/100\n",
      "60000/60000 [==============================] - 4s 59us/step - loss: 0.0929 - accuracy: 0.8142 - val_loss: 0.0918 - val_accuracy: 0.8133\n",
      "Epoch 32/100\n",
      "60000/60000 [==============================] - 3s 52us/step - loss: 0.0929 - accuracy: 0.8142 - val_loss: 0.0917 - val_accuracy: 0.8133\n",
      "Epoch 33/100\n",
      "60000/60000 [==============================] - 3s 58us/step - loss: 0.0929 - accuracy: 0.8142 - val_loss: 0.0917 - val_accuracy: 0.8134\n",
      "Epoch 34/100\n",
      "60000/60000 [==============================] - 3s 52us/step - loss: 0.0929 - accuracy: 0.8142 - val_loss: 0.0917 - val_accuracy: 0.8133\n",
      "Epoch 35/100\n",
      "60000/60000 [==============================] - 3s 56us/step - loss: 0.0929 - accuracy: 0.8142 - val_loss: 0.0917 - val_accuracy: 0.8133\n",
      "Epoch 36/100\n",
      "60000/60000 [==============================] - 3s 55us/step - loss: 0.0928 - accuracy: 0.8142 - val_loss: 0.0917 - val_accuracy: 0.8133\n",
      "Epoch 37/100\n",
      "60000/60000 [==============================] - 3s 53us/step - loss: 0.0928 - accuracy: 0.8142 - val_loss: 0.0916 - val_accuracy: 0.8133\n",
      "Epoch 38/100\n",
      "60000/60000 [==============================] - 4s 58us/step - loss: 0.0928 - accuracy: 0.8142 - val_loss: 0.0916 - val_accuracy: 0.8133\n",
      "Epoch 39/100\n",
      "60000/60000 [==============================] - 3s 52us/step - loss: 0.0927 - accuracy: 0.8142 - val_loss: 0.0916 - val_accuracy: 0.8133\n",
      "Epoch 40/100\n",
      "60000/60000 [==============================] - 3s 58us/step - loss: 0.0927 - accuracy: 0.8142 - val_loss: 0.0916 - val_accuracy: 0.8133\n",
      "Epoch 41/100\n",
      "60000/60000 [==============================] - 3s 54us/step - loss: 0.0927 - accuracy: 0.8142 - val_loss: 0.0916 - val_accuracy: 0.8133\n",
      "Epoch 42/100\n",
      "60000/60000 [==============================] - 3s 55us/step - loss: 0.0927 - accuracy: 0.8142 - val_loss: 0.0916 - val_accuracy: 0.8133\n",
      "Epoch 43/100\n",
      "60000/60000 [==============================] - 3s 57us/step - loss: 0.0927 - accuracy: 0.8142 - val_loss: 0.0915 - val_accuracy: 0.8133\n",
      "Epoch 44/100\n",
      "60000/60000 [==============================] - 3s 54us/step - loss: 0.0927 - accuracy: 0.8142 - val_loss: 0.0916 - val_accuracy: 0.8133\n",
      "Epoch 45/100\n",
      "60000/60000 [==============================] - 4s 59us/step - loss: 0.0927 - accuracy: 0.8142 - val_loss: 0.0915 - val_accuracy: 0.8133\n",
      "Epoch 46/100\n",
      "60000/60000 [==============================] - 6s 92us/step - loss: 0.0926 - accuracy: 0.8142 - val_loss: 0.0915 - val_accuracy: 0.8133\n",
      "Epoch 47/100\n",
      "60000/60000 [==============================] - 4s 70us/step - loss: 0.0926 - accuracy: 0.8142 - val_loss: 0.0916 - val_accuracy: 0.8134\n",
      "Epoch 48/100\n",
      "60000/60000 [==============================] - 4s 61us/step - loss: 0.0926 - accuracy: 0.8142 - val_loss: 0.0915 - val_accuracy: 0.8133\n",
      "Epoch 49/100\n",
      "60000/60000 [==============================] - 4s 66us/step - loss: 0.0926 - accuracy: 0.8142 - val_loss: 0.0916 - val_accuracy: 0.8133\n",
      "Epoch 50/100\n",
      "60000/60000 [==============================] - 3s 58us/step - loss: 0.0926 - accuracy: 0.8142 - val_loss: 0.0915 - val_accuracy: 0.8133\n",
      "Epoch 51/100\n",
      "60000/60000 [==============================] - 3s 51us/step - loss: 0.0926 - accuracy: 0.8142 - val_loss: 0.0915 - val_accuracy: 0.8134\n",
      "Epoch 52/100\n",
      "60000/60000 [==============================] - 3s 56us/step - loss: 0.0926 - accuracy: 0.8142 - val_loss: 0.0915 - val_accuracy: 0.8133\n",
      "Epoch 53/100\n",
      "60000/60000 [==============================] - 5s 75us/step - loss: 0.0926 - accuracy: 0.8142 - val_loss: 0.0915 - val_accuracy: 0.8133\n",
      "Epoch 54/100\n",
      "60000/60000 [==============================] - 4s 68us/step - loss: 0.0925 - accuracy: 0.8142 - val_loss: 0.0915 - val_accuracy: 0.8133\n",
      "Epoch 55/100\n",
      "60000/60000 [==============================] - 4s 59us/step - loss: 0.0925 - accuracy: 0.8142 - val_loss: 0.0915 - val_accuracy: 0.8133\n",
      "Epoch 56/100\n",
      "60000/60000 [==============================] - 4s 65us/step - loss: 0.0925 - accuracy: 0.8142 - val_loss: 0.0915 - val_accuracy: 0.8134\n",
      "Epoch 57/100\n",
      "60000/60000 [==============================] - 4s 60us/step - loss: 0.0925 - accuracy: 0.8142 - val_loss: 0.0914 - val_accuracy: 0.8133\n",
      "Epoch 58/100\n",
      "60000/60000 [==============================] - 4s 63us/step - loss: 0.0925 - accuracy: 0.8142 - val_loss: 0.0914 - val_accuracy: 0.8133\n",
      "Epoch 59/100\n",
      "60000/60000 [==============================] - 4s 62us/step - loss: 0.0925 - accuracy: 0.8142 - val_loss: 0.0914 - val_accuracy: 0.8133\n",
      "Epoch 60/100\n",
      "60000/60000 [==============================] - 4s 62us/step - loss: 0.0925 - accuracy: 0.8142 - val_loss: 0.0914 - val_accuracy: 0.8134\n",
      "Epoch 61/100\n",
      "60000/60000 [==============================] - 4s 62us/step - loss: 0.0925 - accuracy: 0.8142 - val_loss: 0.0914 - val_accuracy: 0.8133\n",
      "Epoch 62/100\n",
      "60000/60000 [==============================] - 4s 60us/step - loss: 0.0925 - accuracy: 0.8142 - val_loss: 0.0914 - val_accuracy: 0.8133\n",
      "Epoch 63/100\n",
      "60000/60000 [==============================] - 4s 64us/step - loss: 0.0924 - accuracy: 0.8142 - val_loss: 0.0914 - val_accuracy: 0.8134\n",
      "Epoch 64/100\n",
      "60000/60000 [==============================] - 4s 59us/step - loss: 0.0924 - accuracy: 0.8142 - val_loss: 0.0913 - val_accuracy: 0.8133\n",
      "Epoch 65/100\n",
      "60000/60000 [==============================] - 4s 65us/step - loss: 0.0924 - accuracy: 0.8142 - val_loss: 0.0914 - val_accuracy: 0.8133\n",
      "Epoch 66/100\n",
      "60000/60000 [==============================] - 3s 58us/step - loss: 0.0924 - accuracy: 0.8142 - val_loss: 0.0914 - val_accuracy: 0.8133\n",
      "Epoch 67/100\n",
      "60000/60000 [==============================] - 4s 66us/step - loss: 0.0924 - accuracy: 0.8142 - val_loss: 0.0915 - val_accuracy: 0.8134\n",
      "Epoch 68/100\n",
      "60000/60000 [==============================] - 3s 58us/step - loss: 0.0924 - accuracy: 0.8142 - val_loss: 0.0915 - val_accuracy: 0.8134\n",
      "Epoch 69/100\n",
      "60000/60000 [==============================] - 4s 65us/step - loss: 0.0924 - accuracy: 0.8142 - val_loss: 0.0913 - val_accuracy: 0.8133\n",
      "Epoch 70/100\n",
      "60000/60000 [==============================] - 4s 59us/step - loss: 0.0924 - accuracy: 0.8143 - val_loss: 0.0913 - val_accuracy: 0.8133\n",
      "Epoch 71/100\n",
      "60000/60000 [==============================] - 4s 64us/step - loss: 0.0924 - accuracy: 0.8142 - val_loss: 0.0913 - val_accuracy: 0.8133\n",
      "Epoch 72/100\n",
      "60000/60000 [==============================] - 4s 62us/step - loss: 0.0924 - accuracy: 0.8142 - val_loss: 0.0913 - val_accuracy: 0.8133\n",
      "Epoch 73/100\n",
      "60000/60000 [==============================] - 4s 63us/step - loss: 0.0923 - accuracy: 0.8143 - val_loss: 0.0913 - val_accuracy: 0.8134\n",
      "Epoch 74/100\n",
      "60000/60000 [==============================] - 4s 62us/step - loss: 0.0923 - accuracy: 0.8142 - val_loss: 0.0913 - val_accuracy: 0.8133\n",
      "Epoch 75/100\n",
      "60000/60000 [==============================] - 4s 63us/step - loss: 0.0923 - accuracy: 0.8143 - val_loss: 0.0913 - val_accuracy: 0.8133\n",
      "Epoch 76/100\n",
      "60000/60000 [==============================] - 4s 63us/step - loss: 0.0923 - accuracy: 0.8143 - val_loss: 0.0913 - val_accuracy: 0.8133\n",
      "Epoch 77/100\n",
      "60000/60000 [==============================] - 4s 61us/step - loss: 0.0923 - accuracy: 0.8143 - val_loss: 0.0913 - val_accuracy: 0.8133\n",
      "Epoch 78/100\n",
      "60000/60000 [==============================] - 4s 65us/step - loss: 0.0923 - accuracy: 0.8143 - val_loss: 0.0913 - val_accuracy: 0.8134\n",
      "Epoch 79/100\n",
      "60000/60000 [==============================] - 4s 70us/step - loss: 0.0923 - accuracy: 0.8143 - val_loss: 0.0913 - val_accuracy: 0.8132\n",
      "Epoch 80/100\n",
      "60000/60000 [==============================] - 4s 62us/step - loss: 0.0923 - accuracy: 0.8143 - val_loss: 0.0912 - val_accuracy: 0.8133\n",
      "Epoch 81/100\n",
      "60000/60000 [==============================] - 3s 57us/step - loss: 0.0923 - accuracy: 0.8143 - val_loss: 0.0913 - val_accuracy: 0.8133\n",
      "Epoch 82/100\n",
      "60000/60000 [==============================] - 4s 63us/step - loss: 0.0923 - accuracy: 0.8143 - val_loss: 0.0912 - val_accuracy: 0.8133\n",
      "Epoch 83/100\n",
      "60000/60000 [==============================] - 3s 52us/step - loss: 0.0922 - accuracy: 0.8143 - val_loss: 0.0912 - val_accuracy: 0.8133\n",
      "Epoch 84/100\n",
      "60000/60000 [==============================] - 4s 59us/step - loss: 0.0923 - accuracy: 0.8143 - val_loss: 0.0912 - val_accuracy: 0.8133\n",
      "Epoch 85/100\n",
      "60000/60000 [==============================] - 3s 55us/step - loss: 0.0922 - accuracy: 0.8143 - val_loss: 0.0912 - val_accuracy: 0.8133\n",
      "Epoch 86/100\n",
      "60000/60000 [==============================] - 3s 58us/step - loss: 0.0922 - accuracy: 0.8143 - val_loss: 0.0913 - val_accuracy: 0.8133\n",
      "Epoch 87/100\n",
      "60000/60000 [==============================] - 4s 61us/step - loss: 0.0922 - accuracy: 0.8143 - val_loss: 0.0912 - val_accuracy: 0.8133\n",
      "Epoch 88/100\n",
      "60000/60000 [==============================] - 3s 56us/step - loss: 0.0922 - accuracy: 0.8143 - val_loss: 0.0912 - val_accuracy: 0.8133\n",
      "Epoch 89/100\n",
      "60000/60000 [==============================] - 4s 61us/step - loss: 0.0922 - accuracy: 0.8143 - val_loss: 0.0912 - val_accuracy: 0.8134\n",
      "Epoch 90/100\n",
      "60000/60000 [==============================] - 3s 53us/step - loss: 0.0922 - accuracy: 0.8143 - val_loss: 0.0912 - val_accuracy: 0.8133\n",
      "Epoch 91/100\n",
      "60000/60000 [==============================] - 4s 61us/step - loss: 0.0922 - accuracy: 0.8143 - val_loss: 0.0912 - val_accuracy: 0.8133\n",
      "Epoch 92/100\n",
      "60000/60000 [==============================] - 3s 55us/step - loss: 0.0922 - accuracy: 0.8143 - val_loss: 0.0912 - val_accuracy: 0.8134\n",
      "Epoch 93/100\n",
      "60000/60000 [==============================] - 3s 57us/step - loss: 0.0922 - accuracy: 0.8143 - val_loss: 0.0911 - val_accuracy: 0.8133\n",
      "Epoch 94/100\n",
      "60000/60000 [==============================] - 4s 59us/step - loss: 0.0922 - accuracy: 0.8143 - val_loss: 0.0911 - val_accuracy: 0.8133\n",
      "Epoch 95/100\n",
      "60000/60000 [==============================] - 3s 55us/step - loss: 0.0922 - accuracy: 0.8143 - val_loss: 0.0912 - val_accuracy: 0.8133\n",
      "Epoch 96/100\n",
      "60000/60000 [==============================] - 4s 60us/step - loss: 0.0922 - accuracy: 0.8143 - val_loss: 0.0912 - val_accuracy: 0.8134\n",
      "Epoch 97/100\n",
      "60000/60000 [==============================] - 3s 55us/step - loss: 0.0921 - accuracy: 0.8143 - val_loss: 0.0911 - val_accuracy: 0.8134\n",
      "Epoch 98/100\n",
      "60000/60000 [==============================] - 4s 60us/step - loss: 0.0921 - accuracy: 0.8143 - val_loss: 0.0911 - val_accuracy: 0.8134\n",
      "Epoch 99/100\n",
      "60000/60000 [==============================] - 3s 54us/step - loss: 0.0921 - accuracy: 0.8143 - val_loss: 0.0911 - val_accuracy: 0.8134\n",
      "Epoch 100/100\n",
      "60000/60000 [==============================] - 3s 56us/step - loss: 0.0921 - accuracy: 0.8143 - val_loss: 0.0911 - val_accuracy: 0.8133\n"
     ]
    },
    {
     "data": {
      "text/plain": [
       "<keras.callbacks.callbacks.History at 0x7fc548141fd0>"
      ]
     },
     "execution_count": 9,
     "metadata": {},
     "output_type": "execute_result"
    }
   ],
   "source": [
    "# fator_compactacao = 784 / 32\n",
    "autoencoder = Sequential()\n",
    "autoencoder.add(Dense(units = 32, activation = 'relu', input_dim = 784))\n",
    "autoencoder.add(Dense(units = 784, activation = 'sigmoid'))\n",
    "autoencoder.summary()\n",
    "autoencoder.compile(optimizer = 'adam', loss = 'binary_crossentropy',\n",
    "                    metrics = ['accuracy'])\n",
    "autoencoder.fit(previsores_treinamento, previsores_treinamento,\n",
    "                epochs = 100, batch_size = 256,\n",
    "                validation_data = (previsores_teste, previsores_teste))"
   ]
  },
  {
   "cell_type": "markdown",
   "metadata": {},
   "source": [
    "#### Encoder"
   ]
  },
  {
   "cell_type": "code",
   "execution_count": 6,
   "metadata": {},
   "outputs": [
    {
     "name": "stdout",
     "output_type": "stream",
     "text": [
      "Model: \"model_1\"\n",
      "_________________________________________________________________\n",
      "Layer (type)                 Output Shape              Param #   \n",
      "=================================================================\n",
      "input_1 (InputLayer)         (None, 784)               0         \n",
      "_________________________________________________________________\n",
      "dense_1 (Dense)              (None, 32)                25120     \n",
      "=================================================================\n",
      "Total params: 25,120\n",
      "Trainable params: 25,120\n",
      "Non-trainable params: 0\n",
      "_________________________________________________________________\n"
     ]
    }
   ],
   "source": [
    "dimensao_original = Input(shape=(784,))\n",
    "camada_encoder = autoencoder.layers[0]\n",
    "encoder = Model(dimensao_original, camada_encoder(dimensao_original))\n",
    "encoder.summary()"
   ]
  },
  {
   "cell_type": "code",
   "execution_count": 7,
   "metadata": {},
   "outputs": [],
   "source": [
    "imagens_codificadas = encoder.predict(previsores_teste)\n",
    "imagens_decodificadas = autoencoder.predict(previsores_teste)"
   ]
  },
  {
   "cell_type": "markdown",
   "metadata": {},
   "source": [
    "#### Comparação entre as imagens originais, codificadas e decodificadas"
   ]
  },
  {
   "cell_type": "code",
   "execution_count": 8,
   "metadata": {},
   "outputs": [
    {
     "data": {
      "image/png": "[encoded data removed]",
      "text/plain": [
       "<Figure size 1296x1296 with 30 Axes>"
      ]
     },
     "metadata": {},
     "output_type": "display_data"
    }
   ],
   "source": [
    "numero_imagens = 10\n",
    "imagens_teste = np.random.randint(previsores_teste.shape[0], size = numero_imagens)\n",
    "plt.figure(figsize=(18,18))\n",
    "for i, indice_imagem in enumerate(imagens_teste):\n",
    "    #print(i)\n",
    "    #print(indice_imagem)\n",
    "    \n",
    "    # imagem original\n",
    "    eixo = plt.subplot(10,10,i + 1)\n",
    "    plt.imshow(previsores_teste[indice_imagem].reshape(28,28))\n",
    "    plt.xticks(())\n",
    "    plt.yticks(())\n",
    "    \n",
    "    # imagem codificada\n",
    "    eixo = plt.subplot(10,10,i + 1 + numero_imagens)\n",
    "    plt.imshow(imagens_codificadas[indice_imagem].reshape(8,4))\n",
    "    plt.xticks(())\n",
    "    plt.yticks(())\n",
    "    \n",
    "     # imagem reconstruída\n",
    "    eixo = plt.subplot(10,10,i + 1 + numero_imagens * 2)\n",
    "    plt.imshow(imagens_decodificadas[indice_imagem].reshape(28,28))\n",
    "    plt.xticks(())\n",
    "    plt.yticks(())"
   ]
  }
 ],
 "metadata": {
  "kernelspec": {
   "display_name": "Python 3",
   "language": "python",
   "name": "python3"
  },
  "language_info": {
   "codemirror_mode": {
    "name": "ipython",
    "version": 3
   },
   "file_extension": ".py",
   "mimetype": "text/x-python",
   "name": "python",
   "nbconvert_exporter": "python",
   "pygments_lexer": "ipython3",
   "version": "3.5.2"
  }
 },
 "nbformat": 4,
 "nbformat_minor": 4
}
