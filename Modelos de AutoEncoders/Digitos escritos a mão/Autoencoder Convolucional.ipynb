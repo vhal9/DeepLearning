{
 "cells": [
  {
   "cell_type": "code",
   "execution_count": 1,
   "metadata": {},
   "outputs": [
    {
     "name": "stderr",
     "output_type": "stream",
     "text": [
      "Using TensorFlow backend.\n"
     ]
    }
   ],
   "source": [
    "import matplotlib.pyplot as plt\n",
    "import numpy as np\n",
    "from keras.datasets import mnist\n",
    "from keras.models import Model, Sequential\n",
    "from keras.layers import Input, Dense, Conv2D, MaxPooling2D, UpSampling2D, Flatten, Reshape"
   ]
  },
  {
   "cell_type": "markdown",
   "metadata": {},
   "source": [
    "#### carregar a base de dados"
   ]
  },
  {
   "cell_type": "code",
   "execution_count": 2,
   "metadata": {},
   "outputs": [],
   "source": [
    "(previsores_treinamento, _), (previsores_teste, _) = mnist.load_data()\n",
    "previsores_treinamento = previsores_treinamento.reshape((len(previsores_treinamento), 28, 28, 1))\n",
    "previsores_teste = previsores_teste.reshape((len(previsores_teste), 28, 28, 1))"
   ]
  },
  {
   "cell_type": "markdown",
   "metadata": {},
   "source": [
    "#### Normalização dos dados"
   ]
  },
  {
   "cell_type": "code",
   "execution_count": 3,
   "metadata": {},
   "outputs": [],
   "source": [
    "previsores_treinamento = previsores_treinamento.astype('float32') / 255\n",
    "previsores_teste = previsores_teste.astype('float32') / 255"
   ]
  },
  {
   "cell_type": "markdown",
   "metadata": {},
   "source": [
    "#### Estrutura do modelo"
   ]
  },
  {
   "cell_type": "code",
   "execution_count": 4,
   "metadata": {},
   "outputs": [],
   "source": [
    "autoencoder = Sequential()\n",
    "\n",
    "# Encoder\n",
    "autoencoder.add(Conv2D(filters = 16, kernel_size = (3,3), activation = 'relu', input_shape=(28,28,1)))\n",
    "autoencoder.add(MaxPooling2D(pool_size = (2,2)))\n",
    "\n",
    "autoencoder.add(Conv2D(filters = 8, kernel_size = (3,3), activation = 'relu', padding='same'))\n",
    "autoencoder.add(MaxPooling2D(pool_size = (2,2), padding='same'))\n",
    "\n",
    "# 4, 4, 8\n",
    "autoencoder.add(Conv2D(filters = 8, kernel_size = (3,3), activation = 'relu', padding='same', strides = (2,2)))\n",
    "\n",
    "autoencoder.add(Flatten())\n",
    "\n",
    "autoencoder.add(Reshape((4,4,8)))\n",
    "\n",
    "# Decoder\n",
    "autoencoder.add(Conv2D(filters = 8, kernel_size = (3,3), activation = 'relu', padding='same'))\n",
    "autoencoder.add(UpSampling2D(size = (2,2)))\n",
    "autoencoder.add(Conv2D(filters = 8, kernel_size = (3,3), activation = 'relu', padding='same'))\n",
    "autoencoder.add(UpSampling2D(size = (2,2)))\n",
    "autoencoder.add(Conv2D(filters = 16, kernel_size = (3,3), activation = 'relu'))\n",
    "autoencoder.add(UpSampling2D(size = (2,2)))\n",
    "autoencoder.add(Conv2D(filters = 1, kernel_size = (3,3), activation = 'sigmoid', padding='same'))"
   ]
  },
  {
   "cell_type": "code",
   "execution_count": 5,
   "metadata": {},
   "outputs": [
    {
     "name": "stdout",
     "output_type": "stream",
     "text": [
      "Model: \"sequential_1\"\n",
      "_________________________________________________________________\n",
      "Layer (type)                 Output Shape              Param #   \n",
      "=================================================================\n",
      "conv2d_1 (Conv2D)            (None, 26, 26, 16)        160       \n",
      "_________________________________________________________________\n",
      "max_pooling2d_1 (MaxPooling2 (None, 13, 13, 16)        0         \n",
      "_________________________________________________________________\n",
      "conv2d_2 (Conv2D)            (None, 13, 13, 8)         1160      \n",
      "_________________________________________________________________\n",
      "max_pooling2d_2 (MaxPooling2 (None, 7, 7, 8)           0         \n",
      "_________________________________________________________________\n",
      "conv2d_3 (Conv2D)            (None, 4, 4, 8)           584       \n",
      "_________________________________________________________________\n",
      "flatten_1 (Flatten)          (None, 128)               0         \n",
      "_________________________________________________________________\n",
      "reshape_1 (Reshape)          (None, 4, 4, 8)           0         \n",
      "_________________________________________________________________\n",
      "conv2d_4 (Conv2D)            (None, 4, 4, 8)           584       \n",
      "_________________________________________________________________\n",
      "up_sampling2d_1 (UpSampling2 (None, 8, 8, 8)           0         \n",
      "_________________________________________________________________\n",
      "conv2d_5 (Conv2D)            (None, 8, 8, 8)           584       \n",
      "_________________________________________________________________\n",
      "up_sampling2d_2 (UpSampling2 (None, 16, 16, 8)         0         \n",
      "_________________________________________________________________\n",
      "conv2d_6 (Conv2D)            (None, 14, 14, 16)        1168      \n",
      "_________________________________________________________________\n",
      "up_sampling2d_3 (UpSampling2 (None, 28, 28, 16)        0         \n",
      "_________________________________________________________________\n",
      "conv2d_7 (Conv2D)            (None, 28, 28, 1)         145       \n",
      "=================================================================\n",
      "Total params: 4,385\n",
      "Trainable params: 4,385\n",
      "Non-trainable params: 0\n",
      "_________________________________________________________________\n"
     ]
    }
   ],
   "source": [
    "autoencoder.summary()"
   ]
  },
  {
   "cell_type": "markdown",
   "metadata": {},
   "source": [
    "#### Treinamento"
   ]
  },
  {
   "cell_type": "code",
   "execution_count": 6,
   "metadata": {},
   "outputs": [
    {
     "name": "stdout",
     "output_type": "stream",
     "text": [
      "Train on 60000 samples, validate on 10000 samples\n",
      "Epoch 1/10\n",
      "60000/60000 [==============================] - 77s 1ms/step - loss: 0.2853 - accuracy: 0.7959 - val_loss: 0.1640 - val_accuracy: 0.7977\n",
      "Epoch 2/10\n",
      "60000/60000 [==============================] - 83s 1ms/step - loss: 0.1497 - accuracy: 0.8010 - val_loss: 0.1363 - val_accuracy: 0.8052\n",
      "Epoch 3/10\n",
      "60000/60000 [==============================] - 75s 1ms/step - loss: 0.1299 - accuracy: 0.8063 - val_loss: 0.1231 - val_accuracy: 0.8068\n",
      "Epoch 4/10\n",
      "60000/60000 [==============================] - 88s 1ms/step - loss: 0.1207 - accuracy: 0.8084 - val_loss: 0.1166 - val_accuracy: 0.8086\n",
      "Epoch 5/10\n",
      "60000/60000 [==============================] - 82s 1ms/step - loss: 0.1157 - accuracy: 0.8094 - val_loss: 0.1135 - val_accuracy: 0.8079\n",
      "Epoch 6/10\n",
      "60000/60000 [==============================] - 78s 1ms/step - loss: 0.1126 - accuracy: 0.8100 - val_loss: 0.1099 - val_accuracy: 0.8093\n",
      "Epoch 7/10\n",
      "60000/60000 [==============================] - 72s 1ms/step - loss: 0.1102 - accuracy: 0.8104 - val_loss: 0.1081 - val_accuracy: 0.8092\n",
      "Epoch 8/10\n",
      "60000/60000 [==============================] - 75s 1ms/step - loss: 0.1082 - accuracy: 0.8108 - val_loss: 0.1064 - val_accuracy: 0.8094\n",
      "Epoch 9/10\n",
      "60000/60000 [==============================] - 72s 1ms/step - loss: 0.1066 - accuracy: 0.8111 - val_loss: 0.1050 - val_accuracy: 0.8108\n",
      "Epoch 10/10\n",
      "60000/60000 [==============================] - 95s 2ms/step - loss: 0.1053 - accuracy: 0.8113 - val_loss: 0.1038 - val_accuracy: 0.8099\n"
     ]
    },
    {
     "data": {
      "text/plain": [
       "<keras.callbacks.callbacks.History at 0x7f9b39381f28>"
      ]
     },
     "execution_count": 6,
     "metadata": {},
     "output_type": "execute_result"
    }
   ],
   "source": [
    "autoencoder.compile(optimizer = 'adam', loss = 'binary_crossentropy',\n",
    "                    metrics = ['accuracy'])\n",
    "autoencoder.fit(previsores_treinamento, previsores_treinamento,\n",
    "                epochs = 10, batch_size = 256, \n",
    "                validation_data = (previsores_teste, previsores_teste))"
   ]
  },
  {
   "cell_type": "markdown",
   "metadata": {},
   "source": [
    "#### Encoder e Decoder"
   ]
  },
  {
   "cell_type": "code",
   "execution_count": 7,
   "metadata": {},
   "outputs": [
    {
     "name": "stdout",
     "output_type": "stream",
     "text": [
      "Model: \"model_1\"\n",
      "_________________________________________________________________\n",
      "Layer (type)                 Output Shape              Param #   \n",
      "=================================================================\n",
      "conv2d_1_input (InputLayer)  (None, 28, 28, 1)         0         \n",
      "_________________________________________________________________\n",
      "conv2d_1 (Conv2D)            (None, 26, 26, 16)        160       \n",
      "_________________________________________________________________\n",
      "max_pooling2d_1 (MaxPooling2 (None, 13, 13, 16)        0         \n",
      "_________________________________________________________________\n",
      "conv2d_2 (Conv2D)            (None, 13, 13, 8)         1160      \n",
      "_________________________________________________________________\n",
      "max_pooling2d_2 (MaxPooling2 (None, 7, 7, 8)           0         \n",
      "_________________________________________________________________\n",
      "conv2d_3 (Conv2D)            (None, 4, 4, 8)           584       \n",
      "_________________________________________________________________\n",
      "flatten_1 (Flatten)          (None, 128)               0         \n",
      "=================================================================\n",
      "Total params: 1,904\n",
      "Trainable params: 1,904\n",
      "Non-trainable params: 0\n",
      "_________________________________________________________________\n"
     ]
    }
   ],
   "source": [
    "encoder = Model(inputs = autoencoder.input, outputs = autoencoder.get_layer('flatten_1').output)\n",
    "encoder.summary()"
   ]
  },
  {
   "cell_type": "code",
   "execution_count": 8,
   "metadata": {},
   "outputs": [],
   "source": [
    "imagens_codificadas = encoder.predict(previsores_teste)\n",
    "imagens_decodificadas = autoencoder.predict(previsores_teste)"
   ]
  },
  {
   "cell_type": "code",
   "execution_count": 9,
   "metadata": {},
   "outputs": [
    {
     "data": {
      "image/png": "[encoded data removed]",
      "text/plain": [
       "<Figure size 1296x1296 with 30 Axes>"
      ]
     },
     "metadata": {},
     "output_type": "display_data"
    }
   ],
   "source": [
    "numero_imagens = 10\n",
    "imagens_teste = np.random.randint(previsores_teste.shape[0], size = numero_imagens)\n",
    "plt.figure(figsize=(18,18))\n",
    "for i, indice_imagem in enumerate(imagens_teste):\n",
    "    # imagem original\n",
    "    eixo = plt.subplot(10,10,i + 1)\n",
    "    plt.imshow(previsores_teste[indice_imagem].reshape(28,28))\n",
    "    plt.xticks(())\n",
    "    plt.yticks(())\n",
    "    \n",
    "    # imagem codificada\n",
    "    eixo = plt.subplot(10,10,i + 1 + numero_imagens)\n",
    "    plt.imshow(imagens_codificadas[indice_imagem].reshape(16,8))\n",
    "    plt.xticks(())\n",
    "    plt.yticks(())\n",
    "    \n",
    "     # imagem reconstruída\n",
    "    eixo = plt.subplot(10,10,i + 1 + numero_imagens * 2)\n",
    "    plt.imshow(imagens_decodificadas[indice_imagem].reshape(28,28))\n",
    "    plt.xticks(())\n",
    "    plt.yticks(())"
   ]
  },
  {
   "cell_type": "code",
   "execution_count": null,
   "metadata": {},
   "outputs": [],
   "source": []
  }
 ],
 "metadata": {
  "kernelspec": {
   "display_name": "Python 3",
   "language": "python",
   "name": "python3"
  },
  "language_info": {
   "codemirror_mode": {
    "name": "ipython",
    "version": 3
   },
   "file_extension": ".py",
   "mimetype": "text/x-python",
   "name": "python",
   "nbconvert_exporter": "python",
   "pygments_lexer": "ipython3",
   "version": "3.5.2"
  }
 },
 "nbformat": 4,
 "nbformat_minor": 4
}
