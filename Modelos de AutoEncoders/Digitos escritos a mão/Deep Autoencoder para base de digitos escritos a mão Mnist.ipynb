{
 "cells": [
  {
   "cell_type": "code",
   "execution_count": 1,
   "metadata": {},
   "outputs": [
    {
     "name": "stderr",
     "output_type": "stream",
     "text": [
      "Using TensorFlow backend.\n"
     ]
    }
   ],
   "source": [
    "import matplotlib.pyplot as plt\n",
    "import numpy as np\n",
    "from keras.datasets import mnist\n",
    "from keras.models import Model, Sequential\n",
    "from keras.layers import Input, Dense"
   ]
  },
  {
   "cell_type": "markdown",
   "metadata": {},
   "source": [
    "#### Importar base de dados"
   ]
  },
  {
   "cell_type": "code",
   "execution_count": 2,
   "metadata": {},
   "outputs": [],
   "source": [
    "(previsores_treinamento, _), (previsores_teste, _) = mnist.load_data()"
   ]
  },
  {
   "cell_type": "markdown",
   "metadata": {},
   "source": [
    "#### Normalizar e dividir os dados"
   ]
  },
  {
   "cell_type": "code",
   "execution_count": 3,
   "metadata": {},
   "outputs": [],
   "source": [
    "previsores_treinamento = previsores_treinamento.astype('float32') / 255\n",
    "previsores_teste = previsores_teste.astype('float32') / 255\n",
    "\n",
    "previsores_treinamento = previsores_treinamento.reshape((len(previsores_treinamento), np.prod(previsores_treinamento.shape[1:])))\n",
    "previsores_teste = previsores_teste.reshape((len(previsores_teste), np.prod(previsores_teste.shape[1:])))"
   ]
  },
  {
   "cell_type": "markdown",
   "metadata": {},
   "source": [
    "#### Estrutura do Autoencoder\n",
    "- 784 - 128 - 64 - 32 - 64 - 128 - 784"
   ]
  },
  {
   "cell_type": "code",
   "execution_count": 4,
   "metadata": {},
   "outputs": [],
   "source": [
    "autoencoder = Sequential()\n",
    "\n",
    "# Encode\n",
    "autoencoder.add(Dense(units = 128, activation = 'relu', input_dim = 784))\n",
    "autoencoder.add(Dense(units = 64, activation = 'relu'))\n",
    "autoencoder.add(Dense(units = 32, activation = 'relu'))\n",
    "\n",
    "# Decode\n",
    "autoencoder.add(Dense(units = 64, activation = 'relu'))\n",
    "autoencoder.add(Dense(units = 128, activation = 'relu'))\n",
    "autoencoder.add(Dense(units = 784, activation = 'sigmoid'))"
   ]
  },
  {
   "cell_type": "code",
   "execution_count": 5,
   "metadata": {},
   "outputs": [
    {
     "name": "stdout",
     "output_type": "stream",
     "text": [
      "Model: \"sequential_1\"\n",
      "_________________________________________________________________\n",
      "Layer (type)                 Output Shape              Param #   \n",
      "=================================================================\n",
      "dense_1 (Dense)              (None, 128)               100480    \n",
      "_________________________________________________________________\n",
      "dense_2 (Dense)              (None, 64)                8256      \n",
      "_________________________________________________________________\n",
      "dense_3 (Dense)              (None, 32)                2080      \n",
      "_________________________________________________________________\n",
      "dense_4 (Dense)              (None, 64)                2112      \n",
      "_________________________________________________________________\n",
      "dense_5 (Dense)              (None, 128)               8320      \n",
      "_________________________________________________________________\n",
      "dense_6 (Dense)              (None, 784)               101136    \n",
      "=================================================================\n",
      "Total params: 222,384\n",
      "Trainable params: 222,384\n",
      "Non-trainable params: 0\n",
      "_________________________________________________________________\n"
     ]
    }
   ],
   "source": [
    "autoencoder.summary()\n"
   ]
  },
  {
   "cell_type": "code",
   "execution_count": 6,
   "metadata": {},
   "outputs": [],
   "source": [
    "autoencoder.compile(optimizer = 'adam', loss = 'binary_crossentropy', metrics = ['accuracy'])"
   ]
  },
  {
   "cell_type": "markdown",
   "metadata": {},
   "source": [
    "#### Treinamento"
   ]
  },
  {
   "cell_type": "code",
   "execution_count": 7,
   "metadata": {},
   "outputs": [
    {
     "name": "stdout",
     "output_type": "stream",
     "text": [
      "Train on 60000 samples, validate on 10000 samples\n",
      "Epoch 1/50\n",
      "60000/60000 [==============================] - 5s 88us/step - loss: 0.2370 - accuracy: 0.7867 - val_loss: 0.1621 - val_accuracy: 0.8017\n",
      "Epoch 2/50\n",
      "60000/60000 [==============================] - 6s 93us/step - loss: 0.1491 - accuracy: 0.8055 - val_loss: 0.1372 - val_accuracy: 0.8054\n",
      "Epoch 3/50\n",
      "60000/60000 [==============================] - 5s 92us/step - loss: 0.1312 - accuracy: 0.8088 - val_loss: 0.1238 - val_accuracy: 0.8090\n",
      "Epoch 4/50\n",
      "60000/60000 [==============================] - 7s 118us/step - loss: 0.1218 - accuracy: 0.8103 - val_loss: 0.1172 - val_accuracy: 0.8101\n",
      "Epoch 5/50\n",
      "60000/60000 [==============================] - 6s 101us/step - loss: 0.1158 - accuracy: 0.8112 - val_loss: 0.1120 - val_accuracy: 0.8108\n",
      "Epoch 6/50\n",
      "60000/60000 [==============================] - 6s 108us/step - loss: 0.1115 - accuracy: 0.8118 - val_loss: 0.1084 - val_accuracy: 0.8107\n",
      "Epoch 7/50\n",
      "60000/60000 [==============================] - 6s 106us/step - loss: 0.1080 - accuracy: 0.8122 - val_loss: 0.1050 - val_accuracy: 0.8117\n",
      "Epoch 8/50\n",
      "60000/60000 [==============================] - 6s 102us/step - loss: 0.1053 - accuracy: 0.8126 - val_loss: 0.1029 - val_accuracy: 0.8118\n",
      "Epoch 9/50\n",
      "60000/60000 [==============================] - 6s 101us/step - loss: 0.1032 - accuracy: 0.8128 - val_loss: 0.1010 - val_accuracy: 0.8121\n",
      "Epoch 10/50\n",
      "60000/60000 [==============================] - 6s 103us/step - loss: 0.1013 - accuracy: 0.8130 - val_loss: 0.0994 - val_accuracy: 0.8123\n",
      "Epoch 11/50\n",
      "60000/60000 [==============================] - 7s 109us/step - loss: 0.0998 - accuracy: 0.8132 - val_loss: 0.0979 - val_accuracy: 0.8125\n",
      "Epoch 12/50\n",
      "60000/60000 [==============================] - 6s 100us/step - loss: 0.0985 - accuracy: 0.8133 - val_loss: 0.0972 - val_accuracy: 0.8126\n",
      "Epoch 13/50\n",
      "60000/60000 [==============================] - 8s 133us/step - loss: 0.0975 - accuracy: 0.8134 - val_loss: 0.0960 - val_accuracy: 0.8125\n",
      "Epoch 14/50\n",
      "60000/60000 [==============================] - 7s 120us/step - loss: 0.0965 - accuracy: 0.8135 - val_loss: 0.0951 - val_accuracy: 0.8128\n",
      "Epoch 15/50\n",
      "60000/60000 [==============================] - 7s 121us/step - loss: 0.0956 - accuracy: 0.8136 - val_loss: 0.0943 - val_accuracy: 0.8129\n",
      "Epoch 16/50\n",
      "60000/60000 [==============================] - 7s 122us/step - loss: 0.0947 - accuracy: 0.8137 - val_loss: 0.0939 - val_accuracy: 0.8128\n",
      "Epoch 17/50\n",
      "60000/60000 [==============================] - 6s 104us/step - loss: 0.0940 - accuracy: 0.8138 - val_loss: 0.0930 - val_accuracy: 0.8130\n",
      "Epoch 18/50\n",
      "60000/60000 [==============================] - 8s 133us/step - loss: 0.0932 - accuracy: 0.8139 - val_loss: 0.0923 - val_accuracy: 0.8131\n",
      "Epoch 19/50\n",
      "60000/60000 [==============================] - 8s 127us/step - loss: 0.0926 - accuracy: 0.8139 - val_loss: 0.0915 - val_accuracy: 0.8129\n",
      "Epoch 20/50\n",
      "60000/60000 [==============================] - 7s 122us/step - loss: 0.0919 - accuracy: 0.8140 - val_loss: 0.0910 - val_accuracy: 0.8131\n",
      "Epoch 21/50\n",
      "60000/60000 [==============================] - 7s 123us/step - loss: 0.0914 - accuracy: 0.8140 - val_loss: 0.0905 - val_accuracy: 0.8131\n",
      "Epoch 22/50\n",
      "60000/60000 [==============================] - 7s 123us/step - loss: 0.0909 - accuracy: 0.8141 - val_loss: 0.0899 - val_accuracy: 0.8130\n",
      "Epoch 23/50\n",
      "60000/60000 [==============================] - 7s 122us/step - loss: 0.0904 - accuracy: 0.8141 - val_loss: 0.0894 - val_accuracy: 0.8132\n",
      "Epoch 24/50\n",
      "60000/60000 [==============================] - 7s 122us/step - loss: 0.0900 - accuracy: 0.8141 - val_loss: 0.0891 - val_accuracy: 0.8133\n",
      "Epoch 25/50\n",
      "60000/60000 [==============================] - 7s 122us/step - loss: 0.0895 - accuracy: 0.8142 - val_loss: 0.0889 - val_accuracy: 0.8133\n",
      "Epoch 26/50\n",
      "60000/60000 [==============================] - 7s 120us/step - loss: 0.0892 - accuracy: 0.8142 - val_loss: 0.0884 - val_accuracy: 0.8133\n",
      "Epoch 27/50\n",
      "60000/60000 [==============================] - 7s 121us/step - loss: 0.0887 - accuracy: 0.8143 - val_loss: 0.0877 - val_accuracy: 0.8133\n",
      "Epoch 28/50\n",
      "60000/60000 [==============================] - 7s 121us/step - loss: 0.0884 - accuracy: 0.8143 - val_loss: 0.0876 - val_accuracy: 0.8134\n",
      "Epoch 29/50\n",
      "60000/60000 [==============================] - 9s 157us/step - loss: 0.0881 - accuracy: 0.8143 - val_loss: 0.0874 - val_accuracy: 0.8134\n",
      "Epoch 30/50\n",
      "60000/60000 [==============================] - 9s 148us/step - loss: 0.0878 - accuracy: 0.8143 - val_loss: 0.0868 - val_accuracy: 0.8134\n",
      "Epoch 31/50\n",
      "60000/60000 [==============================] - 8s 127us/step - loss: 0.0875 - accuracy: 0.8144 - val_loss: 0.0867 - val_accuracy: 0.8134\n",
      "Epoch 32/50\n",
      "60000/60000 [==============================] - 9s 152us/step - loss: 0.0872 - accuracy: 0.8144 - val_loss: 0.0866 - val_accuracy: 0.8134\n",
      "Epoch 33/50\n",
      "60000/60000 [==============================] - 9s 154us/step - loss: 0.0870 - accuracy: 0.8144 - val_loss: 0.0864 - val_accuracy: 0.8134\n",
      "Epoch 34/50\n",
      "60000/60000 [==============================] - 11s 183us/step - loss: 0.0868 - accuracy: 0.8144 - val_loss: 0.0863 - val_accuracy: 0.8135\n",
      "Epoch 35/50\n",
      "60000/60000 [==============================] - 8s 133us/step - loss: 0.0866 - accuracy: 0.8144 - val_loss: 0.0860 - val_accuracy: 0.8135\n",
      "Epoch 36/50\n",
      "60000/60000 [==============================] - 12s 193us/step - loss: 0.0864 - accuracy: 0.8144 - val_loss: 0.0857 - val_accuracy: 0.8135\n",
      "Epoch 37/50\n",
      "60000/60000 [==============================] - 9s 154us/step - loss: 0.0862 - accuracy: 0.8145 - val_loss: 0.0855 - val_accuracy: 0.8135\n",
      "Epoch 38/50\n",
      "60000/60000 [==============================] - 8s 129us/step - loss: 0.0860 - accuracy: 0.8145 - val_loss: 0.0857 - val_accuracy: 0.8135\n",
      "Epoch 39/50\n",
      "60000/60000 [==============================] - 10s 174us/step - loss: 0.0859 - accuracy: 0.8145 - val_loss: 0.0852 - val_accuracy: 0.8136\n",
      "Epoch 40/50\n",
      "60000/60000 [==============================] - 10s 162us/step - loss: 0.0857 - accuracy: 0.8145 - val_loss: 0.0852 - val_accuracy: 0.8135\n",
      "Epoch 41/50\n",
      "60000/60000 [==============================] - 9s 152us/step - loss: 0.0856 - accuracy: 0.8145 - val_loss: 0.0850 - val_accuracy: 0.8135\n",
      "Epoch 42/50\n",
      "60000/60000 [==============================] - 8s 139us/step - loss: 0.0855 - accuracy: 0.8145 - val_loss: 0.0851 - val_accuracy: 0.8134\n",
      "Epoch 43/50\n",
      "60000/60000 [==============================] - 6s 107us/step - loss: 0.0853 - accuracy: 0.8145 - val_loss: 0.0849 - val_accuracy: 0.8136\n",
      "Epoch 44/50\n",
      "60000/60000 [==============================] - 11s 180us/step - loss: 0.0852 - accuracy: 0.8145 - val_loss: 0.0846 - val_accuracy: 0.8135\n",
      "Epoch 45/50\n",
      "60000/60000 [==============================] - 11s 176us/step - loss: 0.0851 - accuracy: 0.8145 - val_loss: 0.0846 - val_accuracy: 0.8136\n",
      "Epoch 46/50\n",
      "60000/60000 [==============================] - 8s 134us/step - loss: 0.0850 - accuracy: 0.8145 - val_loss: 0.0847 - val_accuracy: 0.8135\n",
      "Epoch 47/50\n",
      "60000/60000 [==============================] - 8s 132us/step - loss: 0.0849 - accuracy: 0.8146 - val_loss: 0.0842 - val_accuracy: 0.8136\n",
      "Epoch 48/50\n",
      "60000/60000 [==============================] - 11s 175us/step - loss: 0.0847 - accuracy: 0.8146 - val_loss: 0.0843 - val_accuracy: 0.8136\n",
      "Epoch 49/50\n",
      "60000/60000 [==============================] - 8s 137us/step - loss: 0.0846 - accuracy: 0.8146 - val_loss: 0.0843 - val_accuracy: 0.8136\n",
      "Epoch 50/50\n",
      "60000/60000 [==============================] - 10s 164us/step - loss: 0.0846 - accuracy: 0.8146 - val_loss: 0.0841 - val_accuracy: 0.8136\n"
     ]
    },
    {
     "data": {
      "text/plain": [
       "<keras.callbacks.callbacks.History at 0x7feb28a67fd0>"
      ]
     },
     "execution_count": 7,
     "metadata": {},
     "output_type": "execute_result"
    }
   ],
   "source": [
    "autoencoder.fit(previsores_treinamento, previsores_treinamento,\n",
    "                epochs = 50, batch_size = 256, \n",
    "                validation_data = (previsores_teste, previsores_teste))"
   ]
  },
  {
   "cell_type": "markdown",
   "metadata": {},
   "source": [
    "#### Encoder"
   ]
  },
  {
   "cell_type": "code",
   "execution_count": 8,
   "metadata": {},
   "outputs": [
    {
     "name": "stdout",
     "output_type": "stream",
     "text": [
      "Model: \"model_1\"\n",
      "_________________________________________________________________\n",
      "Layer (type)                 Output Shape              Param #   \n",
      "=================================================================\n",
      "input_1 (InputLayer)         (None, 784)               0         \n",
      "_________________________________________________________________\n",
      "dense_1 (Dense)              (None, 128)               100480    \n",
      "_________________________________________________________________\n",
      "dense_2 (Dense)              (None, 64)                8256      \n",
      "_________________________________________________________________\n",
      "dense_3 (Dense)              (None, 32)                2080      \n",
      "=================================================================\n",
      "Total params: 110,816\n",
      "Trainable params: 110,816\n",
      "Non-trainable params: 0\n",
      "_________________________________________________________________\n"
     ]
    }
   ],
   "source": [
    "dimensao_original = Input(shape=(784,))\n",
    "camada_encoder1 = autoencoder.layers[0]\n",
    "camada_encoder2 = autoencoder.layers[1]\n",
    "camada_encoder3 = autoencoder.layers[2]\n",
    "encoder = Model(dimensao_original,\n",
    "                camada_encoder3(camada_encoder2(camada_encoder1(dimensao_original))))\n",
    "encoder.summary()"
   ]
  },
  {
   "cell_type": "markdown",
   "metadata": {},
   "source": [
    "#### Base de testes"
   ]
  },
  {
   "cell_type": "code",
   "execution_count": 9,
   "metadata": {},
   "outputs": [],
   "source": [
    "imagens_codificadas = encoder.predict(previsores_teste)\n",
    "imagens_decodificadas = autoencoder.predict(previsores_teste)"
   ]
  },
  {
   "cell_type": "markdown",
   "metadata": {},
   "source": [
    "#### Visualização"
   ]
  },
  {
   "cell_type": "code",
   "execution_count": 10,
   "metadata": {},
   "outputs": [
    {
     "data": {
      "image/png": "[encoded data removed]",
      "text/plain": [
       "<Figure size 1296x1296 with 30 Axes>"
      ]
     },
     "metadata": {},
     "output_type": "display_data"
    }
   ],
   "source": [
    "numero_imagens = 10\n",
    "imagens_teste = np.random.randint(previsores_teste.shape[0], size = numero_imagens)\n",
    "plt.figure(figsize=(18,18))\n",
    "for i, indice_imagem in enumerate(imagens_teste):   \n",
    "    # imagem original\n",
    "    eixo = plt.subplot(10,10,i + 1)\n",
    "    plt.imshow(previsores_teste[indice_imagem].reshape(28,28))\n",
    "    plt.xticks(())\n",
    "    plt.yticks(())\n",
    "    \n",
    "    # imagem codificada\n",
    "    eixo = plt.subplot(10,10,i + 1 + numero_imagens)\n",
    "    plt.imshow(imagens_codificadas[indice_imagem].reshape(8,4))\n",
    "    plt.xticks(())\n",
    "    plt.yticks(())\n",
    "    \n",
    "     # imagem reconstruída\n",
    "    eixo = plt.subplot(10,10,i + 1 + numero_imagens * 2)\n",
    "    plt.imshow(imagens_decodificadas[indice_imagem].reshape(28,28))\n",
    "    plt.xticks(())\n",
    "    plt.yticks(())"
   ]
  }
 ],
 "metadata": {
  "kernelspec": {
   "display_name": "Python 3",
   "language": "python",
   "name": "python3"
  },
  "language_info": {
   "codemirror_mode": {
    "name": "ipython",
    "version": 3
   },
   "file_extension": ".py",
   "mimetype": "text/x-python",
   "name": "python",
   "nbconvert_exporter": "python",
   "pygments_lexer": "ipython3",
   "version": "3.5.2"
  }
 },
 "nbformat": 4,
 "nbformat_minor": 4
}
