{
 "cells": [
  {
   "cell_type": "markdown",
   "metadata": {},
   "source": [
    "## Agrupamento em uma base de vinhos"
   ]
  },
  {
   "cell_type": "code",
   "execution_count": 1,
   "metadata": {},
   "outputs": [],
   "source": [
    "from minisom import MiniSom\n",
    "import pandas as pd"
   ]
  },
  {
   "cell_type": "markdown",
   "metadata": {},
   "source": [
    "#### Carregar a base de dados"
   ]
  },
  {
   "cell_type": "code",
   "execution_count": 3,
   "metadata": {},
   "outputs": [],
   "source": [
    "base = pd.read_csv('../../data/base de vinhos/base_vinhos.csv')"
   ]
  },
  {
   "cell_type": "code",
   "execution_count": 18,
   "metadata": {},
   "outputs": [
    {
     "data": {
      "text/html": [
       "<div>\n",
       "<style scoped>\n",
       "    .dataframe tbody tr th:only-of-type {\n",
       "        vertical-align: middle;\n",
       "    }\n",
       "\n",
       "    .dataframe tbody tr th {\n",
       "        vertical-align: top;\n",
       "    }\n",
       "\n",
       "    .dataframe thead th {\n",
       "        text-align: right;\n",
       "    }\n",
       "</style>\n",
       "<table border=\"1\" class=\"dataframe\">\n",
       "  <thead>\n",
       "    <tr style=\"text-align: right;\">\n",
       "      <th></th>\n",
       "      <th>Class</th>\n",
       "      <th>Alcohol</th>\n",
       "      <th>Malic acid</th>\n",
       "      <th>Ash</th>\n",
       "      <th>Alcalinity of ash</th>\n",
       "      <th>Magnesium</th>\n",
       "      <th>Total phenols</th>\n",
       "      <th>Flavanoids</th>\n",
       "      <th>Nonflavanoid phenols</th>\n",
       "      <th>Proanthocyanins</th>\n",
       "      <th>Color intensity</th>\n",
       "      <th>Hue</th>\n",
       "      <th>OD280/OD315 of diluted wines</th>\n",
       "      <th>Proline</th>\n",
       "    </tr>\n",
       "  </thead>\n",
       "  <tbody>\n",
       "    <tr>\n",
       "      <th>0</th>\n",
       "      <td>1</td>\n",
       "      <td>14.23</td>\n",
       "      <td>1.71</td>\n",
       "      <td>2.43</td>\n",
       "      <td>15.6</td>\n",
       "      <td>127</td>\n",
       "      <td>2.80</td>\n",
       "      <td>3.06</td>\n",
       "      <td>0.28</td>\n",
       "      <td>2.29</td>\n",
       "      <td>5.64</td>\n",
       "      <td>1.04</td>\n",
       "      <td>3.92</td>\n",
       "      <td>1065</td>\n",
       "    </tr>\n",
       "    <tr>\n",
       "      <th>1</th>\n",
       "      <td>1</td>\n",
       "      <td>13.20</td>\n",
       "      <td>1.78</td>\n",
       "      <td>2.14</td>\n",
       "      <td>11.2</td>\n",
       "      <td>100</td>\n",
       "      <td>2.65</td>\n",
       "      <td>2.76</td>\n",
       "      <td>0.26</td>\n",
       "      <td>1.28</td>\n",
       "      <td>4.38</td>\n",
       "      <td>1.05</td>\n",
       "      <td>3.40</td>\n",
       "      <td>1050</td>\n",
       "    </tr>\n",
       "    <tr>\n",
       "      <th>2</th>\n",
       "      <td>1</td>\n",
       "      <td>13.16</td>\n",
       "      <td>2.36</td>\n",
       "      <td>2.67</td>\n",
       "      <td>18.6</td>\n",
       "      <td>101</td>\n",
       "      <td>2.80</td>\n",
       "      <td>3.24</td>\n",
       "      <td>0.30</td>\n",
       "      <td>2.81</td>\n",
       "      <td>5.68</td>\n",
       "      <td>1.03</td>\n",
       "      <td>3.17</td>\n",
       "      <td>1185</td>\n",
       "    </tr>\n",
       "    <tr>\n",
       "      <th>3</th>\n",
       "      <td>1</td>\n",
       "      <td>14.37</td>\n",
       "      <td>1.95</td>\n",
       "      <td>2.50</td>\n",
       "      <td>16.8</td>\n",
       "      <td>113</td>\n",
       "      <td>3.85</td>\n",
       "      <td>3.49</td>\n",
       "      <td>0.24</td>\n",
       "      <td>2.18</td>\n",
       "      <td>7.80</td>\n",
       "      <td>0.86</td>\n",
       "      <td>3.45</td>\n",
       "      <td>1480</td>\n",
       "    </tr>\n",
       "    <tr>\n",
       "      <th>4</th>\n",
       "      <td>1</td>\n",
       "      <td>13.24</td>\n",
       "      <td>2.59</td>\n",
       "      <td>2.87</td>\n",
       "      <td>21.0</td>\n",
       "      <td>118</td>\n",
       "      <td>2.80</td>\n",
       "      <td>2.69</td>\n",
       "      <td>0.39</td>\n",
       "      <td>1.82</td>\n",
       "      <td>4.32</td>\n",
       "      <td>1.04</td>\n",
       "      <td>2.93</td>\n",
       "      <td>735</td>\n",
       "    </tr>\n",
       "    <tr>\n",
       "      <th>5</th>\n",
       "      <td>1</td>\n",
       "      <td>14.20</td>\n",
       "      <td>1.76</td>\n",
       "      <td>2.45</td>\n",
       "      <td>15.2</td>\n",
       "      <td>112</td>\n",
       "      <td>3.27</td>\n",
       "      <td>3.39</td>\n",
       "      <td>0.34</td>\n",
       "      <td>1.97</td>\n",
       "      <td>6.75</td>\n",
       "      <td>1.05</td>\n",
       "      <td>2.85</td>\n",
       "      <td>1450</td>\n",
       "    </tr>\n",
       "    <tr>\n",
       "      <th>6</th>\n",
       "      <td>1</td>\n",
       "      <td>14.39</td>\n",
       "      <td>1.87</td>\n",
       "      <td>2.45</td>\n",
       "      <td>14.6</td>\n",
       "      <td>96</td>\n",
       "      <td>2.50</td>\n",
       "      <td>2.52</td>\n",
       "      <td>0.30</td>\n",
       "      <td>1.98</td>\n",
       "      <td>5.25</td>\n",
       "      <td>1.02</td>\n",
       "      <td>3.58</td>\n",
       "      <td>1290</td>\n",
       "    </tr>\n",
       "    <tr>\n",
       "      <th>7</th>\n",
       "      <td>1</td>\n",
       "      <td>14.06</td>\n",
       "      <td>2.15</td>\n",
       "      <td>2.61</td>\n",
       "      <td>17.6</td>\n",
       "      <td>121</td>\n",
       "      <td>2.60</td>\n",
       "      <td>2.51</td>\n",
       "      <td>0.31</td>\n",
       "      <td>1.25</td>\n",
       "      <td>5.05</td>\n",
       "      <td>1.06</td>\n",
       "      <td>3.58</td>\n",
       "      <td>1295</td>\n",
       "    </tr>\n",
       "    <tr>\n",
       "      <th>8</th>\n",
       "      <td>1</td>\n",
       "      <td>14.83</td>\n",
       "      <td>1.64</td>\n",
       "      <td>2.17</td>\n",
       "      <td>14.0</td>\n",
       "      <td>97</td>\n",
       "      <td>2.80</td>\n",
       "      <td>2.98</td>\n",
       "      <td>0.29</td>\n",
       "      <td>1.98</td>\n",
       "      <td>5.20</td>\n",
       "      <td>1.08</td>\n",
       "      <td>2.85</td>\n",
       "      <td>1045</td>\n",
       "    </tr>\n",
       "    <tr>\n",
       "      <th>9</th>\n",
       "      <td>1</td>\n",
       "      <td>13.86</td>\n",
       "      <td>1.35</td>\n",
       "      <td>2.27</td>\n",
       "      <td>16.0</td>\n",
       "      <td>98</td>\n",
       "      <td>2.98</td>\n",
       "      <td>3.15</td>\n",
       "      <td>0.22</td>\n",
       "      <td>1.85</td>\n",
       "      <td>7.22</td>\n",
       "      <td>1.01</td>\n",
       "      <td>3.55</td>\n",
       "      <td>1045</td>\n",
       "    </tr>\n",
       "  </tbody>\n",
       "</table>\n",
       "</div>"
      ],
      "text/plain": [
       "   Class  Alcohol  Malic acid   Ash   Alcalinity of ash  Magnesium  \\\n",
       "0      1    14.23        1.71  2.43                15.6        127   \n",
       "1      1    13.20        1.78  2.14                11.2        100   \n",
       "2      1    13.16        2.36  2.67                18.6        101   \n",
       "3      1    14.37        1.95  2.50                16.8        113   \n",
       "4      1    13.24        2.59  2.87                21.0        118   \n",
       "5      1    14.20        1.76  2.45                15.2        112   \n",
       "6      1    14.39        1.87  2.45                14.6         96   \n",
       "7      1    14.06        2.15  2.61                17.6        121   \n",
       "8      1    14.83        1.64  2.17                14.0         97   \n",
       "9      1    13.86        1.35  2.27                16.0         98   \n",
       "\n",
       "   Total phenols  Flavanoids  Nonflavanoid phenols  Proanthocyanins  \\\n",
       "0           2.80        3.06                  0.28             2.29   \n",
       "1           2.65        2.76                  0.26             1.28   \n",
       "2           2.80        3.24                  0.30             2.81   \n",
       "3           3.85        3.49                  0.24             2.18   \n",
       "4           2.80        2.69                  0.39             1.82   \n",
       "5           3.27        3.39                  0.34             1.97   \n",
       "6           2.50        2.52                  0.30             1.98   \n",
       "7           2.60        2.51                  0.31             1.25   \n",
       "8           2.80        2.98                  0.29             1.98   \n",
       "9           2.98        3.15                  0.22             1.85   \n",
       "\n",
       "   Color intensity   Hue  OD280/OD315 of diluted wines  Proline  \n",
       "0             5.64  1.04                          3.92     1065  \n",
       "1             4.38  1.05                          3.40     1050  \n",
       "2             5.68  1.03                          3.17     1185  \n",
       "3             7.80  0.86                          3.45     1480  \n",
       "4             4.32  1.04                          2.93      735  \n",
       "5             6.75  1.05                          2.85     1450  \n",
       "6             5.25  1.02                          3.58     1290  \n",
       "7             5.05  1.06                          3.58     1295  \n",
       "8             5.20  1.08                          2.85     1045  \n",
       "9             7.22  1.01                          3.55     1045  "
      ]
     },
     "execution_count": 18,
     "metadata": {},
     "output_type": "execute_result"
    }
   ],
   "source": [
    "base[:10]"
   ]
  },
  {
   "cell_type": "markdown",
   "metadata": {},
   "source": [
    "#### Extrair atributos previsores"
   ]
  },
  {
   "cell_type": "code",
   "execution_count": 4,
   "metadata": {},
   "outputs": [],
   "source": [
    "x = base.iloc[:,1:14].values"
   ]
  },
  {
   "cell_type": "markdown",
   "metadata": {},
   "source": [
    "#### Extrair atributo da classe"
   ]
  },
  {
   "cell_type": "code",
   "execution_count": 13,
   "metadata": {},
   "outputs": [],
   "source": [
    "y = base.iloc[:,0].values"
   ]
  },
  {
   "cell_type": "markdown",
   "metadata": {},
   "source": [
    "#### Normalização dos valores"
   ]
  },
  {
   "cell_type": "code",
   "execution_count": 14,
   "metadata": {},
   "outputs": [],
   "source": [
    "from sklearn.preprocessing import MinMaxScaler"
   ]
  },
  {
   "cell_type": "code",
   "execution_count": 15,
   "metadata": {},
   "outputs": [],
   "source": [
    "normalizador = MinMaxScaler(feature_range = (0,1))\n",
    "x = normalizador.fit_transform(x)"
   ]
  },
  {
   "cell_type": "code",
   "execution_count": 16,
   "metadata": {},
   "outputs": [
    {
     "data": {
      "text/plain": [
       "array([[0.84210526, 0.1916996 , 0.57219251, ..., 0.45528455, 0.97069597,\n",
       "        0.56134094],\n",
       "       [0.57105263, 0.2055336 , 0.4171123 , ..., 0.46341463, 0.78021978,\n",
       "        0.55064194],\n",
       "       [0.56052632, 0.3201581 , 0.70053476, ..., 0.44715447, 0.6959707 ,\n",
       "        0.64693295],\n",
       "       ...,\n",
       "       [0.58947368, 0.69960474, 0.48128342, ..., 0.08943089, 0.10622711,\n",
       "        0.39728959],\n",
       "       [0.56315789, 0.36561265, 0.54010695, ..., 0.09756098, 0.12820513,\n",
       "        0.40085592],\n",
       "       [0.81578947, 0.66403162, 0.73796791, ..., 0.10569106, 0.12087912,\n",
       "        0.20114123]])"
      ]
     },
     "execution_count": 16,
     "metadata": {},
     "output_type": "execute_result"
    }
   ],
   "source": [
    "x"
   ]
  },
  {
   "cell_type": "markdown",
   "metadata": {},
   "source": [
    "### Construção do Mapa auto orgánizavel\n",
    "- tamanho = 5 $\\sqrt{N}$\n",
    "- Base com 178 registros\n",
    "    - tamanho = 5 $\\sqrt{178}$\n",
    "    - tamanho = 65,65 células\n",
    "- Matriz de 8 x 8"
   ]
  },
  {
   "cell_type": "markdown",
   "metadata": {},
   "source": [
    "- sigma = raio (alcance dos neurônios baseado nos neurônios escolhidos como iniciais em cada grupo)"
   ]
  },
  {
   "cell_type": "code",
   "execution_count": 19,
   "metadata": {},
   "outputs": [],
   "source": [
    "som = MiniSom(x = 8, y = 8, input_len = 13,sigma = 1.0,learning_rate=0.5, random_seed = 2)"
   ]
  },
  {
   "cell_type": "markdown",
   "metadata": {},
   "source": [
    "#### Inicialização dos pesos"
   ]
  },
  {
   "cell_type": "code",
   "execution_count": 20,
   "metadata": {},
   "outputs": [],
   "source": [
    "som.random_weights_init(x)\n",
    "som.train_random(data=x, num_iteration=100)"
   ]
  },
  {
   "cell_type": "code",
   "execution_count": 21,
   "metadata": {},
   "outputs": [
    {
     "data": {
      "text/plain": [
       "array([[[0.70131949, 0.36337684, 0.56156797, 0.3118548 , 0.4185263 ,\n",
       "         0.64764234, 0.53698623, 0.31120383, 0.45919752, 0.30532271,\n",
       "         0.49349353, 0.77926949, 0.50345425],\n",
       "        [0.74861809, 0.35833314, 0.59685137, 0.3564671 , 0.42000125,\n",
       "         0.6253593 , 0.5346939 , 0.26475606, 0.40558847, 0.30929045,\n",
       "         0.4495389 , 0.79887129, 0.52846386],\n",
       "        [0.66746734, 0.25195255, 0.65024854, 0.49082793, 0.3822516 ,\n",
       "         0.61557733, 0.49725028, 0.34537729, 0.41018632, 0.26970557,\n",
       "         0.51639184, 0.74163887, 0.4366652 ],\n",
       "        [0.54170046, 0.2382528 , 0.71513533, 0.66336169, 0.42310159,\n",
       "         0.62628814, 0.52908302, 0.37463815, 0.43851813, 0.21837788,\n",
       "         0.57034468, 0.7399189 , 0.34143898],\n",
       "        [0.46115985, 0.18785568, 0.60341585, 0.59567604, 0.28955914,\n",
       "         0.50762584, 0.41401584, 0.40600125, 0.39724966, 0.15788619,\n",
       "         0.61830726, 0.64336887, 0.27236141],\n",
       "        [0.3130839 , 0.18237247, 0.55562323, 0.59056626, 0.19864228,\n",
       "         0.38796891, 0.30722605, 0.49326036, 0.35383596, 0.10566144,\n",
       "         0.58188176, 0.59137202, 0.21004009],\n",
       "        [0.29752634, 0.19665959, 0.59848242, 0.57882031, 0.33439607,\n",
       "         0.3695377 , 0.29380047, 0.47029534, 0.37616045, 0.12935312,\n",
       "         0.53158334, 0.55466208, 0.2194545 ],\n",
       "        [0.37253231, 0.31173292, 0.64612426, 0.57647323, 0.55112662,\n",
       "         0.36348519, 0.26225179, 0.33515479, 0.43886154, 0.22474672,\n",
       "         0.45729873, 0.44859322, 0.27717316]],\n",
       "\n",
       "       [[0.80301696, 0.35874418, 0.54226341, 0.25875421, 0.46561954,\n",
       "         0.689003  , 0.57861957, 0.24063189, 0.5097648 , 0.35182045,\n",
       "         0.42539346, 0.79873314, 0.50627758],\n",
       "        [0.7354582 , 0.34117914, 0.58049228, 0.32053897, 0.43618454,\n",
       "         0.63445343, 0.5508093 , 0.23592367, 0.45277103, 0.32164926,\n",
       "         0.43354599, 0.80565689, 0.47657756],\n",
       "        [0.63451914, 0.26466852, 0.60918014, 0.45448947, 0.35127173,\n",
       "         0.58867546, 0.50787489, 0.27444361, 0.42740262, 0.25964968,\n",
       "         0.49665973, 0.78352366, 0.41681747],\n",
       "        [0.46762202, 0.27350249, 0.57929417, 0.52983934, 0.31525607,\n",
       "         0.5847675 , 0.46035359, 0.33722401, 0.44151469, 0.18471567,\n",
       "         0.55315875, 0.69907257, 0.27414066],\n",
       "        [0.35936606, 0.22209056, 0.51415162, 0.49680952, 0.24088731,\n",
       "         0.54448018, 0.42845808, 0.35522063, 0.42338837, 0.14755825,\n",
       "         0.60912835, 0.63473709, 0.16895367],\n",
       "        [0.30415261, 0.17532133, 0.53294461, 0.52978569, 0.19851097,\n",
       "         0.41334688, 0.3388969 , 0.4638657 , 0.36973962, 0.1311987 ,\n",
       "         0.60107545, 0.58320616, 0.17115009],\n",
       "        [0.29323571, 0.19738318, 0.56671794, 0.5531481 , 0.29426503,\n",
       "         0.33176991, 0.27585548, 0.52415982, 0.38221282, 0.15980743,\n",
       "         0.53687065, 0.52138208, 0.21863928],\n",
       "        [0.34692955, 0.19497063, 0.54759557, 0.49887161, 0.56464532,\n",
       "         0.38911941, 0.31255401, 0.38963148, 0.51754576, 0.15759329,\n",
       "         0.54665001, 0.54106336, 0.28893985]],\n",
       "\n",
       "       [[0.78384271, 0.23883634, 0.52120259, 0.27819592, 0.50540846,\n",
       "         0.66592728, 0.56915205, 0.24104177, 0.51318251, 0.38364565,\n",
       "         0.42349427, 0.80900779, 0.49509152],\n",
       "        [0.73902103, 0.25237082, 0.54852131, 0.31467128, 0.44176881,\n",
       "         0.65325975, 0.5646526 , 0.22181902, 0.50716329, 0.36743383,\n",
       "         0.43175322, 0.78508203, 0.50904489],\n",
       "        [0.58745493, 0.22152576, 0.57203047, 0.39804502, 0.32974816,\n",
       "         0.59039901, 0.50784029, 0.24845359, 0.49113675, 0.29130767,\n",
       "         0.47145416, 0.73928092, 0.45437934],\n",
       "        [0.36445423, 0.18239552, 0.52526873, 0.43299019, 0.26774353,\n",
       "         0.59833864, 0.44673192, 0.23325278, 0.46588028, 0.18205845,\n",
       "         0.50705319, 0.67385769, 0.26673159],\n",
       "        [0.31156336, 0.20321183, 0.46244934, 0.4104233 , 0.22770073,\n",
       "         0.61793106, 0.45622307, 0.27190476, 0.44650755, 0.16312205,\n",
       "         0.59457039, 0.61650261, 0.13315491],\n",
       "        [0.3229362 , 0.19944527, 0.48253328, 0.44661405, 0.22355695,\n",
       "         0.49672793, 0.39411636, 0.3883431 , 0.39388682, 0.14398067,\n",
       "         0.61053211, 0.58250172, 0.14066687],\n",
       "        [0.31711746, 0.21607719, 0.54900708, 0.5224261 , 0.30699336,\n",
       "         0.37266644, 0.3145399 , 0.51249785, 0.39304549, 0.14615565,\n",
       "         0.5544749 , 0.52282334, 0.21780211],\n",
       "        [0.37278946, 0.17167222, 0.51103033, 0.47363771, 0.47815558,\n",
       "         0.35099141, 0.31868016, 0.52627055, 0.52858673, 0.16043322,\n",
       "         0.51799556, 0.46447136, 0.2731321 ]],\n",
       "\n",
       "       [[0.76721961, 0.18508555, 0.49529984, 0.28980214, 0.41138934,\n",
       "         0.66633848, 0.56898485, 0.23219869, 0.50323161, 0.39808668,\n",
       "         0.43734629, 0.74692649, 0.50770386],\n",
       "        [0.72517102, 0.20435792, 0.54712077, 0.33777213, 0.37909312,\n",
       "         0.6472517 , 0.55351686, 0.23791398, 0.55187792, 0.3994709 ,\n",
       "         0.43686404, 0.72586363, 0.55024364],\n",
       "        [0.65539027, 0.21510935, 0.57679469, 0.35176561, 0.32460751,\n",
       "         0.59533414, 0.53095643, 0.25220026, 0.54497517, 0.33819948,\n",
       "         0.48245787, 0.72350576, 0.56541922],\n",
       "        [0.48596362, 0.20558873, 0.5251759 , 0.37960154, 0.27101465,\n",
       "         0.55468445, 0.46089375, 0.29000273, 0.45551979, 0.24536348,\n",
       "         0.51162472, 0.65192559, 0.37804304],\n",
       "        [0.39215968, 0.19568601, 0.47126016, 0.3902481 , 0.25311028,\n",
       "         0.52286619, 0.3999965 , 0.37340757, 0.37701825, 0.19419184,\n",
       "         0.56589413, 0.554968  , 0.20949783],\n",
       "        [0.40713312, 0.20199198, 0.46786747, 0.39470779, 0.27787859,\n",
       "         0.43860666, 0.3016685 , 0.52709098, 0.27170003, 0.20744009,\n",
       "         0.52715084, 0.42446942, 0.19646419],\n",
       "        [0.43471748, 0.20344368, 0.49041672, 0.4075989 , 0.3244099 ,\n",
       "         0.39973706, 0.30834878, 0.52479676, 0.32628667, 0.19147714,\n",
       "         0.51829978, 0.48553912, 0.26999415],\n",
       "        [0.42791961, 0.23189417, 0.5587202 , 0.44867837, 0.37058297,\n",
       "         0.41577067, 0.35516246, 0.47923518, 0.41018095, 0.19424556,\n",
       "         0.49772873, 0.56667064, 0.33960039]],\n",
       "\n",
       "       [[0.68408943, 0.20424422, 0.45335676, 0.30810349, 0.319201  ,\n",
       "         0.63863941, 0.5612961 , 0.25002663, 0.50764243, 0.40980642,\n",
       "         0.41644991, 0.61799692, 0.4526713 ],\n",
       "        [0.71492658, 0.20907554, 0.49809012, 0.30177555, 0.30953119,\n",
       "         0.61923505, 0.53439819, 0.260928  , 0.52981497, 0.38544229,\n",
       "         0.444339  , 0.67276359, 0.52764807],\n",
       "        [0.71415697, 0.1985277 , 0.51561868, 0.28618471, 0.30563161,\n",
       "         0.57415023, 0.50347132, 0.27574285, 0.49558625, 0.32603122,\n",
       "         0.48248144, 0.72035616, 0.5869341 ],\n",
       "        [0.59861769, 0.18207475, 0.4916873 , 0.32567176, 0.29681504,\n",
       "         0.53016924, 0.46512459, 0.31613827, 0.40823737, 0.27252891,\n",
       "         0.50144975, 0.63171152, 0.51685941],\n",
       "        [0.49468643, 0.14679966, 0.46863998, 0.3300261 , 0.29844187,\n",
       "         0.46325017, 0.32101488, 0.54021872, 0.25429173, 0.24783   ,\n",
       "         0.48883211, 0.4015126 , 0.35468028],\n",
       "        [0.40509762, 0.14220125, 0.37635482, 0.28975131, 0.3075167 ,\n",
       "         0.37189303, 0.22129573, 0.60092292, 0.13498838, 0.20753322,\n",
       "         0.48534238, 0.27662828, 0.22721479],\n",
       "        [0.35725508, 0.25716373, 0.44547024, 0.36458026, 0.31426161,\n",
       "         0.31023764, 0.25251946, 0.55881017, 0.23817501, 0.19227169,\n",
       "         0.48115198, 0.36839726, 0.21877474],\n",
       "        [0.46362995, 0.26960148, 0.52750742, 0.45232408, 0.29659108,\n",
       "         0.3161536 , 0.30995612, 0.5903394 , 0.32932986, 0.20238873,\n",
       "         0.45982143, 0.40462472, 0.28818161]],\n",
       "\n",
       "       [[0.54576762, 0.16359722, 0.38553384, 0.30427985, 0.26845073,\n",
       "         0.67598634, 0.58056312, 0.26557824, 0.5439735 , 0.32803573,\n",
       "         0.42887772, 0.6476023 , 0.37323836],\n",
       "        [0.60561196, 0.18301506, 0.43234047, 0.26941601, 0.26912416,\n",
       "         0.61229638, 0.55967213, 0.25760411, 0.51844588, 0.35260524,\n",
       "         0.46946106, 0.65337411, 0.48097324],\n",
       "        [0.65336304, 0.1864045 , 0.47293462, 0.25798748, 0.29741015,\n",
       "         0.57663974, 0.51458727, 0.27267851, 0.43635602, 0.34080002,\n",
       "         0.48859832, 0.67197409, 0.57998788],\n",
       "        [0.65136709, 0.20347787, 0.52962379, 0.31987769, 0.35259612,\n",
       "         0.55321797, 0.48305224, 0.33397203, 0.37773138, 0.33534353,\n",
       "         0.48706098, 0.56622078, 0.60699898],\n",
       "        [0.60646357, 0.18485212, 0.56373933, 0.3580303 , 0.37413563,\n",
       "         0.52008417, 0.4057594 , 0.50062214, 0.29556044, 0.34529378,\n",
       "         0.4868224 , 0.46601721, 0.51805889],\n",
       "        [0.52410534, 0.18159271, 0.51268367, 0.3640081 , 0.33784065,\n",
       "         0.40798045, 0.31070769, 0.56037471, 0.24336743, 0.27401083,\n",
       "         0.47935086, 0.36363492, 0.37576538],\n",
       "        [0.42088499, 0.19841121, 0.47800197, 0.41897211, 0.28177507,\n",
       "         0.27242244, 0.26601944, 0.58978426, 0.28421533, 0.19445194,\n",
       "         0.45135085, 0.33729738, 0.27458234],\n",
       "        [0.47124722, 0.28481665, 0.46340372, 0.45953803, 0.20412596,\n",
       "         0.23847934, 0.23097075, 0.69426603, 0.30198928, 0.21898464,\n",
       "         0.4159139 , 0.31589913, 0.20931016]],\n",
       "\n",
       "       [[0.57604902, 0.29536601, 0.46631042, 0.3450414 , 0.26263115,\n",
       "         0.6191013 , 0.5094477 , 0.31375427, 0.53793362, 0.42268814,\n",
       "         0.38404006, 0.57979856, 0.39697514],\n",
       "        [0.63429598, 0.25125945, 0.4530029 , 0.27188991, 0.29224071,\n",
       "         0.62780919, 0.57644433, 0.24545122, 0.53311654, 0.38169113,\n",
       "         0.46209781, 0.63146203, 0.52691626],\n",
       "        [0.71679939, 0.2011972 , 0.53406076, 0.28537138, 0.35853565,\n",
       "         0.65333026, 0.5799385 , 0.31545464, 0.4804569 , 0.4035268 ,\n",
       "         0.50749264, 0.61710772, 0.68214653],\n",
       "        [0.74041384, 0.20171716, 0.58265417, 0.32480981, 0.41375272,\n",
       "         0.70916547, 0.59415702, 0.33590717, 0.46435683, 0.44315628,\n",
       "         0.48984367, 0.6171392 , 0.73787695],\n",
       "        [0.69702691, 0.1993919 , 0.63355729, 0.37134302, 0.43472277,\n",
       "         0.64601276, 0.53829857, 0.42114676, 0.41528636, 0.3806922 ,\n",
       "         0.52026132, 0.58833879, 0.67463325],\n",
       "        [0.61570374, 0.19350036, 0.62100453, 0.3801626 , 0.38445024,\n",
       "         0.5318759 , 0.46575814, 0.445891  , 0.37516378, 0.28686496,\n",
       "         0.52997456, 0.52673824, 0.53217015],\n",
       "        [0.51597568, 0.16625077, 0.53938402, 0.39334173, 0.30144952,\n",
       "         0.4057167 , 0.37939612, 0.47026583, 0.34439282, 0.23968297,\n",
       "         0.5151636 , 0.45392069, 0.34182463],\n",
       "        [0.53941603, 0.18465925, 0.45137092, 0.41323327, 0.25212773,\n",
       "         0.38406895, 0.36042064, 0.48007884, 0.35461681, 0.26231658,\n",
       "         0.47159881, 0.45823817, 0.25171815]],\n",
       "\n",
       "       [[0.52068235, 0.48724782, 0.47127039, 0.36092305, 0.27481776,\n",
       "         0.52228387, 0.47031743, 0.29541561, 0.47462288, 0.26164551,\n",
       "         0.40223754, 0.66828088, 0.39022017],\n",
       "        [0.60735926, 0.32920042, 0.49434288, 0.33010692, 0.28643178,\n",
       "         0.59523563, 0.54815275, 0.30961901, 0.48638419, 0.33869998,\n",
       "         0.44497101, 0.63531793, 0.48619804],\n",
       "        [0.79080762, 0.2241487 , 0.56318061, 0.28463553, 0.35429254,\n",
       "         0.70611503, 0.61815438, 0.34846732, 0.53535062, 0.44966077,\n",
       "         0.49957125, 0.59339422, 0.70741321],\n",
       "        [0.78551666, 0.19605512, 0.58341467, 0.29652247, 0.41298727,\n",
       "         0.80136918, 0.67248122, 0.30474621, 0.50827682, 0.49646803,\n",
       "         0.48823409, 0.63908646, 0.78812783],\n",
       "        [0.73760336, 0.19833077, 0.62375225, 0.3638014 , 0.42871837,\n",
       "         0.7116694 , 0.6013237 , 0.33554938, 0.47020434, 0.43289225,\n",
       "         0.50290708, 0.61142149, 0.73228175],\n",
       "        [0.64618789, 0.20621123, 0.64621855, 0.40967864, 0.39542793,\n",
       "         0.55158203, 0.48924328, 0.38718577, 0.40505791, 0.33537679,\n",
       "         0.51721737, 0.52255963, 0.57030669],\n",
       "        [0.49229822, 0.13855884, 0.554154  , 0.41353941, 0.28992753,\n",
       "         0.46525586, 0.4234891 , 0.41057963, 0.36167822, 0.27086087,\n",
       "         0.53015185, 0.47340478, 0.33267691],\n",
       "        [0.45745018, 0.14350523, 0.40344194, 0.46594912, 0.19738026,\n",
       "         0.36700082, 0.34632977, 0.35639222, 0.3081002 , 0.22813832,\n",
       "         0.48796462, 0.54982539, 0.19099107]]])"
      ]
     },
     "execution_count": 21,
     "metadata": {},
     "output_type": "execute_result"
    }
   ],
   "source": [
    "som._weights"
   ]
  },
  {
   "cell_type": "code",
   "execution_count": 22,
   "metadata": {},
   "outputs": [
    {
     "data": {
      "text/plain": [
       "array([[1.01560772, 1.05313833, 1.02100585, 1.0352192 , 0.96203426,\n",
       "        1.01321676, 0.93726224, 0.85173591],\n",
       "       [1.06044091, 1.01780306, 0.97892247, 0.93464118, 0.92679433,\n",
       "        0.98293007, 0.99959128, 0.81839552],\n",
       "       [0.99891411, 0.99895891, 0.93800317, 0.87154298, 0.90950204,\n",
       "        0.92567972, 0.943536  , 0.83227115],\n",
       "       [1.01134155, 1.01697567, 0.99154026, 0.89684686, 0.90215515,\n",
       "        0.99299267, 0.93110174, 0.88462994],\n",
       "       [1.0012844 , 1.01483031, 1.00259421, 0.93350264, 1.01414887,\n",
       "        1.08401493, 1.00342151, 1.03490977],\n",
       "       [0.95867054, 0.96730981, 0.98554186, 0.99830594, 1.04265189,\n",
       "        1.03622173, 1.04189969, 1.17724767],\n",
       "       [1.01476992, 0.99994799, 1.08541318, 1.14930186, 1.10148402,\n",
       "        1.00765431, 0.95793779, 0.97759854],\n",
       "       [0.97883048, 1.00938649, 1.18305814, 1.2491865 , 1.15290879,\n",
       "        1.02584007, 0.94901646, 0.9362365 ]])"
      ]
     },
     "execution_count": 22,
     "metadata": {},
     "output_type": "execute_result"
    }
   ],
   "source": [
    "som._activation_map"
   ]
  },
  {
   "cell_type": "code",
   "execution_count": 25,
   "metadata": {},
   "outputs": [],
   "source": [
    "q = som.activation_response(x)"
   ]
  },
  {
   "cell_type": "code",
   "execution_count": 26,
   "metadata": {},
   "outputs": [
    {
     "data": {
      "text/plain": [
       "array([[ 0.,  3.,  1.,  5.,  0.,  5.,  2.,  7.],\n",
       "       [ 2.,  1.,  2.,  2.,  3.,  3.,  5.,  2.],\n",
       "       [ 4.,  1.,  1.,  4.,  4.,  4.,  1.,  1.],\n",
       "       [ 3.,  1.,  2.,  1.,  1.,  2.,  0.,  0.],\n",
       "       [ 0.,  1.,  2.,  1.,  0.,  4.,  2.,  1.],\n",
       "       [ 3.,  0.,  1.,  3.,  0.,  0.,  3., 45.],\n",
       "       [ 1.,  1.,  1.,  1.,  5.,  3.,  0.,  0.],\n",
       "       [ 6.,  0.,  3.,  7.,  2.,  1.,  1.,  7.]])"
      ]
     },
     "execution_count": 26,
     "metadata": {},
     "output_type": "execute_result"
    }
   ],
   "source": [
    "q"
   ]
  },
  {
   "cell_type": "code",
   "execution_count": 38,
   "metadata": {},
   "outputs": [
    {
     "data": {
      "text/plain": [
       "<matplotlib.colorbar.Colorbar at 0x7fe6508a7dd8>"
      ]
     },
     "execution_count": 38,
     "metadata": {},
     "output_type": "execute_result"
    },
    {
     "data": {
      "image/png": "[encoded data removed]",
      "text/plain": [
       "<Figure size 432x288 with 2 Axes>"
      ]
     },
     "metadata": {
      "needs_background": "light"
     },
     "output_type": "display_data"
    }
   ],
   "source": [
    "from pylab import pcolor, colorbar, plot\n",
    "pcolor(som.distance_map().T)\n",
    "colorbar()"
   ]
  },
  {
   "cell_type": "code",
   "execution_count": 32,
   "metadata": {},
   "outputs": [],
   "source": [
    "w = som.winner(x[1])"
   ]
  },
  {
   "cell_type": "code",
   "execution_count": 33,
   "metadata": {},
   "outputs": [
    {
     "data": {
      "text/plain": [
       "(5, 2)"
      ]
     },
     "execution_count": 33,
     "metadata": {},
     "output_type": "execute_result"
    }
   ],
   "source": [
    "w"
   ]
  },
  {
   "cell_type": "code",
   "execution_count": 34,
   "metadata": {},
   "outputs": [],
   "source": [
    "markers = ['o', 's', 'D']"
   ]
  },
  {
   "cell_type": "code",
   "execution_count": 35,
   "metadata": {},
   "outputs": [],
   "source": [
    "colors = ['r', 'g', 'b']"
   ]
  },
  {
   "cell_type": "code",
   "execution_count": 36,
   "metadata": {},
   "outputs": [],
   "source": [
    "y [y == 1] = 0\n",
    "y [y == 2] = 1\n",
    "y [y == 3] = 2"
   ]
  },
  {
   "cell_type": "code",
   "execution_count": 41,
   "metadata": {},
   "outputs": [
    {
     "data": {
      "image/png": "[encoded data removed]",
      "text/plain": [
       "<Figure size 432x288 with 2 Axes>"
      ]
     },
     "metadata": {
      "needs_background": "light"
     },
     "output_type": "display_data"
    }
   ],
   "source": [
    "pcolor(som.distance_map().T)\n",
    "colorbar()\n",
    "for i, X in enumerate(x):\n",
    "    w = som.winner(X)\n",
    "    plot(w[0] + 0.5, w[1]+0.5, markers[y[i]], markerfacecolor = 'None', \n",
    "         markersize=10, markeredgecolor = colors[y[i]], markeredgewidth = 2)"
   ]
  }
 ],
 "metadata": {
  "kernelspec": {
   "display_name": "Python 3",
   "language": "python",
   "name": "python3"
  },
  "language_info": {
   "codemirror_mode": {
    "name": "ipython",
    "version": 3
   },
   "file_extension": ".py",
   "mimetype": "text/x-python",
   "name": "python",
   "nbconvert_exporter": "python",
   "pygments_lexer": "ipython3",
   "version": "3.5.2"
  }
 },
 "nbformat": 4,
 "nbformat_minor": 4
}
