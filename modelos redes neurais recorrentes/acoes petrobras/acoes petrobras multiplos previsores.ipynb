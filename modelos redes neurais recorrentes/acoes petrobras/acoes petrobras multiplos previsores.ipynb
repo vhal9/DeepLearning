{
 "cells": [
  {
   "cell_type": "code",
   "execution_count": 2,
   "metadata": {},
   "outputs": [],
   "source": [
    "from keras.models import Sequential\n",
    "from keras.layers import Dense, Dropout, LSTM\n",
    "from sklearn.preprocessing import MinMaxScaler\n",
    "import numpy as np\n",
    "import pandas as pd\n",
    "import matplotlib.pyplot as plt"
   ]
  },
  {
   "cell_type": "markdown",
   "metadata": {},
   "source": [
    "#### Importar base de dados de treinamento"
   ]
  },
  {
   "cell_type": "code",
   "execution_count": 3,
   "metadata": {},
   "outputs": [],
   "source": [
    "base = pd.read_csv('../../data/acoesPetrobras/base_treinamento.csv')"
   ]
  },
  {
   "cell_type": "code",
   "execution_count": 4,
   "metadata": {},
   "outputs": [
    {
     "data": {
      "text/html": [
       "<div>\n",
       "<style scoped>\n",
       "    .dataframe tbody tr th:only-of-type {\n",
       "        vertical-align: middle;\n",
       "    }\n",
       "\n",
       "    .dataframe tbody tr th {\n",
       "        vertical-align: top;\n",
       "    }\n",
       "\n",
       "    .dataframe thead th {\n",
       "        text-align: right;\n",
       "    }\n",
       "</style>\n",
       "<table border=\"1\" class=\"dataframe\">\n",
       "  <thead>\n",
       "    <tr style=\"text-align: right;\">\n",
       "      <th></th>\n",
       "      <th>Date</th>\n",
       "      <th>Open</th>\n",
       "      <th>High</th>\n",
       "      <th>Low</th>\n",
       "      <th>Close</th>\n",
       "      <th>Adj Close</th>\n",
       "      <th>Volume</th>\n",
       "    </tr>\n",
       "  </thead>\n",
       "  <tbody>\n",
       "    <tr>\n",
       "      <th>0</th>\n",
       "      <td>2013-01-02</td>\n",
       "      <td>19.990000</td>\n",
       "      <td>20.209999</td>\n",
       "      <td>19.690001</td>\n",
       "      <td>19.690001</td>\n",
       "      <td>18.086271</td>\n",
       "      <td>30182600.0</td>\n",
       "    </tr>\n",
       "    <tr>\n",
       "      <th>1</th>\n",
       "      <td>2013-01-03</td>\n",
       "      <td>19.809999</td>\n",
       "      <td>20.400000</td>\n",
       "      <td>19.700001</td>\n",
       "      <td>20.400000</td>\n",
       "      <td>18.738441</td>\n",
       "      <td>30552600.0</td>\n",
       "    </tr>\n",
       "    <tr>\n",
       "      <th>2</th>\n",
       "      <td>2013-01-04</td>\n",
       "      <td>20.330000</td>\n",
       "      <td>20.620001</td>\n",
       "      <td>20.170000</td>\n",
       "      <td>20.430000</td>\n",
       "      <td>18.766001</td>\n",
       "      <td>36141000.0</td>\n",
       "    </tr>\n",
       "    <tr>\n",
       "      <th>3</th>\n",
       "      <td>2013-01-07</td>\n",
       "      <td>20.480000</td>\n",
       "      <td>20.670000</td>\n",
       "      <td>19.950001</td>\n",
       "      <td>20.080000</td>\n",
       "      <td>18.444506</td>\n",
       "      <td>28069600.0</td>\n",
       "    </tr>\n",
       "    <tr>\n",
       "      <th>4</th>\n",
       "      <td>2013-01-08</td>\n",
       "      <td>20.110001</td>\n",
       "      <td>20.230000</td>\n",
       "      <td>19.459999</td>\n",
       "      <td>19.500000</td>\n",
       "      <td>17.911745</td>\n",
       "      <td>29091300.0</td>\n",
       "    </tr>\n",
       "    <tr>\n",
       "      <th>5</th>\n",
       "      <td>2013-01-09</td>\n",
       "      <td>19.639999</td>\n",
       "      <td>19.870001</td>\n",
       "      <td>19.459999</td>\n",
       "      <td>19.680000</td>\n",
       "      <td>18.077084</td>\n",
       "      <td>24361100.0</td>\n",
       "    </tr>\n",
       "    <tr>\n",
       "      <th>6</th>\n",
       "      <td>2013-01-10</td>\n",
       "      <td>19.770000</td>\n",
       "      <td>20.049999</td>\n",
       "      <td>19.540001</td>\n",
       "      <td>19.830000</td>\n",
       "      <td>18.214869</td>\n",
       "      <td>17526200.0</td>\n",
       "    </tr>\n",
       "    <tr>\n",
       "      <th>7</th>\n",
       "      <td>2013-01-11</td>\n",
       "      <td>19.850000</td>\n",
       "      <td>20.040001</td>\n",
       "      <td>19.700001</td>\n",
       "      <td>19.879999</td>\n",
       "      <td>18.260794</td>\n",
       "      <td>18223600.0</td>\n",
       "    </tr>\n",
       "  </tbody>\n",
       "</table>\n",
       "</div>"
      ],
      "text/plain": [
       "         Date       Open       High        Low      Close  Adj Close  \\\n",
       "0  2013-01-02  19.990000  20.209999  19.690001  19.690001  18.086271   \n",
       "1  2013-01-03  19.809999  20.400000  19.700001  20.400000  18.738441   \n",
       "2  2013-01-04  20.330000  20.620001  20.170000  20.430000  18.766001   \n",
       "3  2013-01-07  20.480000  20.670000  19.950001  20.080000  18.444506   \n",
       "4  2013-01-08  20.110001  20.230000  19.459999  19.500000  17.911745   \n",
       "5  2013-01-09  19.639999  19.870001  19.459999  19.680000  18.077084   \n",
       "6  2013-01-10  19.770000  20.049999  19.540001  19.830000  18.214869   \n",
       "7  2013-01-11  19.850000  20.040001  19.700001  19.879999  18.260794   \n",
       "\n",
       "       Volume  \n",
       "0  30182600.0  \n",
       "1  30552600.0  \n",
       "2  36141000.0  \n",
       "3  28069600.0  \n",
       "4  29091300.0  \n",
       "5  24361100.0  \n",
       "6  17526200.0  \n",
       "7  18223600.0  "
      ]
     },
     "execution_count": 4,
     "metadata": {},
     "output_type": "execute_result"
    }
   ],
   "source": [
    "base[:8]"
   ]
  },
  {
   "cell_type": "code",
   "execution_count": 5,
   "metadata": {},
   "outputs": [],
   "source": [
    "base = base.dropna()"
   ]
  },
  {
   "cell_type": "code",
   "execution_count": 31,
   "metadata": {},
   "outputs": [],
   "source": [
    "base_treinamento = base.iloc[:, 1:7].values"
   ]
  },
  {
   "cell_type": "code",
   "execution_count": 32,
   "metadata": {
    "scrolled": true
   },
   "outputs": [
    {
     "data": {
      "text/plain": [
       "array([[1.9990000e+01, 2.0209999e+01, 1.9690001e+01, 1.9690001e+01,\n",
       "        1.8086271e+01, 3.0182600e+07],\n",
       "       [1.9809999e+01, 2.0400000e+01, 1.9700001e+01, 2.0400000e+01,\n",
       "        1.8738441e+01, 3.0552600e+07],\n",
       "       [2.0330000e+01, 2.0620001e+01, 2.0170000e+01, 2.0430000e+01,\n",
       "        1.8766001e+01, 3.6141000e+07],\n",
       "       ...,\n",
       "       [1.5990000e+01, 1.6139999e+01, 1.5980000e+01, 1.6049999e+01,\n",
       "        1.6017963e+01, 2.3552200e+07],\n",
       "       [1.6100000e+01, 1.6129999e+01, 1.6000000e+01, 1.6100000e+01,\n",
       "        1.6067865e+01, 1.9011500e+07],\n",
       "       [1.6100000e+01, 1.6100000e+01, 1.6100000e+01, 1.6100000e+01,\n",
       "        1.6067865e+01, 0.0000000e+00]])"
      ]
     },
     "execution_count": 32,
     "metadata": {},
     "output_type": "execute_result"
    }
   ],
   "source": [
    "base_treinamento"
   ]
  },
  {
   "cell_type": "markdown",
   "metadata": {},
   "source": [
    "#### Normalizar os dados"
   ]
  },
  {
   "cell_type": "code",
   "execution_count": 33,
   "metadata": {},
   "outputs": [],
   "source": [
    "normalizador = MinMaxScaler(feature_range=(0,1))\n",
    "base_treinamento_normalizada = normalizador.fit_transform(base_treinamento)"
   ]
  },
  {
   "cell_type": "code",
   "execution_count": 34,
   "metadata": {
    "scrolled": true
   },
   "outputs": [
    {
     "data": {
      "text/plain": [
       "array([[0.76501938],\n",
       "       [0.7562984 ],\n",
       "       [0.78149225],\n",
       "       ...,\n",
       "       [0.57122093],\n",
       "       [0.57655039],\n",
       "       [0.57655039]])"
      ]
     },
     "execution_count": 34,
     "metadata": {},
     "output_type": "execute_result"
    }
   ],
   "source": [
    "normalizador_previsao = MinMaxScaler(feature_range=(0,1))\n",
    "normalizador_previsao.fit_transform(base_treinamento[:,0:1])"
   ]
  },
  {
   "cell_type": "markdown",
   "metadata": {},
   "source": [
    "#### Formar base de dados de forma a utilizar os 90 registros anteriores para se prever o proximo valor"
   ]
  },
  {
   "cell_type": "code",
   "execution_count": 35,
   "metadata": {},
   "outputs": [],
   "source": [
    "previsores = []\n",
    "preco_real = []\n",
    "for i in range(90, 1242):\n",
    "    previsores.append(base_treinamento_normalizada[i-90:i,0:6])\n",
    "    preco_real.append(base_treinamento_normalizada[i,0])"
   ]
  },
  {
   "cell_type": "code",
   "execution_count": 36,
   "metadata": {},
   "outputs": [],
   "source": [
    "previsores, preco_real = np.array(previsores), np.array(preco_real)"
   ]
  },
  {
   "cell_type": "code",
   "execution_count": 37,
   "metadata": {},
   "outputs": [],
   "source": [
    "from keras.callbacks import EarlyStopping, ReduceLROnPlateau, ModelCheckpoint"
   ]
  },
  {
   "cell_type": "markdown",
   "metadata": {},
   "source": [
    "#### Estrutura da Rede Neural"
   ]
  },
  {
   "cell_type": "code",
   "execution_count": 38,
   "metadata": {},
   "outputs": [
    {
     "name": "stdout",
     "output_type": "stream",
     "text": [
      "Epoch 1/100\n",
      "1152/1152 [==============================] - 16s 14ms/step - loss: 0.0172 - mean_absolute_error: 0.0988\n",
      "Epoch 2/100\n",
      "1152/1152 [==============================] - 20s 17ms/step - loss: 0.0055 - mean_absolute_error: 0.0579\n",
      "Epoch 3/100\n",
      "1152/1152 [==============================] - 32s 28ms/step - loss: 0.0048 - mean_absolute_error: 0.0537\n",
      "Epoch 4/100\n",
      "1152/1152 [==============================] - 37s 32ms/step - loss: 0.0047 - mean_absolute_error: 0.0539\n",
      "Epoch 5/100\n",
      "1152/1152 [==============================] - 25s 21ms/step - loss: 0.0043 - mean_absolute_error: 0.0507\n",
      "Epoch 6/100\n",
      "1152/1152 [==============================] - 16s 14ms/step - loss: 0.0041 - mean_absolute_error: 0.0498\n",
      "Epoch 7/100\n",
      "1152/1152 [==============================] - 18s 16ms/step - loss: 0.0041 - mean_absolute_error: 0.0504\n",
      "Epoch 8/100\n",
      "1152/1152 [==============================] - 16s 14ms/step - loss: 0.0043 - mean_absolute_error: 0.0514\n",
      "Epoch 9/100\n",
      "1152/1152 [==============================] - 16s 14ms/step - loss: 0.0032 - mean_absolute_error: 0.0435\n",
      "Epoch 10/100\n",
      "1152/1152 [==============================] - 29s 25ms/step - loss: 0.0033 - mean_absolute_error: 0.0443\n",
      "Epoch 11/100\n",
      "1152/1152 [==============================] - 26s 23ms/step - loss: 0.0033 - mean_absolute_error: 0.0441\n",
      "Epoch 12/100\n",
      "1152/1152 [==============================] - 19s 16ms/step - loss: 0.0029 - mean_absolute_error: 0.0418\n",
      "Epoch 13/100\n",
      "1152/1152 [==============================] - 16s 14ms/step - loss: 0.0025 - mean_absolute_error: 0.0389\n",
      "Epoch 14/100\n",
      "1152/1152 [==============================] - 16s 14ms/step - loss: 0.0029 - mean_absolute_error: 0.0421\n",
      "Epoch 15/100\n",
      "1152/1152 [==============================] - 15s 13ms/step - loss: 0.0025 - mean_absolute_error: 0.0383\n",
      "Epoch 16/100\n",
      "1152/1152 [==============================] - 16s 14ms/step - loss: 0.0024 - mean_absolute_error: 0.0380\n",
      "Epoch 17/100\n",
      "1152/1152 [==============================] - 16s 14ms/step - loss: 0.0024 - mean_absolute_error: 0.0371\n",
      "Epoch 18/100\n",
      "1152/1152 [==============================] - 14s 12ms/step - loss: 0.0022 - mean_absolute_error: 0.0366\n",
      "Epoch 19/100\n",
      "1152/1152 [==============================] - 17s 15ms/step - loss: 0.0023 - mean_absolute_error: 0.0371\n",
      "Epoch 20/100\n",
      "1152/1152 [==============================] - 16s 14ms/step - loss: 0.0021 - mean_absolute_error: 0.0344\n",
      "Epoch 21/100\n",
      "1152/1152 [==============================] - 14s 13ms/step - loss: 0.0020 - mean_absolute_error: 0.0349\n",
      "Epoch 22/100\n",
      "1152/1152 [==============================] - 16s 14ms/step - loss: 0.0019 - mean_absolute_error: 0.0338\n",
      "Epoch 23/100\n",
      "1152/1152 [==============================] - 13s 12ms/step - loss: 0.0018 - mean_absolute_error: 0.0324\n",
      "Epoch 24/100\n",
      "1152/1152 [==============================] - 16s 14ms/step - loss: 0.0019 - mean_absolute_error: 0.0325\n",
      "Epoch 25/100\n",
      "1152/1152 [==============================] - 16s 14ms/step - loss: 0.0018 - mean_absolute_error: 0.0329\n",
      "Epoch 26/100\n",
      "1152/1152 [==============================] - 13s 12ms/step - loss: 0.0019 - mean_absolute_error: 0.0325\n",
      "Epoch 27/100\n",
      "1152/1152 [==============================] - 16s 14ms/step - loss: 0.0017 - mean_absolute_error: 0.0314\n",
      "Epoch 28/100\n",
      "1152/1152 [==============================] - 16s 14ms/step - loss: 0.0020 - mean_absolute_error: 0.0338\n",
      "Epoch 29/100\n",
      "1152/1152 [==============================] - 16s 14ms/step - loss: 0.0017 - mean_absolute_error: 0.0322\n",
      "Epoch 30/100\n",
      "1152/1152 [==============================] - 16s 14ms/step - loss: 0.0016 - mean_absolute_error: 0.0300\n",
      "Epoch 31/100\n",
      "1152/1152 [==============================] - 15s 13ms/step - loss: 0.0015 - mean_absolute_error: 0.0285\n",
      "Epoch 32/100\n",
      "1152/1152 [==============================] - 16s 14ms/step - loss: 0.0016 - mean_absolute_error: 0.0297\n",
      "Epoch 33/100\n",
      "1152/1152 [==============================] - 14s 12ms/step - loss: 0.0015 - mean_absolute_error: 0.0297\n",
      "Epoch 34/100\n",
      "1152/1152 [==============================] - 17s 15ms/step - loss: 0.0015 - mean_absolute_error: 0.0291\n",
      "Epoch 35/100\n",
      "1152/1152 [==============================] - 16s 14ms/step - loss: 0.0015 - mean_absolute_error: 0.0291\n",
      "Epoch 36/100\n",
      "1152/1152 [==============================] - 15s 13ms/step - loss: 0.0014 - mean_absolute_error: 0.0280\n",
      "Epoch 37/100\n",
      "1152/1152 [==============================] - 15s 13ms/step - loss: 0.0014 - mean_absolute_error: 0.0280\n",
      "Epoch 38/100\n",
      "1152/1152 [==============================] - 17s 14ms/step - loss: 0.0017 - mean_absolute_error: 0.0316\n",
      "Epoch 39/100\n",
      "1152/1152 [==============================] - 16s 14ms/step - loss: 0.0016 - mean_absolute_error: 0.0297\n",
      "Epoch 40/100\n",
      "1152/1152 [==============================] - 14s 12ms/step - loss: 0.0015 - mean_absolute_error: 0.0287\n",
      "Epoch 41/100\n",
      "1152/1152 [==============================] - 19s 17ms/step - loss: 0.0013 - mean_absolute_error: 0.0264\n",
      "Epoch 42/100\n",
      "1152/1152 [==============================] - 18s 16ms/step - loss: 0.0013 - mean_absolute_error: 0.0273\n",
      "Epoch 43/100\n",
      "1152/1152 [==============================] - 17s 15ms/step - loss: 0.0013 - mean_absolute_error: 0.0266\n",
      "Epoch 44/100\n",
      "1152/1152 [==============================] - 18s 16ms/step - loss: 0.0013 - mean_absolute_error: 0.0273\n",
      "Epoch 45/100\n",
      "1152/1152 [==============================] - 18s 16ms/step - loss: 0.0012 - mean_absolute_error: 0.0255\n",
      "Epoch 46/100\n",
      "1152/1152 [==============================] - 18s 15ms/step - loss: 0.0014 - mean_absolute_error: 0.0276\n",
      "\n",
      "Epoch 00046: ReduceLROnPlateau reducing learning rate to 0.00020000000949949026.\n",
      "Epoch 47/100\n",
      "1152/1152 [==============================] - 17s 15ms/step - loss: 0.0012 - mean_absolute_error: 0.0256\n",
      "Epoch 48/100\n",
      "1152/1152 [==============================] - 17s 15ms/step - loss: 0.0012 - mean_absolute_error: 0.0251\n",
      "Epoch 49/100\n",
      "1152/1152 [==============================] - 19s 17ms/step - loss: 0.0011 - mean_absolute_error: 0.0250\n",
      "Epoch 50/100\n",
      "1152/1152 [==============================] - 17s 15ms/step - loss: 0.0012 - mean_absolute_error: 0.0256\n",
      "Epoch 51/100\n",
      "1152/1152 [==============================] - 18s 16ms/step - loss: 0.0011 - mean_absolute_error: 0.0242\n",
      "Epoch 52/100\n",
      "1152/1152 [==============================] - 20s 17ms/step - loss: 0.0012 - mean_absolute_error: 0.0252\n",
      "Epoch 53/100\n",
      "1152/1152 [==============================] - 18s 15ms/step - loss: 0.0011 - mean_absolute_error: 0.0245\n",
      "Epoch 54/100\n",
      "1152/1152 [==============================] - 19s 17ms/step - loss: 0.0011 - mean_absolute_error: 0.0243\n",
      "\n",
      "Epoch 00054: ReduceLROnPlateau reducing learning rate to 4.0000001899898055e-05.\n",
      "Epoch 55/100\n",
      "1152/1152 [==============================] - 23s 20ms/step - loss: 0.0011 - mean_absolute_error: 0.0242\n",
      "Epoch 56/100\n",
      "1152/1152 [==============================] - 19s 17ms/step - loss: 0.0011 - mean_absolute_error: 0.0240\n",
      "Epoch 57/100\n",
      "1152/1152 [==============================] - 21s 18ms/step - loss: 0.0010 - mean_absolute_error: 0.0236\n",
      "Epoch 58/100\n",
      "1152/1152 [==============================] - 18s 15ms/step - loss: 0.0011 - mean_absolute_error: 0.0246\n",
      "Epoch 59/100\n",
      "1152/1152 [==============================] - 16s 14ms/step - loss: 0.0011 - mean_absolute_error: 0.0246\n",
      "Epoch 60/100\n",
      "1152/1152 [==============================] - 16s 14ms/step - loss: 0.0011 - mean_absolute_error: 0.0247\n",
      "Epoch 61/100\n",
      "1152/1152 [==============================] - 16s 14ms/step - loss: 0.0011 - mean_absolute_error: 0.0241\n",
      "Epoch 62/100\n",
      "1152/1152 [==============================] - 16s 14ms/step - loss: 0.0011 - mean_absolute_error: 0.0240\n",
      "\n",
      "Epoch 00062: ReduceLROnPlateau reducing learning rate to 8.000000525498762e-06.\n",
      "Epoch 63/100\n",
      "1152/1152 [==============================] - 16s 14ms/step - loss: 0.0010 - mean_absolute_error: 0.0237\n",
      "Epoch 64/100\n",
      "1152/1152 [==============================] - 15s 13ms/step - loss: 0.0010 - mean_absolute_error: 0.0238\n",
      "Epoch 65/100\n",
      "1152/1152 [==============================] - 16s 14ms/step - loss: 0.0011 - mean_absolute_error: 0.0245\n",
      "Epoch 66/100\n",
      "1152/1152 [==============================] - 15s 13ms/step - loss: 0.0010 - mean_absolute_error: 0.0236\n",
      "Epoch 67/100\n",
      "1152/1152 [==============================] - 19s 16ms/step - loss: 0.0010 - mean_absolute_error: 0.0241\n",
      "\n",
      "Epoch 00067: ReduceLROnPlateau reducing learning rate to 1.6000001778593287e-06.\n",
      "Epoch 68/100\n",
      "1152/1152 [==============================] - 15s 13ms/step - loss: 0.0011 - mean_absolute_error: 0.0241\n",
      "Epoch 69/100\n",
      "1152/1152 [==============================] - 16s 14ms/step - loss: 0.0010 - mean_absolute_error: 0.0236\n",
      "Epoch 70/100\n",
      "1152/1152 [==============================] - 16s 14ms/step - loss: 0.0011 - mean_absolute_error: 0.0243\n",
      "Epoch 71/100\n",
      "1152/1152 [==============================] - 15s 13ms/step - loss: 0.0011 - mean_absolute_error: 0.0240\n",
      "Epoch 72/100\n",
      "1152/1152 [==============================] - 14s 12ms/step - loss: 0.0011 - mean_absolute_error: 0.0238\n",
      "\n",
      "Epoch 00072: ReduceLROnPlateau reducing learning rate to 3.200000264769187e-07.\n",
      "Epoch 73/100\n",
      "1152/1152 [==============================] - 17s 15ms/step - loss: 0.0011 - mean_absolute_error: 0.0244\n",
      "Epoch 74/100\n",
      "1152/1152 [==============================] - 15s 13ms/step - loss: 0.0011 - mean_absolute_error: 0.0244\n",
      "Epoch 75/100\n",
      "1152/1152 [==============================] - 16s 14ms/step - loss: 0.0010 - mean_absolute_error: 0.0236\n",
      "Epoch 76/100\n",
      "1152/1152 [==============================] - 16s 14ms/step - loss: 0.0011 - mean_absolute_error: 0.0242\n",
      "Epoch 00076: early stopping\n"
     ]
    },
    {
     "data": {
      "text/plain": [
       "<keras.callbacks.callbacks.History at 0x7f6b4cfa8da0>"
      ]
     },
     "execution_count": 38,
     "metadata": {},
     "output_type": "execute_result"
    }
   ],
   "source": [
    "regressor = Sequential()\n",
    "\n",
    "regressor.add(LSTM(units = 100, return_sequences = True, input_shape = (previsores.shape[1], 6)))\n",
    "regressor.add(Dropout(0.3))\n",
    "\n",
    "regressor.add(LSTM(units = 50, return_sequences = True))\n",
    "regressor.add(Dropout(0.3))\n",
    "regressor.add(LSTM(units = 50, return_sequences = True))\n",
    "regressor.add(Dropout(0.3))\n",
    "regressor.add(LSTM(units = 50, return_sequences = True))\n",
    "regressor.add(Dropout(0.3))\n",
    "regressor.add(LSTM(units = 50))\n",
    "regressor.add(Dropout(0.3))\n",
    "\n",
    "regressor.add(Dense(units = 1, activation = 'sigmoid'))\n",
    "regressor.compile(optimizer = 'adam', loss = 'mean_squared_error', metrics = ['mean_absolute_error'])\n",
    "\n",
    "es = EarlyStopping(monitor = 'loss', min_delta = 1e-10, patience = 10, verbose=1)\n",
    "rlr = ReduceLROnPlateau(monitor = 'loss', factor=0.2, patience = 5, verbose=1)\n",
    "mcp = ModelCheckpoint(filepath='pesos.h5', monitor='loss', save_best_only=True)\n",
    "regressor.fit(previsores, preco_real, epochs=100, batch_size =32, callbacks = [es,rlr, mcp])"
   ]
  },
  {
   "cell_type": "markdown",
   "metadata": {},
   "source": [
    "#### Base de teste"
   ]
  },
  {
   "cell_type": "code",
   "execution_count": 39,
   "metadata": {},
   "outputs": [],
   "source": [
    "base_teste = pd.read_csv('../../data/acoesPetrobras/base_teste.csv')\n",
    "preco_real_teste = base_teste.iloc[:,1:2].values\n",
    "frames = [base, base_teste]"
   ]
  },
  {
   "cell_type": "markdown",
   "metadata": {},
   "source": [
    "#### Concatenar as bases"
   ]
  },
  {
   "cell_type": "code",
   "execution_count": 40,
   "metadata": {},
   "outputs": [],
   "source": [
    "base_completa = pd.concat(frames)"
   ]
  },
  {
   "cell_type": "code",
   "execution_count": 41,
   "metadata": {},
   "outputs": [],
   "source": [
    "base_completa = base_completa.drop('Date', axis=1)"
   ]
  },
  {
   "cell_type": "code",
   "execution_count": 42,
   "metadata": {},
   "outputs": [],
   "source": [
    "entradas = base_completa[len(base_completa)-len(base_teste)-90:].values\n",
    "entradas = entradas.reshape(-1,1)"
   ]
  },
  {
   "cell_type": "code",
   "execution_count": 43,
   "metadata": {},
   "outputs": [],
   "source": [
    "entradas = normalizador.transform(entradas)"
   ]
  },
  {
   "cell_type": "code",
   "execution_count": 44,
   "metadata": {},
   "outputs": [],
   "source": [
    "x_teste = []\n",
    "for i in range(90, 112):\n",
    "    x_teste.append(entradas[i-90:i, 0:6])\n",
    "x_teste = np.array(x_teste)\n"
   ]
  },
  {
   "cell_type": "code",
   "execution_count": 45,
   "metadata": {},
   "outputs": [],
   "source": [
    "previsoes = regressor.predict(x_teste)\n",
    "previsoes = normalizador_previsao.inverse_transform(previsoes)"
   ]
  },
  {
   "cell_type": "code",
   "execution_count": 49,
   "metadata": {},
   "outputs": [
    {
     "data": {
      "text/plain": [
       "17.751333"
      ]
     },
     "execution_count": 49,
     "metadata": {},
     "output_type": "execute_result"
    }
   ],
   "source": [
    "previsoes.mean()"
   ]
  },
  {
   "cell_type": "code",
   "execution_count": 50,
   "metadata": {},
   "outputs": [
    {
     "data": {
      "text/plain": [
       "17.87454563636364"
      ]
     },
     "execution_count": 50,
     "metadata": {},
     "output_type": "execute_result"
    }
   ],
   "source": [
    "preco_real_teste.mean()"
   ]
  },
  {
   "cell_type": "code",
   "execution_count": 48,
   "metadata": {},
   "outputs": [
    {
     "data": {
      "image/png": "[encoded data removed]",
      "text/plain": [
       "<Figure size 432x288 with 1 Axes>"
      ]
     },
     "metadata": {
      "needs_background": "light"
     },
     "output_type": "display_data"
    }
   ],
   "source": [
    "plt.plot(preco_real_teste, color = 'red', label = 'Preço real')\n",
    "plt.plot(previsoes, color = 'blue', label = 'Previsões')\n",
    "plt.title('Previsões preço das ações')\n",
    "plt.xlabel('Tempo')\n",
    "plt.ylabel('Valor Yahoo')\n",
    "plt.legend()\n",
    "plt.show()\n"
   ]
  },
  {
   "cell_type": "code",
   "execution_count": null,
   "metadata": {},
   "outputs": [],
   "source": []
  }
 ],
 "metadata": {
  "kernelspec": {
   "display_name": "Python 3",
   "language": "python",
   "name": "python3"
  },
  "language_info": {
   "codemirror_mode": {
    "name": "ipython",
    "version": 3
   },
   "file_extension": ".py",
   "mimetype": "text/x-python",
   "name": "python",
   "nbconvert_exporter": "python",
   "pygments_lexer": "ipython3",
   "version": "3.5.2"
  }
 },
 "nbformat": 4,
 "nbformat_minor": 4
}
