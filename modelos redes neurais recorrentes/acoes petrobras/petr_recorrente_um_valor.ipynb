{
 "cells": [
  {
   "cell_type": "code",
   "execution_count": 1,
   "metadata": {},
   "outputs": [
    {
     "name": "stderr",
     "output_type": "stream",
     "text": [
      "Using TensorFlow backend.\n"
     ]
    }
   ],
   "source": [
    "from keras.models import Sequential\n",
    "from keras.layers import Dense, Dropout, LSTM\n",
    "import numpy as np\n",
    "import pandas as pd"
   ]
  },
  {
   "cell_type": "markdown",
   "metadata": {},
   "source": [
    "### Importar a base de dados"
   ]
  },
  {
   "cell_type": "code",
   "execution_count": null,
   "metadata": {},
   "outputs": [],
   "source": []
  },
  {
   "cell_type": "code",
   "execution_count": 2,
   "metadata": {},
   "outputs": [],
   "source": [
    "base = pd.read_csv('../../data/acoesPetrobras/base_treinamento.csv')"
   ]
  },
  {
   "cell_type": "code",
   "execution_count": 3,
   "metadata": {},
   "outputs": [
    {
     "data": {
      "text/html": [
       "<div>\n",
       "<style scoped>\n",
       "    .dataframe tbody tr th:only-of-type {\n",
       "        vertical-align: middle;\n",
       "    }\n",
       "\n",
       "    .dataframe tbody tr th {\n",
       "        vertical-align: top;\n",
       "    }\n",
       "\n",
       "    .dataframe thead th {\n",
       "        text-align: right;\n",
       "    }\n",
       "</style>\n",
       "<table border=\"1\" class=\"dataframe\">\n",
       "  <thead>\n",
       "    <tr style=\"text-align: right;\">\n",
       "      <th></th>\n",
       "      <th>Date</th>\n",
       "      <th>Open</th>\n",
       "      <th>High</th>\n",
       "      <th>Low</th>\n",
       "      <th>Close</th>\n",
       "      <th>Adj Close</th>\n",
       "      <th>Volume</th>\n",
       "    </tr>\n",
       "  </thead>\n",
       "  <tbody>\n",
       "    <tr>\n",
       "      <th>0</th>\n",
       "      <td>2013-01-02</td>\n",
       "      <td>19.990000</td>\n",
       "      <td>20.209999</td>\n",
       "      <td>19.690001</td>\n",
       "      <td>19.690001</td>\n",
       "      <td>18.086271</td>\n",
       "      <td>30182600.0</td>\n",
       "    </tr>\n",
       "    <tr>\n",
       "      <th>1</th>\n",
       "      <td>2013-01-03</td>\n",
       "      <td>19.809999</td>\n",
       "      <td>20.400000</td>\n",
       "      <td>19.700001</td>\n",
       "      <td>20.400000</td>\n",
       "      <td>18.738441</td>\n",
       "      <td>30552600.0</td>\n",
       "    </tr>\n",
       "    <tr>\n",
       "      <th>2</th>\n",
       "      <td>2013-01-04</td>\n",
       "      <td>20.330000</td>\n",
       "      <td>20.620001</td>\n",
       "      <td>20.170000</td>\n",
       "      <td>20.430000</td>\n",
       "      <td>18.766001</td>\n",
       "      <td>36141000.0</td>\n",
       "    </tr>\n",
       "    <tr>\n",
       "      <th>3</th>\n",
       "      <td>2013-01-07</td>\n",
       "      <td>20.480000</td>\n",
       "      <td>20.670000</td>\n",
       "      <td>19.950001</td>\n",
       "      <td>20.080000</td>\n",
       "      <td>18.444506</td>\n",
       "      <td>28069600.0</td>\n",
       "    </tr>\n",
       "    <tr>\n",
       "      <th>4</th>\n",
       "      <td>2013-01-08</td>\n",
       "      <td>20.110001</td>\n",
       "      <td>20.230000</td>\n",
       "      <td>19.459999</td>\n",
       "      <td>19.500000</td>\n",
       "      <td>17.911745</td>\n",
       "      <td>29091300.0</td>\n",
       "    </tr>\n",
       "    <tr>\n",
       "      <th>5</th>\n",
       "      <td>2013-01-09</td>\n",
       "      <td>19.639999</td>\n",
       "      <td>19.870001</td>\n",
       "      <td>19.459999</td>\n",
       "      <td>19.680000</td>\n",
       "      <td>18.077084</td>\n",
       "      <td>24361100.0</td>\n",
       "    </tr>\n",
       "    <tr>\n",
       "      <th>6</th>\n",
       "      <td>2013-01-10</td>\n",
       "      <td>19.770000</td>\n",
       "      <td>20.049999</td>\n",
       "      <td>19.540001</td>\n",
       "      <td>19.830000</td>\n",
       "      <td>18.214869</td>\n",
       "      <td>17526200.0</td>\n",
       "    </tr>\n",
       "    <tr>\n",
       "      <th>7</th>\n",
       "      <td>2013-01-11</td>\n",
       "      <td>19.850000</td>\n",
       "      <td>20.040001</td>\n",
       "      <td>19.700001</td>\n",
       "      <td>19.879999</td>\n",
       "      <td>18.260794</td>\n",
       "      <td>18223600.0</td>\n",
       "    </tr>\n",
       "    <tr>\n",
       "      <th>8</th>\n",
       "      <td>2013-01-14</td>\n",
       "      <td>20.010000</td>\n",
       "      <td>20.240000</td>\n",
       "      <td>19.690001</td>\n",
       "      <td>19.719999</td>\n",
       "      <td>18.113827</td>\n",
       "      <td>28302400.0</td>\n",
       "    </tr>\n",
       "    <tr>\n",
       "      <th>9</th>\n",
       "      <td>2013-01-15</td>\n",
       "      <td>20.010000</td>\n",
       "      <td>20.240000</td>\n",
       "      <td>19.690001</td>\n",
       "      <td>19.820000</td>\n",
       "      <td>18.205681</td>\n",
       "      <td>29633900.0</td>\n",
       "    </tr>\n",
       "    <tr>\n",
       "      <th>10</th>\n",
       "      <td>2013-01-16</td>\n",
       "      <td>19.889999</td>\n",
       "      <td>19.889999</td>\n",
       "      <td>19.600000</td>\n",
       "      <td>19.840000</td>\n",
       "      <td>18.224054</td>\n",
       "      <td>16787800.0</td>\n",
       "    </tr>\n",
       "    <tr>\n",
       "      <th>11</th>\n",
       "      <td>2013-01-17</td>\n",
       "      <td>19.860001</td>\n",
       "      <td>19.930000</td>\n",
       "      <td>19.600000</td>\n",
       "      <td>19.709999</td>\n",
       "      <td>18.104639</td>\n",
       "      <td>19719600.0</td>\n",
       "    </tr>\n",
       "    <tr>\n",
       "      <th>12</th>\n",
       "      <td>2013-01-18</td>\n",
       "      <td>19.799999</td>\n",
       "      <td>19.889999</td>\n",
       "      <td>19.540001</td>\n",
       "      <td>19.580000</td>\n",
       "      <td>17.985229</td>\n",
       "      <td>18913900.0</td>\n",
       "    </tr>\n",
       "    <tr>\n",
       "      <th>13</th>\n",
       "      <td>2013-01-21</td>\n",
       "      <td>19.570000</td>\n",
       "      <td>19.600000</td>\n",
       "      <td>19.270000</td>\n",
       "      <td>19.389999</td>\n",
       "      <td>17.810705</td>\n",
       "      <td>18086200.0</td>\n",
       "    </tr>\n",
       "    <tr>\n",
       "      <th>14</th>\n",
       "      <td>2013-01-22</td>\n",
       "      <td>19.420000</td>\n",
       "      <td>19.610001</td>\n",
       "      <td>19.230000</td>\n",
       "      <td>19.580000</td>\n",
       "      <td>17.985229</td>\n",
       "      <td>23535100.0</td>\n",
       "    </tr>\n",
       "    <tr>\n",
       "      <th>15</th>\n",
       "      <td>2013-01-23</td>\n",
       "      <td>19.420000</td>\n",
       "      <td>19.629999</td>\n",
       "      <td>19.230000</td>\n",
       "      <td>19.549999</td>\n",
       "      <td>17.957674</td>\n",
       "      <td>17200800.0</td>\n",
       "    </tr>\n",
       "    <tr>\n",
       "      <th>16</th>\n",
       "      <td>2013-01-24</td>\n",
       "      <td>19.370001</td>\n",
       "      <td>19.750000</td>\n",
       "      <td>19.370001</td>\n",
       "      <td>19.610001</td>\n",
       "      <td>18.012787</td>\n",
       "      <td>19612600.0</td>\n",
       "    </tr>\n",
       "    <tr>\n",
       "      <th>17</th>\n",
       "      <td>2013-01-28</td>\n",
       "      <td>19.730000</td>\n",
       "      <td>19.809999</td>\n",
       "      <td>19.270000</td>\n",
       "      <td>19.370001</td>\n",
       "      <td>17.792336</td>\n",
       "      <td>20122600.0</td>\n",
       "    </tr>\n",
       "    <tr>\n",
       "      <th>18</th>\n",
       "      <td>2013-01-29</td>\n",
       "      <td>19.350000</td>\n",
       "      <td>19.370001</td>\n",
       "      <td>18.840000</td>\n",
       "      <td>19.110001</td>\n",
       "      <td>17.553513</td>\n",
       "      <td>27097900.0</td>\n",
       "    </tr>\n",
       "    <tr>\n",
       "      <th>19</th>\n",
       "      <td>2013-01-30</td>\n",
       "      <td>18.990000</td>\n",
       "      <td>18.990000</td>\n",
       "      <td>18.170000</td>\n",
       "      <td>18.200001</td>\n",
       "      <td>16.717628</td>\n",
       "      <td>66985800.0</td>\n",
       "    </tr>\n",
       "  </tbody>\n",
       "</table>\n",
       "</div>"
      ],
      "text/plain": [
       "          Date       Open       High        Low      Close  Adj Close  \\\n",
       "0   2013-01-02  19.990000  20.209999  19.690001  19.690001  18.086271   \n",
       "1   2013-01-03  19.809999  20.400000  19.700001  20.400000  18.738441   \n",
       "2   2013-01-04  20.330000  20.620001  20.170000  20.430000  18.766001   \n",
       "3   2013-01-07  20.480000  20.670000  19.950001  20.080000  18.444506   \n",
       "4   2013-01-08  20.110001  20.230000  19.459999  19.500000  17.911745   \n",
       "5   2013-01-09  19.639999  19.870001  19.459999  19.680000  18.077084   \n",
       "6   2013-01-10  19.770000  20.049999  19.540001  19.830000  18.214869   \n",
       "7   2013-01-11  19.850000  20.040001  19.700001  19.879999  18.260794   \n",
       "8   2013-01-14  20.010000  20.240000  19.690001  19.719999  18.113827   \n",
       "9   2013-01-15  20.010000  20.240000  19.690001  19.820000  18.205681   \n",
       "10  2013-01-16  19.889999  19.889999  19.600000  19.840000  18.224054   \n",
       "11  2013-01-17  19.860001  19.930000  19.600000  19.709999  18.104639   \n",
       "12  2013-01-18  19.799999  19.889999  19.540001  19.580000  17.985229   \n",
       "13  2013-01-21  19.570000  19.600000  19.270000  19.389999  17.810705   \n",
       "14  2013-01-22  19.420000  19.610001  19.230000  19.580000  17.985229   \n",
       "15  2013-01-23  19.420000  19.629999  19.230000  19.549999  17.957674   \n",
       "16  2013-01-24  19.370001  19.750000  19.370001  19.610001  18.012787   \n",
       "17  2013-01-28  19.730000  19.809999  19.270000  19.370001  17.792336   \n",
       "18  2013-01-29  19.350000  19.370001  18.840000  19.110001  17.553513   \n",
       "19  2013-01-30  18.990000  18.990000  18.170000  18.200001  16.717628   \n",
       "\n",
       "        Volume  \n",
       "0   30182600.0  \n",
       "1   30552600.0  \n",
       "2   36141000.0  \n",
       "3   28069600.0  \n",
       "4   29091300.0  \n",
       "5   24361100.0  \n",
       "6   17526200.0  \n",
       "7   18223600.0  \n",
       "8   28302400.0  \n",
       "9   29633900.0  \n",
       "10  16787800.0  \n",
       "11  19719600.0  \n",
       "12  18913900.0  \n",
       "13  18086200.0  \n",
       "14  23535100.0  \n",
       "15  17200800.0  \n",
       "16  19612600.0  \n",
       "17  20122600.0  \n",
       "18  27097900.0  \n",
       "19  66985800.0  "
      ]
     },
     "execution_count": 3,
     "metadata": {},
     "output_type": "execute_result"
    }
   ],
   "source": [
    "base[:20]"
   ]
  },
  {
   "cell_type": "markdown",
   "metadata": {},
   "source": [
    "### remover colunas com valores nulos"
   ]
  },
  {
   "cell_type": "code",
   "execution_count": 4,
   "metadata": {},
   "outputs": [],
   "source": [
    "base = base.dropna()"
   ]
  },
  {
   "cell_type": "markdown",
   "metadata": {},
   "source": [
    "### Extrair colunas para treinamento"
   ]
  },
  {
   "cell_type": "code",
   "execution_count": 5,
   "metadata": {},
   "outputs": [],
   "source": [
    "base_treinamento = base.iloc[:,1:2].values"
   ]
  },
  {
   "cell_type": "code",
   "execution_count": 6,
   "metadata": {},
   "outputs": [
    {
     "data": {
      "text/plain": [
       "array([[19.99    ],\n",
       "       [19.809999],\n",
       "       [20.33    ],\n",
       "       ...,\n",
       "       [15.99    ],\n",
       "       [16.1     ],\n",
       "       [16.1     ]])"
      ]
     },
     "execution_count": 6,
     "metadata": {},
     "output_type": "execute_result"
    }
   ],
   "source": [
    "base_treinamento"
   ]
  },
  {
   "cell_type": "markdown",
   "metadata": {},
   "source": [
    "#### Normalizar a base de dados para uma escala de 0 a 1"
   ]
  },
  {
   "cell_type": "code",
   "execution_count": 7,
   "metadata": {},
   "outputs": [],
   "source": [
    "from sklearn.preprocessing import MinMaxScaler"
   ]
  },
  {
   "cell_type": "code",
   "execution_count": 8,
   "metadata": {},
   "outputs": [],
   "source": [
    "normalizador = MinMaxScaler(feature_range=(0,1))\n",
    "base_treinamento_normalizada = normalizador.fit_transform(base_treinamento)"
   ]
  },
  {
   "cell_type": "code",
   "execution_count": 9,
   "metadata": {},
   "outputs": [
    {
     "data": {
      "text/plain": [
       "array([[0.76501938],\n",
       "       [0.7562984 ],\n",
       "       [0.78149225],\n",
       "       ...,\n",
       "       [0.57122093],\n",
       "       [0.57655039],\n",
       "       [0.57655039]])"
      ]
     },
     "execution_count": 9,
     "metadata": {},
     "output_type": "execute_result"
    }
   ],
   "source": [
    "base_treinamento_normalizada"
   ]
  },
  {
   "cell_type": "markdown",
   "metadata": {},
   "source": [
    "#### Utilizar 90 datas anteriores para prever um valor"
   ]
  },
  {
   "cell_type": "code",
   "execution_count": 46,
   "metadata": {},
   "outputs": [],
   "source": [
    "previsores = []\n",
    "preco_real = []"
   ]
  },
  {
   "cell_type": "code",
   "execution_count": 47,
   "metadata": {},
   "outputs": [],
   "source": [
    "for i in range(90, 1242):\n",
    "    previsores.append(base_treinamento_normalizada[i-90:i,0])\n",
    "    preco_real.append(base_treinamento_normalizada[i,0])"
   ]
  },
  {
   "cell_type": "code",
   "execution_count": 48,
   "metadata": {},
   "outputs": [],
   "source": [
    "previsores, preco_real = np.array(previsores), np.array(preco_real)"
   ]
  },
  {
   "cell_type": "code",
   "execution_count": 49,
   "metadata": {},
   "outputs": [],
   "source": [
    "previsores = np.reshape(previsores,(previsores.shape[0], previsores.shape[1], 1))"
   ]
  },
  {
   "cell_type": "markdown",
   "metadata": {},
   "source": [
    "#### Estrutura da Rede Neural"
   ]
  },
  {
   "cell_type": "code",
   "execution_count": 33,
   "metadata": {},
   "outputs": [],
   "source": [
    "regressor = Sequential()\n",
    "\n",
    "regressor.add(LSTM(units = 100, return_sequences = True, input_shape = (previsores.shape[1], 1)))\n",
    "regressor.add(Dropout(0.3))\n",
    "\n",
    "regressor.add(LSTM(units = 50, return_sequences = True))\n",
    "regressor.add(Dropout(0.3))\n",
    "regressor.add(LSTM(units = 50, return_sequences = True))\n",
    "regressor.add(Dropout(0.3))\n",
    "regressor.add(LSTM(units = 50, return_sequences = True))\n",
    "regressor.add(Dropout(0.3))\n",
    "regressor.add(LSTM(units = 50))\n",
    "regressor.add(Dropout(0.3))\n",
    "\n",
    "regressor.add(Dense(units = 1, activation = 'linear'))\n",
    "regressor.compile(optimizer = 'rmsprop', loss = 'mean_squared_error', metrics = ['mean_absolute_error'])"
   ]
  },
  {
   "cell_type": "code",
   "execution_count": 34,
   "metadata": {},
   "outputs": [
    {
     "name": "stdout",
     "output_type": "stream",
     "text": [
      "Epoch 1/100\n",
      "1152/1152 [==============================] - 14s 12ms/step - loss: 0.0452 - mean_absolute_error: 0.1505\n",
      "Epoch 2/100\n",
      "1152/1152 [==============================] - 11s 9ms/step - loss: 0.0197 - mean_absolute_error: 0.1090\n",
      "Epoch 3/100\n",
      "1152/1152 [==============================] - 11s 10ms/step - loss: 0.0153 - mean_absolute_error: 0.0954\n",
      "Epoch 4/100\n",
      "1152/1152 [==============================] - 12s 11ms/step - loss: 0.0135 - mean_absolute_error: 0.0896\n",
      "Epoch 5/100\n",
      "1152/1152 [==============================] - 12s 10ms/step - loss: 0.0114 - mean_absolute_error: 0.0844\n",
      "Epoch 6/100\n",
      "1152/1152 [==============================] - 12s 10ms/step - loss: 0.0111 - mean_absolute_error: 0.0814\n",
      "Epoch 7/100\n",
      "1152/1152 [==============================] - 12s 10ms/step - loss: 0.0093 - mean_absolute_error: 0.0750\n",
      "Epoch 8/100\n",
      "1152/1152 [==============================] - 12s 10ms/step - loss: 0.0086 - mean_absolute_error: 0.0724\n",
      "Epoch 9/100\n",
      "1152/1152 [==============================] - 13s 11ms/step - loss: 0.0080 - mean_absolute_error: 0.0678\n",
      "Epoch 10/100\n",
      "1152/1152 [==============================] - 13s 12ms/step - loss: 0.0076 - mean_absolute_error: 0.0672\n",
      "Epoch 11/100\n",
      "1152/1152 [==============================] - 14s 12ms/step - loss: 0.0068 - mean_absolute_error: 0.0644\n",
      "Epoch 12/100\n",
      "1152/1152 [==============================] - 14s 12ms/step - loss: 0.0064 - mean_absolute_error: 0.0617\n",
      "Epoch 13/100\n",
      "1152/1152 [==============================] - 16s 14ms/step - loss: 0.0061 - mean_absolute_error: 0.0594\n",
      "Epoch 14/100\n",
      "1152/1152 [==============================] - 14s 12ms/step - loss: 0.0057 - mean_absolute_error: 0.0574\n",
      "Epoch 15/100\n",
      "1152/1152 [==============================] - 14s 12ms/step - loss: 0.0058 - mean_absolute_error: 0.0578\n",
      "Epoch 16/100\n",
      "1152/1152 [==============================] - 27s 24ms/step - loss: 0.0060 - mean_absolute_error: 0.0581\n",
      "Epoch 17/100\n",
      "1152/1152 [==============================] - 47s 41ms/step - loss: 0.0057 - mean_absolute_error: 0.0571\n",
      "Epoch 18/100\n",
      "1152/1152 [==============================] - 63s 55ms/step - loss: 0.0049 - mean_absolute_error: 0.0541\n",
      "Epoch 19/100\n",
      "1152/1152 [==============================] - 81s 70ms/step - loss: 0.0048 - mean_absolute_error: 0.0532\n",
      "Epoch 20/100\n",
      "1152/1152 [==============================] - 61s 53ms/step - loss: 0.0048 - mean_absolute_error: 0.0534\n",
      "Epoch 21/100\n",
      "1152/1152 [==============================] - 88s 77ms/step - loss: 0.0047 - mean_absolute_error: 0.0522\n",
      "Epoch 22/100\n",
      "1152/1152 [==============================] - 104s 90ms/step - loss: 0.0043 - mean_absolute_error: 0.0504\n",
      "Epoch 23/100\n",
      "1152/1152 [==============================] - 61s 53ms/step - loss: 0.0048 - mean_absolute_error: 0.0533\n",
      "Epoch 24/100\n",
      "1152/1152 [==============================] - 24s 21ms/step - loss: 0.0039 - mean_absolute_error: 0.0491\n",
      "Epoch 25/100\n",
      "1152/1152 [==============================] - 18s 16ms/step - loss: 0.0039 - mean_absolute_error: 0.0470\n",
      "Epoch 26/100\n",
      "1152/1152 [==============================] - 18s 16ms/step - loss: 0.0039 - mean_absolute_error: 0.0478\n",
      "Epoch 27/100\n",
      "1152/1152 [==============================] - 16s 14ms/step - loss: 0.0043 - mean_absolute_error: 0.0493\n",
      "Epoch 28/100\n",
      "1152/1152 [==============================] - 16s 14ms/step - loss: 0.0037 - mean_absolute_error: 0.0466\n",
      "Epoch 29/100\n",
      "1152/1152 [==============================] - 16s 14ms/step - loss: 0.0041 - mean_absolute_error: 0.0490\n",
      "Epoch 30/100\n",
      "1152/1152 [==============================] - 18s 16ms/step - loss: 0.0036 - mean_absolute_error: 0.0457\n",
      "Epoch 31/100\n",
      "1152/1152 [==============================] - 15s 13ms/step - loss: 0.0039 - mean_absolute_error: 0.0473\n",
      "Epoch 32/100\n",
      "1152/1152 [==============================] - 16s 14ms/step - loss: 0.0032 - mean_absolute_error: 0.0430\n",
      "Epoch 33/100\n",
      "1152/1152 [==============================] - 16s 14ms/step - loss: 0.0034 - mean_absolute_error: 0.0447\n",
      "Epoch 34/100\n",
      "1152/1152 [==============================] - 18s 16ms/step - loss: 0.0033 - mean_absolute_error: 0.0441\n",
      "Epoch 35/100\n",
      "1152/1152 [==============================] - 19s 17ms/step - loss: 0.0030 - mean_absolute_error: 0.0431\n",
      "Epoch 36/100\n",
      "1152/1152 [==============================] - 19s 16ms/step - loss: 0.0034 - mean_absolute_error: 0.0440\n",
      "Epoch 37/100\n",
      "1152/1152 [==============================] - 19s 16ms/step - loss: 0.0031 - mean_absolute_error: 0.0430\n",
      "Epoch 38/100\n",
      "1152/1152 [==============================] - 17s 14ms/step - loss: 0.0030 - mean_absolute_error: 0.0427\n",
      "Epoch 39/100\n",
      "1152/1152 [==============================] - 23s 20ms/step - loss: 0.0031 - mean_absolute_error: 0.0420\n",
      "Epoch 40/100\n",
      "1152/1152 [==============================] - 32s 28ms/step - loss: 0.0033 - mean_absolute_error: 0.0436\n",
      "Epoch 41/100\n",
      "1152/1152 [==============================] - 77s 67ms/step - loss: 0.0030 - mean_absolute_error: 0.0407\n",
      "Epoch 42/100\n",
      "1152/1152 [==============================] - 48s 41ms/step - loss: 0.0029 - mean_absolute_error: 0.0419\n",
      "Epoch 43/100\n",
      "1152/1152 [==============================] - 39s 34ms/step - loss: 0.0026 - mean_absolute_error: 0.0393\n",
      "Epoch 44/100\n",
      "1152/1152 [==============================] - 20s 18ms/step - loss: 0.0027 - mean_absolute_error: 0.0399\n",
      "Epoch 45/100\n",
      "1152/1152 [==============================] - 18s 15ms/step - loss: 0.0028 - mean_absolute_error: 0.0408\n",
      "Epoch 46/100\n",
      "1152/1152 [==============================] - 18s 15ms/step - loss: 0.0027 - mean_absolute_error: 0.0399\n",
      "Epoch 47/100\n",
      "1152/1152 [==============================] - 17s 15ms/step - loss: 0.0027 - mean_absolute_error: 0.0388\n",
      "Epoch 48/100\n",
      "1152/1152 [==============================] - 15s 13ms/step - loss: 0.0028 - mean_absolute_error: 0.0409\n",
      "Epoch 49/100\n",
      "1152/1152 [==============================] - 16s 13ms/step - loss: 0.0025 - mean_absolute_error: 0.0391\n",
      "Epoch 50/100\n",
      "1152/1152 [==============================] - 18s 15ms/step - loss: 0.0023 - mean_absolute_error: 0.0364\n",
      "Epoch 51/100\n",
      "1152/1152 [==============================] - 17s 14ms/step - loss: 0.0025 - mean_absolute_error: 0.0379\n",
      "Epoch 52/100\n",
      "1152/1152 [==============================] - 17s 15ms/step - loss: 0.0027 - mean_absolute_error: 0.0387\n",
      "Epoch 53/100\n",
      "1152/1152 [==============================] - 16s 14ms/step - loss: 0.0026 - mean_absolute_error: 0.0380\n",
      "Epoch 54/100\n",
      "1152/1152 [==============================] - 16s 14ms/step - loss: 0.0024 - mean_absolute_error: 0.0367\n",
      "Epoch 55/100\n",
      "1152/1152 [==============================] - 16s 14ms/step - loss: 0.0024 - mean_absolute_error: 0.0378\n",
      "Epoch 56/100\n",
      "1152/1152 [==============================] - 16s 14ms/step - loss: 0.0026 - mean_absolute_error: 0.0379\n",
      "Epoch 57/100\n",
      "1152/1152 [==============================] - 16s 13ms/step - loss: 0.0023 - mean_absolute_error: 0.0369\n",
      "Epoch 58/100\n",
      "1152/1152 [==============================] - 16s 14ms/step - loss: 0.0024 - mean_absolute_error: 0.0364\n",
      "Epoch 59/100\n",
      "1152/1152 [==============================] - 16s 14ms/step - loss: 0.0025 - mean_absolute_error: 0.0376\n",
      "Epoch 60/100\n",
      "1152/1152 [==============================] - 16s 14ms/step - loss: 0.0023 - mean_absolute_error: 0.0367\n",
      "Epoch 61/100\n",
      "1152/1152 [==============================] - 15s 13ms/step - loss: 0.0021 - mean_absolute_error: 0.0345\n",
      "Epoch 62/100\n",
      "1152/1152 [==============================] - 16s 14ms/step - loss: 0.0023 - mean_absolute_error: 0.0357\n",
      "Epoch 63/100\n",
      "1152/1152 [==============================] - 16s 14ms/step - loss: 0.0021 - mean_absolute_error: 0.0345\n",
      "Epoch 64/100\n",
      "1152/1152 [==============================] - 16s 14ms/step - loss: 0.0022 - mean_absolute_error: 0.0364\n",
      "Epoch 65/100\n",
      "1152/1152 [==============================] - 34s 29ms/step - loss: 0.0023 - mean_absolute_error: 0.0359\n",
      "Epoch 66/100\n",
      "1152/1152 [==============================] - 60s 52ms/step - loss: 0.0023 - mean_absolute_error: 0.0364\n",
      "Epoch 67/100\n",
      "1152/1152 [==============================] - 87s 75ms/step - loss: 0.0024 - mean_absolute_error: 0.0364\n",
      "Epoch 68/100\n",
      "1152/1152 [==============================] - 69s 60ms/step - loss: 0.0021 - mean_absolute_error: 0.0351\n",
      "Epoch 69/100\n",
      "1152/1152 [==============================] - 30s 26ms/step - loss: 0.0021 - mean_absolute_error: 0.0347\n",
      "Epoch 70/100\n",
      "1152/1152 [==============================] - 28s 25ms/step - loss: 0.0020 - mean_absolute_error: 0.0340\n",
      "Epoch 71/100\n"
     ]
    },
    {
     "name": "stdout",
     "output_type": "stream",
     "text": [
      "1152/1152 [==============================] - 17s 15ms/step - loss: 0.0021 - mean_absolute_error: 0.0341\n",
      "Epoch 72/100\n",
      "1152/1152 [==============================] - 19s 17ms/step - loss: 0.0021 - mean_absolute_error: 0.0344\n",
      "Epoch 73/100\n",
      "1152/1152 [==============================] - 16s 14ms/step - loss: 0.0019 - mean_absolute_error: 0.0323\n",
      "Epoch 74/100\n",
      "1152/1152 [==============================] - 19s 17ms/step - loss: 0.0019 - mean_absolute_error: 0.0342\n",
      "Epoch 75/100\n",
      "1152/1152 [==============================] - 17s 15ms/step - loss: 0.0020 - mean_absolute_error: 0.0335\n",
      "Epoch 76/100\n",
      "1152/1152 [==============================] - 16s 14ms/step - loss: 0.0018 - mean_absolute_error: 0.0324\n",
      "Epoch 77/100\n",
      "1152/1152 [==============================] - 19s 16ms/step - loss: 0.0019 - mean_absolute_error: 0.0329\n",
      "Epoch 78/100\n",
      "1152/1152 [==============================] - 16s 14ms/step - loss: 0.0019 - mean_absolute_error: 0.0324\n",
      "Epoch 79/100\n",
      "1152/1152 [==============================] - 15s 13ms/step - loss: 0.0019 - mean_absolute_error: 0.0328\n",
      "Epoch 80/100\n",
      "1152/1152 [==============================] - 16s 14ms/step - loss: 0.0018 - mean_absolute_error: 0.0320\n",
      "Epoch 81/100\n",
      "1152/1152 [==============================] - 16s 14ms/step - loss: 0.0018 - mean_absolute_error: 0.0323\n",
      "Epoch 82/100\n",
      "1152/1152 [==============================] - 18s 16ms/step - loss: 0.0019 - mean_absolute_error: 0.0325\n",
      "Epoch 83/100\n",
      "1152/1152 [==============================] - 16s 13ms/step - loss: 0.0019 - mean_absolute_error: 0.0321\n",
      "Epoch 84/100\n",
      "1152/1152 [==============================] - 16s 14ms/step - loss: 0.0018 - mean_absolute_error: 0.0313\n",
      "Epoch 85/100\n",
      "1152/1152 [==============================] - 14s 13ms/step - loss: 0.0020 - mean_absolute_error: 0.0330\n",
      "Epoch 86/100\n",
      "1152/1152 [==============================] - 16s 14ms/step - loss: 0.0019 - mean_absolute_error: 0.0317\n",
      "Epoch 87/100\n",
      "1152/1152 [==============================] - 18s 16ms/step - loss: 0.0019 - mean_absolute_error: 0.0326\n",
      "Epoch 88/100\n",
      "1152/1152 [==============================] - 16s 14ms/step - loss: 0.0018 - mean_absolute_error: 0.0314\n",
      "Epoch 89/100\n",
      "1152/1152 [==============================] - 17s 15ms/step - loss: 0.0018 - mean_absolute_error: 0.0317\n",
      "Epoch 90/100\n",
      "1152/1152 [==============================] - 17s 15ms/step - loss: 0.0017 - mean_absolute_error: 0.0303\n",
      "Epoch 91/100\n",
      "1152/1152 [==============================] - 18s 16ms/step - loss: 0.0017 - mean_absolute_error: 0.0310\n",
      "Epoch 92/100\n",
      "1152/1152 [==============================] - 15s 13ms/step - loss: 0.0016 - mean_absolute_error: 0.0296\n",
      "Epoch 93/100\n",
      "1152/1152 [==============================] - 16s 14ms/step - loss: 0.0018 - mean_absolute_error: 0.0315\n",
      "Epoch 94/100\n",
      "1152/1152 [==============================] - 16s 13ms/step - loss: 0.0019 - mean_absolute_error: 0.0321\n",
      "Epoch 95/100\n",
      "1152/1152 [==============================] - 18s 16ms/step - loss: 0.0017 - mean_absolute_error: 0.0311\n",
      "Epoch 96/100\n",
      "1152/1152 [==============================] - 19s 17ms/step - loss: 0.0016 - mean_absolute_error: 0.0300\n",
      "Epoch 97/100\n",
      "1152/1152 [==============================] - 16s 14ms/step - loss: 0.0018 - mean_absolute_error: 0.0315\n",
      "Epoch 98/100\n",
      "1152/1152 [==============================] - 23s 20ms/step - loss: 0.0018 - mean_absolute_error: 0.0318\n",
      "Epoch 99/100\n",
      "1152/1152 [==============================] - 24s 21ms/step - loss: 0.0016 - mean_absolute_error: 0.0301\n",
      "Epoch 100/100\n",
      "1152/1152 [==============================] - 21s 18ms/step - loss: 0.0017 - mean_absolute_error: 0.0307\n"
     ]
    },
    {
     "data": {
      "text/plain": [
       "<keras.callbacks.callbacks.History at 0x7f5744db0780>"
      ]
     },
     "execution_count": 34,
     "metadata": {},
     "output_type": "execute_result"
    }
   ],
   "source": [
    "regressor.fit(previsores, preco_real, epochs=100, batch_size=32)"
   ]
  },
  {
   "cell_type": "markdown",
   "metadata": {},
   "source": [
    "#### Realizar as previsões para a base de teste"
   ]
  },
  {
   "cell_type": "code",
   "execution_count": 35,
   "metadata": {},
   "outputs": [],
   "source": [
    "base_teste = pd.read_csv('../../data/acoesPetrobras/base_teste.csv')"
   ]
  },
  {
   "cell_type": "code",
   "execution_count": 36,
   "metadata": {},
   "outputs": [],
   "source": [
    "preco_real_teste = base_teste.iloc[:,1:2].values"
   ]
  },
  {
   "cell_type": "code",
   "execution_count": 38,
   "metadata": {},
   "outputs": [],
   "source": [
    "base_completa = pd.concat((base['Open'], base_teste['Open']), axis=0)"
   ]
  },
  {
   "cell_type": "code",
   "execution_count": 39,
   "metadata": {},
   "outputs": [],
   "source": [
    "entradas = base_completa[len(base_completa) - len(base_teste) - 90:].values"
   ]
  },
  {
   "cell_type": "code",
   "execution_count": 40,
   "metadata": {},
   "outputs": [],
   "source": [
    "entradas = entradas.reshape(-1,1)"
   ]
  },
  {
   "cell_type": "code",
   "execution_count": 41,
   "metadata": {},
   "outputs": [],
   "source": [
    "entradas = normalizador.transform(entradas)"
   ]
  },
  {
   "cell_type": "code",
   "execution_count": 43,
   "metadata": {},
   "outputs": [],
   "source": [
    "x_teste = []\n",
    "for i in range(90, 112):\n",
    "    x_teste.append(entradas[i-90: i,0])\n",
    "x_teste = np.array(x_teste)\n",
    "x_teste = np.reshape(x_teste, (x_teste.shape[0], x_teste.shape[1], 1))"
   ]
  },
  {
   "cell_type": "code",
   "execution_count": 50,
   "metadata": {},
   "outputs": [],
   "source": [
    "previsoes = regressor.predict(x_teste)"
   ]
  },
  {
   "cell_type": "code",
   "execution_count": 60,
   "metadata": {},
   "outputs": [],
   "source": [
    "previsoes = normalizador.inverse_transform(previsoes)"
   ]
  },
  {
   "cell_type": "code",
   "execution_count": 63,
   "metadata": {},
   "outputs": [
    {
     "name": "stdout",
     "output_type": "stream",
     "text": [
      "preco real: [338.36162064] previsao: [347.548]\n",
      "preco real: [344.5536] previsao: [348.6551]\n",
      "preco real: [350.53922064] previsao: [353.04623]\n",
      "preco real: [348.88802064] previsao: [359.24213]\n",
      "preco real: [349.7136] previsao: [360.6515]\n",
      "preco real: [355.69922064] previsao: [360.62106]\n",
      "preco real: [353.4288] previsao: [364.4563]\n",
      "preco real: [352.60317936] previsao: [365.44876]\n",
      "preco real: [355.90562064] previsao: [364.4999]\n",
      "preco real: [361.6848] previsao: [365.9681]\n",
      "preco real: [362.304] previsao: [370.88174]\n",
      "preco real: [374.0688] previsao: [373.598]\n",
      "preco real: [382.944] previsao: [381.48505]\n",
      "preco real: [382.11837936] previsao: [391.12216]\n",
      "preco real: [381.0864] previsao: [393.82852]\n",
      "preco real: [383.976] previsao: [392.78503]\n",
      "preco real: [384.3888] previsao: [394.05887]\n",
      "preco real: [403.3776] previsao: [395.48767]\n",
      "preco real: [409.15682064] previsao: [408.3868]\n",
      "preco real: [410.1888] previsao: [417.9025]\n",
      "preco real: [412.2528] previsao: [420.1845]\n",
      "preco real: [411.6336] previsao: [421.2082]\n"
     ]
    }
   ],
   "source": [
    "for i in range(len(preco_real_teste)):\n",
    "    print('preco real:',preco_real_teste[i], 'previsao:', previsoes[i])"
   ]
  },
  {
   "cell_type": "code",
   "execution_count": 70,
   "metadata": {},
   "outputs": [],
   "source": [
    "import matplotlib.pyplot as plt"
   ]
  },
  {
   "cell_type": "code",
   "execution_count": 71,
   "metadata": {},
   "outputs": [
    {
     "data": {
      "image/png": "[encoded data removed]",
      "text/plain": [
       "<Figure size 432x288 with 1 Axes>"
      ]
     },
     "metadata": {
      "needs_background": "light"
     },
     "output_type": "display_data"
    }
   ],
   "source": [
    "plt.plot(preco_real_teste, color = 'red', label='Preço real')\n",
    "plt.plot(previsoes, color='blue', label='Previsões')\n",
    "plt.title('Previsão preço das ações')\n",
    "plt.xlabel('Tempo')\n",
    "plt.ylabel('Valor')\n",
    "plt.legend()\n",
    "plt.show()"
   ]
  },
  {
   "cell_type": "code",
   "execution_count": null,
   "metadata": {},
   "outputs": [],
   "source": []
  }
 ],
 "metadata": {
  "kernelspec": {
   "display_name": "Python 3",
   "language": "python",
   "name": "python3"
  },
  "language_info": {
   "codemirror_mode": {
    "name": "ipython",
    "version": 3
   },
   "file_extension": ".py",
   "mimetype": "text/x-python",
   "name": "python",
   "nbconvert_exporter": "python",
   "pygments_lexer": "ipython3",
   "version": "3.5.2"
  }
 },
 "nbformat": 4,
 "nbformat_minor": 4
}
