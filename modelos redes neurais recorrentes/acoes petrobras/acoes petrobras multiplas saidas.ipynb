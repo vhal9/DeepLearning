{
 "cells": [
  {
   "cell_type": "code",
   "execution_count": 1,
   "metadata": {},
   "outputs": [
    {
     "name": "stderr",
     "output_type": "stream",
     "text": [
      "Using TensorFlow backend.\n"
     ]
    }
   ],
   "source": [
    "from keras.models import Sequential\n",
    "from keras.layers import Dense, Dropout, LSTM\n",
    "from sklearn.preprocessing import MinMaxScaler\n",
    "import numpy as np\n",
    "import pandas as pd\n",
    "import matplotlib.pyplot as plt"
   ]
  },
  {
   "cell_type": "markdown",
   "metadata": {},
   "source": [
    "#### Importar base de dados de treinamento"
   ]
  },
  {
   "cell_type": "code",
   "execution_count": 2,
   "metadata": {},
   "outputs": [],
   "source": [
    "base = pd.read_csv('../../data/acoesPetrobras/base_treinamento.csv')"
   ]
  },
  {
   "cell_type": "code",
   "execution_count": 3,
   "metadata": {},
   "outputs": [],
   "source": [
    "base = base.dropna()"
   ]
  },
  {
   "cell_type": "code",
   "execution_count": 4,
   "metadata": {},
   "outputs": [],
   "source": [
    "base_treinamento = base.iloc[:,1:2].values\n",
    "base_valor_maximo = base.iloc[:,2:3].values"
   ]
  },
  {
   "cell_type": "markdown",
   "metadata": {},
   "source": [
    "#### Normalizar os dados"
   ]
  },
  {
   "cell_type": "code",
   "execution_count": 5,
   "metadata": {},
   "outputs": [],
   "source": [
    "normalizador = MinMaxScaler(feature_range = (0,1))\n",
    "base_treinamento_normalizada = normalizador.fit_transform(base_treinamento)\n",
    "base_valor_maximo_normalizada = normalizador.fit_transform(base_valor_maximo)"
   ]
  },
  {
   "cell_type": "markdown",
   "metadata": {},
   "source": [
    "#### Formar base de dados de forma a utilizar os 90 registros anteriores para se prever o proximo valor"
   ]
  },
  {
   "cell_type": "code",
   "execution_count": 6,
   "metadata": {},
   "outputs": [],
   "source": [
    "previsores = []\n",
    "preco_real1 = []\n",
    "preco_real2= []\n",
    "for i in range(90, 1242):\n",
    "    previsores.append(base_treinamento_normalizada[i-90:i,0])\n",
    "    preco_real1.append(base_treinamento_normalizada[i,0])\n",
    "    preco_real2.append(base_valor_maximo_normalizada[i,0])\n",
    "previsores, preco_real1, preco_real2 = np.array(previsores), np.array(preco_real1), np.array(preco_real2)\n",
    "previsores = np.reshape(previsores, (previsores.shape[0], previsores.shape[1], 1))"
   ]
  },
  {
   "cell_type": "code",
   "execution_count": 7,
   "metadata": {},
   "outputs": [],
   "source": [
    "preco_real = np.column_stack((preco_real1, preco_real2))"
   ]
  },
  {
   "cell_type": "markdown",
   "metadata": {},
   "source": [
    "#### Estrutura da Rede Neural"
   ]
  },
  {
   "cell_type": "code",
   "execution_count": 8,
   "metadata": {},
   "outputs": [],
   "source": [
    "regressor = Sequential()\n",
    "\n",
    "regressor.add(LSTM(units = 100, return_sequences = True, input_shape = (previsores.shape[1], 1)))\n",
    "regressor.add(Dropout(0.3))\n",
    "\n",
    "regressor.add(LSTM(units = 50, return_sequences = True))\n",
    "regressor.add(Dropout(0.3))\n",
    "regressor.add(LSTM(units = 50, return_sequences = True))\n",
    "regressor.add(Dropout(0.3))\n",
    "regressor.add(LSTM(units = 50, return_sequences = True))\n",
    "regressor.add(Dropout(0.3))\n",
    "regressor.add(LSTM(units = 50))\n",
    "regressor.add(Dropout(0.3))\n",
    "\n",
    "regressor.add(Dense(units = 2, activation = 'linear'))\n",
    "regressor.compile(optimizer = 'rmsprop', loss = 'mean_squared_error', metrics = ['mean_absolute_error'])\n"
   ]
  },
  {
   "cell_type": "markdown",
   "metadata": {},
   "source": [
    "#### Treinamento da rede neural recorrente"
   ]
  },
  {
   "cell_type": "code",
   "execution_count": 9,
   "metadata": {},
   "outputs": [
    {
     "name": "stdout",
     "output_type": "stream",
     "text": [
      "Epoch 1/100\n",
      "1152/1152 [==============================] - 14s 12ms/step - loss: 0.0409 - mean_absolute_error: 0.1512\n",
      "Epoch 2/100\n",
      "1152/1152 [==============================] - 12s 11ms/step - loss: 0.0202 - mean_absolute_error: 0.1108\n",
      "Epoch 3/100\n",
      "1152/1152 [==============================] - 13s 12ms/step - loss: 0.0156 - mean_absolute_error: 0.0969\n",
      "Epoch 4/100\n",
      "1152/1152 [==============================] - 14s 12ms/step - loss: 0.0158 - mean_absolute_error: 0.0975\n",
      "Epoch 5/100\n",
      "1152/1152 [==============================] - 14s 12ms/step - loss: 0.0134 - mean_absolute_error: 0.0889\n",
      "Epoch 6/100\n",
      "1152/1152 [==============================] - 13s 12ms/step - loss: 0.0110 - mean_absolute_error: 0.0813\n",
      "Epoch 7/100\n",
      "1152/1152 [==============================] - 14s 12ms/step - loss: 0.0107 - mean_absolute_error: 0.0788\n",
      "Epoch 8/100\n",
      "1152/1152 [==============================] - 14s 12ms/step - loss: 0.0103 - mean_absolute_error: 0.0767\n",
      "Epoch 9/100\n",
      "1152/1152 [==============================] - 13s 12ms/step - loss: 0.0084 - mean_absolute_error: 0.0705\n",
      "Epoch 10/100\n",
      "1152/1152 [==============================] - 15s 13ms/step - loss: 0.0096 - mean_absolute_error: 0.0739\n",
      "Epoch 11/100\n",
      "1152/1152 [==============================] - 15s 13ms/step - loss: 0.0080 - mean_absolute_error: 0.0685\n",
      "Epoch 12/100\n",
      "1152/1152 [==============================] - 16s 14ms/step - loss: 0.0068 - mean_absolute_error: 0.0628\n",
      "Epoch 13/100\n",
      "1152/1152 [==============================] - 14s 12ms/step - loss: 0.0067 - mean_absolute_error: 0.0638\n",
      "Epoch 14/100\n",
      "1152/1152 [==============================] - 16s 14ms/step - loss: 0.0065 - mean_absolute_error: 0.0607\n",
      "Epoch 15/100\n",
      "1152/1152 [==============================] - 14s 12ms/step - loss: 0.0058 - mean_absolute_error: 0.0586\n",
      "Epoch 16/100\n",
      "1152/1152 [==============================] - 16s 14ms/step - loss: 0.0063 - mean_absolute_error: 0.0600\n",
      "Epoch 17/100\n",
      "1152/1152 [==============================] - 14s 12ms/step - loss: 0.0053 - mean_absolute_error: 0.0552\n",
      "Epoch 18/100\n",
      "1152/1152 [==============================] - 14s 12ms/step - loss: 0.0054 - mean_absolute_error: 0.0573\n",
      "Epoch 19/100\n",
      "1152/1152 [==============================] - 13s 12ms/step - loss: 0.0047 - mean_absolute_error: 0.0526\n",
      "Epoch 20/100\n",
      "1152/1152 [==============================] - 14s 12ms/step - loss: 0.0051 - mean_absolute_error: 0.0539\n",
      "Epoch 21/100\n",
      "1152/1152 [==============================] - 16s 14ms/step - loss: 0.0048 - mean_absolute_error: 0.0532\n",
      "Epoch 22/100\n",
      "1152/1152 [==============================] - 14s 12ms/step - loss: 0.0050 - mean_absolute_error: 0.0544\n",
      "Epoch 23/100\n",
      "1152/1152 [==============================] - 16s 14ms/step - loss: 0.0043 - mean_absolute_error: 0.0511\n",
      "Epoch 24/100\n",
      "1152/1152 [==============================] - 23s 20ms/step - loss: 0.0040 - mean_absolute_error: 0.0485\n",
      "Epoch 25/100\n",
      "1152/1152 [==============================] - 19s 17ms/step - loss: 0.0042 - mean_absolute_error: 0.0501\n",
      "Epoch 26/100\n",
      "1152/1152 [==============================] - 19s 16ms/step - loss: 0.0043 - mean_absolute_error: 0.0505\n",
      "Epoch 27/100\n",
      "1152/1152 [==============================] - 20s 18ms/step - loss: 0.0037 - mean_absolute_error: 0.0473\n",
      "Epoch 28/100\n",
      "1152/1152 [==============================] - 21s 18ms/step - loss: 0.0039 - mean_absolute_error: 0.0479\n",
      "Epoch 29/100\n",
      "1152/1152 [==============================] - 18s 15ms/step - loss: 0.0040 - mean_absolute_error: 0.0472\n",
      "Epoch 30/100\n",
      "1152/1152 [==============================] - 18s 16ms/step - loss: 0.0034 - mean_absolute_error: 0.0449\n",
      "Epoch 31/100\n",
      "1152/1152 [==============================] - 21s 18ms/step - loss: 0.0035 - mean_absolute_error: 0.0454\n",
      "Epoch 32/100\n",
      "1152/1152 [==============================] - 21s 18ms/step - loss: 0.0036 - mean_absolute_error: 0.0465\n",
      "Epoch 33/100\n",
      "1152/1152 [==============================] - 20s 17ms/step - loss: 0.0033 - mean_absolute_error: 0.0438\n",
      "Epoch 34/100\n",
      "1152/1152 [==============================] - 22s 19ms/step - loss: 0.0032 - mean_absolute_error: 0.0435\n",
      "Epoch 35/100\n",
      "1152/1152 [==============================] - 17s 15ms/step - loss: 0.0031 - mean_absolute_error: 0.0424\n",
      "Epoch 36/100\n",
      "1152/1152 [==============================] - 17s 15ms/step - loss: 0.0034 - mean_absolute_error: 0.0443\n",
      "Epoch 37/100\n",
      "1152/1152 [==============================] - 17s 15ms/step - loss: 0.0029 - mean_absolute_error: 0.0413\n",
      "Epoch 38/100\n",
      "1152/1152 [==============================] - 19s 17ms/step - loss: 0.0032 - mean_absolute_error: 0.0429\n",
      "Epoch 39/100\n",
      "1152/1152 [==============================] - 24s 21ms/step - loss: 0.0030 - mean_absolute_error: 0.0419\n",
      "Epoch 40/100\n",
      "1152/1152 [==============================] - 18s 16ms/step - loss: 0.0028 - mean_absolute_error: 0.0398\n",
      "Epoch 41/100\n",
      "1152/1152 [==============================] - 15s 13ms/step - loss: 0.0029 - mean_absolute_error: 0.0415\n",
      "Epoch 42/100\n",
      "1152/1152 [==============================] - 21s 19ms/step - loss: 0.0027 - mean_absolute_error: 0.0397\n",
      "Epoch 43/100\n",
      "1152/1152 [==============================] - 19s 17ms/step - loss: 0.0027 - mean_absolute_error: 0.0396\n",
      "Epoch 44/100\n",
      "1152/1152 [==============================] - 42s 36ms/step - loss: 0.0028 - mean_absolute_error: 0.0400\n",
      "Epoch 45/100\n",
      "1152/1152 [==============================] - 25s 22ms/step - loss: 0.0028 - mean_absolute_error: 0.0402\n",
      "Epoch 46/100\n",
      "1152/1152 [==============================] - 34s 30ms/step - loss: 0.0026 - mean_absolute_error: 0.0382\n",
      "Epoch 47/100\n",
      "1152/1152 [==============================] - 37s 32ms/step - loss: 0.0027 - mean_absolute_error: 0.0391\n",
      "Epoch 48/100\n",
      "1152/1152 [==============================] - 24s 21ms/step - loss: 0.0027 - mean_absolute_error: 0.0392\n",
      "Epoch 49/100\n",
      "1152/1152 [==============================] - 22s 19ms/step - loss: 0.0025 - mean_absolute_error: 0.0378\n",
      "Epoch 50/100\n",
      "1152/1152 [==============================] - 17s 15ms/step - loss: 0.0029 - mean_absolute_error: 0.0402\n",
      "Epoch 51/100\n",
      "1152/1152 [==============================] - 21s 19ms/step - loss: 0.0025 - mean_absolute_error: 0.0374\n",
      "Epoch 52/100\n",
      "1152/1152 [==============================] - 18s 16ms/step - loss: 0.0024 - mean_absolute_error: 0.0377\n",
      "Epoch 53/100\n",
      "1152/1152 [==============================] - 29s 25ms/step - loss: 0.0023 - mean_absolute_error: 0.0363\n",
      "Epoch 54/100\n",
      "1152/1152 [==============================] - 21s 18ms/step - loss: 0.0024 - mean_absolute_error: 0.0379\n",
      "Epoch 55/100\n",
      "1152/1152 [==============================] - 70s 61ms/step - loss: 0.0023 - mean_absolute_error: 0.0369\n",
      "Epoch 56/100\n",
      "1152/1152 [==============================] - 38s 33ms/step - loss: 0.0025 - mean_absolute_error: 0.0367\n",
      "Epoch 57/100\n",
      "1152/1152 [==============================] - 23s 20ms/step - loss: 0.0022 - mean_absolute_error: 0.0360\n",
      "Epoch 58/100\n",
      "1152/1152 [==============================] - 21s 18ms/step - loss: 0.0021 - mean_absolute_error: 0.0354\n",
      "Epoch 59/100\n",
      "1152/1152 [==============================] - 17s 15ms/step - loss: 0.0022 - mean_absolute_error: 0.0358\n",
      "Epoch 60/100\n",
      "1152/1152 [==============================] - 24s 20ms/step - loss: 0.0023 - mean_absolute_error: 0.0359\n",
      "Epoch 61/100\n",
      "1152/1152 [==============================] - 41s 36ms/step - loss: 0.0024 - mean_absolute_error: 0.0363\n",
      "Epoch 62/100\n",
      "1152/1152 [==============================] - 87s 76ms/step - loss: 0.0019 - mean_absolute_error: 0.0336\n",
      "Epoch 63/100\n",
      "1152/1152 [==============================] - 28s 24ms/step - loss: 0.0021 - mean_absolute_error: 0.0344\n",
      "Epoch 64/100\n",
      "1152/1152 [==============================] - 21s 18ms/step - loss: 0.0020 - mean_absolute_error: 0.0342\n",
      "Epoch 65/100\n",
      "1152/1152 [==============================] - 22s 19ms/step - loss: 0.0022 - mean_absolute_error: 0.0352\n",
      "Epoch 66/100\n",
      "1152/1152 [==============================] - 68s 59ms/step - loss: 0.0021 - mean_absolute_error: 0.0342\n",
      "Epoch 67/100\n",
      "1152/1152 [==============================] - 63s 54ms/step - loss: 0.0020 - mean_absolute_error: 0.0341\n",
      "Epoch 68/100\n",
      "1152/1152 [==============================] - 27s 24ms/step - loss: 0.0022 - mean_absolute_error: 0.0352\n",
      "Epoch 69/100\n",
      "1152/1152 [==============================] - 19s 16ms/step - loss: 0.0020 - mean_absolute_error: 0.0339\n",
      "Epoch 70/100\n",
      "1152/1152 [==============================] - 19s 16ms/step - loss: 0.0020 - mean_absolute_error: 0.0333\n",
      "Epoch 71/100\n"
     ]
    },
    {
     "name": "stdout",
     "output_type": "stream",
     "text": [
      "1152/1152 [==============================] - 18s 16ms/step - loss: 0.0020 - mean_absolute_error: 0.0338\n",
      "Epoch 72/100\n",
      "1152/1152 [==============================] - 17s 15ms/step - loss: 0.0021 - mean_absolute_error: 0.0345\n",
      "Epoch 73/100\n",
      "1152/1152 [==============================] - 16s 14ms/step - loss: 0.0020 - mean_absolute_error: 0.0329\n",
      "Epoch 74/100\n",
      "1152/1152 [==============================] - 16s 14ms/step - loss: 0.0020 - mean_absolute_error: 0.0334\n",
      "Epoch 75/100\n",
      "1152/1152 [==============================] - 16s 14ms/step - loss: 0.0020 - mean_absolute_error: 0.0335\n",
      "Epoch 76/100\n",
      "1152/1152 [==============================] - 16s 14ms/step - loss: 0.0019 - mean_absolute_error: 0.0325\n",
      "Epoch 77/100\n",
      "1152/1152 [==============================] - 16s 14ms/step - loss: 0.0020 - mean_absolute_error: 0.0340\n",
      "Epoch 78/100\n",
      "1152/1152 [==============================] - 16s 14ms/step - loss: 0.0018 - mean_absolute_error: 0.0322\n",
      "Epoch 79/100\n",
      "1152/1152 [==============================] - 16s 14ms/step - loss: 0.0020 - mean_absolute_error: 0.0341\n",
      "Epoch 80/100\n",
      "1152/1152 [==============================] - 16s 14ms/step - loss: 0.0017 - mean_absolute_error: 0.0319\n",
      "Epoch 81/100\n",
      "1152/1152 [==============================] - 16s 14ms/step - loss: 0.0020 - mean_absolute_error: 0.0336\n",
      "Epoch 82/100\n",
      "1152/1152 [==============================] - 16s 14ms/step - loss: 0.0019 - mean_absolute_error: 0.0323\n",
      "Epoch 83/100\n",
      "1152/1152 [==============================] - 16s 14ms/step - loss: 0.0018 - mean_absolute_error: 0.0319\n",
      "Epoch 84/100\n",
      "1152/1152 [==============================] - 17s 15ms/step - loss: 0.0018 - mean_absolute_error: 0.0323\n",
      "Epoch 85/100\n",
      "1152/1152 [==============================] - 24s 21ms/step - loss: 0.0017 - mean_absolute_error: 0.0311\n",
      "Epoch 86/100\n",
      "1152/1152 [==============================] - 40s 35ms/step - loss: 0.0020 - mean_absolute_error: 0.0329\n",
      "Epoch 87/100\n",
      "1152/1152 [==============================] - 23s 20ms/step - loss: 0.0017 - mean_absolute_error: 0.0307\n",
      "Epoch 88/100\n",
      "1152/1152 [==============================] - 20s 17ms/step - loss: 0.0017 - mean_absolute_error: 0.0314\n",
      "Epoch 89/100\n",
      "1152/1152 [==============================] - 17s 15ms/step - loss: 0.0018 - mean_absolute_error: 0.0320\n",
      "Epoch 90/100\n",
      "1152/1152 [==============================] - 17s 15ms/step - loss: 0.0019 - mean_absolute_error: 0.0323\n",
      "Epoch 91/100\n",
      "1152/1152 [==============================] - 18s 15ms/step - loss: 0.0017 - mean_absolute_error: 0.0315\n",
      "Epoch 92/100\n",
      "1152/1152 [==============================] - 18s 15ms/step - loss: 0.0019 - mean_absolute_error: 0.0324\n",
      "Epoch 93/100\n",
      "1152/1152 [==============================] - 17s 15ms/step - loss: 0.0016 - mean_absolute_error: 0.0299\n",
      "Epoch 94/100\n",
      "1152/1152 [==============================] - 22s 19ms/step - loss: 0.0018 - mean_absolute_error: 0.0313\n",
      "Epoch 95/100\n",
      "1152/1152 [==============================] - 26s 23ms/step - loss: 0.0016 - mean_absolute_error: 0.0306\n",
      "Epoch 96/100\n",
      "1152/1152 [==============================] - 26s 22ms/step - loss: 0.0017 - mean_absolute_error: 0.0308\n",
      "Epoch 97/100\n",
      "1152/1152 [==============================] - 33s 28ms/step - loss: 0.0017 - mean_absolute_error: 0.0315\n",
      "Epoch 98/100\n",
      "1152/1152 [==============================] - 33s 29ms/step - loss: 0.0019 - mean_absolute_error: 0.0315\n",
      "Epoch 99/100\n",
      "1152/1152 [==============================] - 35s 31ms/step - loss: 0.0014 - mean_absolute_error: 0.0287\n",
      "Epoch 100/100\n",
      "1152/1152 [==============================] - 32s 28ms/step - loss: 0.0018 - mean_absolute_error: 0.0320\n"
     ]
    },
    {
     "data": {
      "text/plain": [
       "<keras.callbacks.callbacks.History at 0x7fc0e436ef60>"
      ]
     },
     "execution_count": 9,
     "metadata": {},
     "output_type": "execute_result"
    }
   ],
   "source": [
    "regressor.fit(previsores, preco_real, epochs=100, batch_size=32, verbose=1, use_multiprocessing=True)"
   ]
  },
  {
   "cell_type": "markdown",
   "metadata": {},
   "source": [
    "#### Importar base de testes"
   ]
  },
  {
   "cell_type": "code",
   "execution_count": 10,
   "metadata": {},
   "outputs": [],
   "source": [
    "base_teste = pd.read_csv('../../data/acoesPetrobras/base_teste.csv')"
   ]
  },
  {
   "cell_type": "code",
   "execution_count": 11,
   "metadata": {},
   "outputs": [],
   "source": [
    "preco_real_teste = base_teste.iloc[:,1:2].values"
   ]
  },
  {
   "cell_type": "code",
   "execution_count": 12,
   "metadata": {},
   "outputs": [],
   "source": [
    "preco_real_open = base_teste.iloc[:,1:2].values\n",
    "preco_real_high = base_teste.iloc[:,2:3].values"
   ]
  },
  {
   "cell_type": "code",
   "execution_count": 13,
   "metadata": {},
   "outputs": [],
   "source": [
    "base_completa = pd.concat((base['Open'], base_teste['Open']), axis=0)\n",
    "entradas = base_completa[len(base_completa) - len(base_teste) - 90:].values\n",
    "entradas = entradas.reshape(-1,1)\n",
    "entradas = normalizador.transform(entradas)"
   ]
  },
  {
   "cell_type": "code",
   "execution_count": 14,
   "metadata": {},
   "outputs": [],
   "source": [
    "x_teste = []\n",
    "for i in range(90,112):\n",
    "    x_teste.append(entradas[i-90:i,0])\n",
    "x_teste = np.array(x_testeste)\n",
    "x_teste = np.reshape(x_teste, (x_teste.shape[0], x_teste.shape[1], 1))"
   ]
  },
  {
   "cell_type": "code",
   "execution_count": 15,
   "metadata": {},
   "outputs": [],
   "source": [
    "previsoes = regressor.predict(x_testete)\n",
    "previsoes = normalizador.inverse_transform(previsoes)"
   ]
  },
  {
   "cell_type": "code",
   "execution_count": 17,
   "metadata": {},
   "outputs": [
    {
     "data": {
      "image/png": "[encoded data removed]",
      "text/plain": [
       "<Figure size 432x288 with 1 Axes>"
      ]
     },
     "metadata": {
      "needs_background": "light"
     },
     "output_type": "display_data"
    }
   ],
   "source": [
    "plt.plot(preco_real_open, color = 'red', label = 'Preço abertura real')\n",
    "plt.plot(preco_real_high, color = 'black', label = 'Preço alta real')\n",
    "\n",
    "plt.plot(previsoes[:, 0], color = 'blue', label = 'Previsões abertura')\n",
    "plt.plot(previsoes[:, 1], color = 'orange', label = 'Previsões alta')\n",
    "\n",
    "plt.title('Previsão preço das ações')\n",
    "plt.xlabel('Tempo')\n",
    "plt.ylabel('Valor Yahoo')\n",
    "plt.legend()\n",
    "plt.show()"
   ]
  },
  {
   "cell_type": "code",
   "execution_count": null,
   "metadata": {},
   "outputs": [],
   "source": []
  }
 ],
 "metadata": {
  "kernelspec": {
   "display_name": "Python 3",
   "language": "python",
   "name": "python3"
  },
  "language_info": {
   "codemirror_mode": {
    "name": "ipython",
    "version": 3
   },
   "file_extension": ".py",
   "mimetype": "text/x-python",
   "name": "python",
   "nbconvert_exporter": "python",
   "pygments_lexer": "ipython3",
   "version": "3.5.2"
  }
 },
 "nbformat": 4,
 "nbformat_minor": 4
}
