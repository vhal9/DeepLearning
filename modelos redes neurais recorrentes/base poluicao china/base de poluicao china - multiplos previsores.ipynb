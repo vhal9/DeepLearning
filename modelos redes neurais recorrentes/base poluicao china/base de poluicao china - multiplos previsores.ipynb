{
 "cells": [
  {
   "cell_type": "code",
   "execution_count": 1,
   "metadata": {},
   "outputs": [
    {
     "name": "stderr",
     "output_type": "stream",
     "text": [
      "Using TensorFlow backend.\n"
     ]
    }
   ],
   "source": [
    "from keras.models import Sequential\n",
    "from keras.layers import Dense, Dropout, LSTM\n",
    "from sklearn.preprocessing import MinMaxScaler\n",
    "import numpy as np\n",
    "import pandas as pd\n",
    "import matplotlib.pyplot as plt"
   ]
  },
  {
   "cell_type": "code",
   "execution_count": 2,
   "metadata": {},
   "outputs": [],
   "source": [
    "base = pd.read_csv('../../data/base poluicao china/poluicao.csv')"
   ]
  },
  {
   "cell_type": "code",
   "execution_count": 3,
   "metadata": {},
   "outputs": [
    {
     "data": {
      "text/plain": [
       "43824"
      ]
     },
     "execution_count": 3,
     "metadata": {},
     "output_type": "execute_result"
    }
   ],
   "source": [
    "len(base)"
   ]
  },
  {
   "cell_type": "code",
   "execution_count": 4,
   "metadata": {},
   "outputs": [],
   "source": [
    "base = base.dropna()"
   ]
  },
  {
   "cell_type": "code",
   "execution_count": 5,
   "metadata": {},
   "outputs": [
    {
     "data": {
      "text/plain": [
       "41757"
      ]
     },
     "execution_count": 5,
     "metadata": {},
     "output_type": "execute_result"
    }
   ],
   "source": [
    "len(base)"
   ]
  },
  {
   "cell_type": "code",
   "execution_count": 6,
   "metadata": {},
   "outputs": [
    {
     "data": {
      "text/html": [
       "<div>\n",
       "<style scoped>\n",
       "    .dataframe tbody tr th:only-of-type {\n",
       "        vertical-align: middle;\n",
       "    }\n",
       "\n",
       "    .dataframe tbody tr th {\n",
       "        vertical-align: top;\n",
       "    }\n",
       "\n",
       "    .dataframe thead th {\n",
       "        text-align: right;\n",
       "    }\n",
       "</style>\n",
       "<table border=\"1\" class=\"dataframe\">\n",
       "  <thead>\n",
       "    <tr style=\"text-align: right;\">\n",
       "      <th></th>\n",
       "      <th>No</th>\n",
       "      <th>year</th>\n",
       "      <th>month</th>\n",
       "      <th>day</th>\n",
       "      <th>hour</th>\n",
       "      <th>pm2.5</th>\n",
       "      <th>DEWP</th>\n",
       "      <th>TEMP</th>\n",
       "      <th>PRES</th>\n",
       "      <th>cbwd</th>\n",
       "      <th>Iws</th>\n",
       "      <th>Is</th>\n",
       "      <th>Ir</th>\n",
       "    </tr>\n",
       "  </thead>\n",
       "  <tbody>\n",
       "    <tr>\n",
       "      <th>24</th>\n",
       "      <td>25</td>\n",
       "      <td>2010</td>\n",
       "      <td>1</td>\n",
       "      <td>2</td>\n",
       "      <td>0</td>\n",
       "      <td>129.0</td>\n",
       "      <td>-16</td>\n",
       "      <td>-4.0</td>\n",
       "      <td>1020.0</td>\n",
       "      <td>SE</td>\n",
       "      <td>1.79</td>\n",
       "      <td>0</td>\n",
       "      <td>0</td>\n",
       "    </tr>\n",
       "    <tr>\n",
       "      <th>25</th>\n",
       "      <td>26</td>\n",
       "      <td>2010</td>\n",
       "      <td>1</td>\n",
       "      <td>2</td>\n",
       "      <td>1</td>\n",
       "      <td>148.0</td>\n",
       "      <td>-15</td>\n",
       "      <td>-4.0</td>\n",
       "      <td>1020.0</td>\n",
       "      <td>SE</td>\n",
       "      <td>2.68</td>\n",
       "      <td>0</td>\n",
       "      <td>0</td>\n",
       "    </tr>\n",
       "    <tr>\n",
       "      <th>26</th>\n",
       "      <td>27</td>\n",
       "      <td>2010</td>\n",
       "      <td>1</td>\n",
       "      <td>2</td>\n",
       "      <td>2</td>\n",
       "      <td>159.0</td>\n",
       "      <td>-11</td>\n",
       "      <td>-5.0</td>\n",
       "      <td>1021.0</td>\n",
       "      <td>SE</td>\n",
       "      <td>3.57</td>\n",
       "      <td>0</td>\n",
       "      <td>0</td>\n",
       "    </tr>\n",
       "  </tbody>\n",
       "</table>\n",
       "</div>"
      ],
      "text/plain": [
       "    No  year  month  day  hour  pm2.5  DEWP  TEMP    PRES cbwd   Iws  Is  Ir\n",
       "24  25  2010      1    2     0  129.0   -16  -4.0  1020.0   SE  1.79   0   0\n",
       "25  26  2010      1    2     1  148.0   -15  -4.0  1020.0   SE  2.68   0   0\n",
       "26  27  2010      1    2     2  159.0   -11  -5.0  1021.0   SE  3.57   0   0"
      ]
     },
     "execution_count": 6,
     "metadata": {},
     "output_type": "execute_result"
    }
   ],
   "source": [
    "base[:3]"
   ]
  },
  {
   "cell_type": "code",
   "execution_count": 7,
   "metadata": {},
   "outputs": [],
   "source": [
    "base = base.drop(['No', 'year', 'month', 'day', 'hour', 'cbwd'], axis=1)"
   ]
  },
  {
   "cell_type": "code",
   "execution_count": 8,
   "metadata": {},
   "outputs": [
    {
     "data": {
      "text/html": [
       "<div>\n",
       "<style scoped>\n",
       "    .dataframe tbody tr th:only-of-type {\n",
       "        vertical-align: middle;\n",
       "    }\n",
       "\n",
       "    .dataframe tbody tr th {\n",
       "        vertical-align: top;\n",
       "    }\n",
       "\n",
       "    .dataframe thead th {\n",
       "        text-align: right;\n",
       "    }\n",
       "</style>\n",
       "<table border=\"1\" class=\"dataframe\">\n",
       "  <thead>\n",
       "    <tr style=\"text-align: right;\">\n",
       "      <th></th>\n",
       "      <th>pm2.5</th>\n",
       "      <th>DEWP</th>\n",
       "      <th>TEMP</th>\n",
       "      <th>PRES</th>\n",
       "      <th>Iws</th>\n",
       "      <th>Is</th>\n",
       "      <th>Ir</th>\n",
       "    </tr>\n",
       "  </thead>\n",
       "  <tbody>\n",
       "    <tr>\n",
       "      <th>24</th>\n",
       "      <td>129.0</td>\n",
       "      <td>-16</td>\n",
       "      <td>-4.0</td>\n",
       "      <td>1020.0</td>\n",
       "      <td>1.79</td>\n",
       "      <td>0</td>\n",
       "      <td>0</td>\n",
       "    </tr>\n",
       "    <tr>\n",
       "      <th>25</th>\n",
       "      <td>148.0</td>\n",
       "      <td>-15</td>\n",
       "      <td>-4.0</td>\n",
       "      <td>1020.0</td>\n",
       "      <td>2.68</td>\n",
       "      <td>0</td>\n",
       "      <td>0</td>\n",
       "    </tr>\n",
       "    <tr>\n",
       "      <th>26</th>\n",
       "      <td>159.0</td>\n",
       "      <td>-11</td>\n",
       "      <td>-5.0</td>\n",
       "      <td>1021.0</td>\n",
       "      <td>3.57</td>\n",
       "      <td>0</td>\n",
       "      <td>0</td>\n",
       "    </tr>\n",
       "    <tr>\n",
       "      <th>27</th>\n",
       "      <td>181.0</td>\n",
       "      <td>-7</td>\n",
       "      <td>-5.0</td>\n",
       "      <td>1022.0</td>\n",
       "      <td>5.36</td>\n",
       "      <td>1</td>\n",
       "      <td>0</td>\n",
       "    </tr>\n",
       "    <tr>\n",
       "      <th>28</th>\n",
       "      <td>138.0</td>\n",
       "      <td>-7</td>\n",
       "      <td>-5.0</td>\n",
       "      <td>1022.0</td>\n",
       "      <td>6.25</td>\n",
       "      <td>2</td>\n",
       "      <td>0</td>\n",
       "    </tr>\n",
       "  </tbody>\n",
       "</table>\n",
       "</div>"
      ],
      "text/plain": [
       "    pm2.5  DEWP  TEMP    PRES   Iws  Is  Ir\n",
       "24  129.0   -16  -4.0  1020.0  1.79   0   0\n",
       "25  148.0   -15  -4.0  1020.0  2.68   0   0\n",
       "26  159.0   -11  -5.0  1021.0  3.57   0   0\n",
       "27  181.0    -7  -5.0  1022.0  5.36   1   0\n",
       "28  138.0    -7  -5.0  1022.0  6.25   2   0"
      ]
     },
     "execution_count": 8,
     "metadata": {},
     "output_type": "execute_result"
    }
   ],
   "source": [
    "base[:5]"
   ]
  },
  {
   "cell_type": "code",
   "execution_count": 9,
   "metadata": {},
   "outputs": [],
   "source": [
    "base_treinamento = base.iloc[:, 1:7].values"
   ]
  },
  {
   "cell_type": "code",
   "execution_count": 15,
   "metadata": {},
   "outputs": [
    {
     "data": {
      "text/plain": [
       "array([[ -16.  ,   -4.  , 1020.  ,    1.79,    0.  ,    0.  ],\n",
       "       [ -15.  ,   -4.  , 1020.  ,    2.68,    0.  ,    0.  ],\n",
       "       [ -11.  ,   -5.  , 1021.  ,    3.57,    0.  ,    0.  ],\n",
       "       ...,\n",
       "       [ -22.  ,   -3.  , 1034.  ,  242.7 ,    0.  ,    0.  ],\n",
       "       [ -22.  ,   -4.  , 1034.  ,  246.72,    0.  ,    0.  ],\n",
       "       [ -21.  ,   -3.  , 1034.  ,  249.85,    0.  ,    0.  ]])"
      ]
     },
     "execution_count": 15,
     "metadata": {},
     "output_type": "execute_result"
    }
   ],
   "source": [
    "base_treinamento"
   ]
  },
  {
   "cell_type": "code",
   "execution_count": 16,
   "metadata": {},
   "outputs": [],
   "source": [
    "poluicao = base.iloc[:,0].values"
   ]
  },
  {
   "cell_type": "code",
   "execution_count": 17,
   "metadata": {},
   "outputs": [
    {
     "data": {
      "text/plain": [
       "41757"
      ]
     },
     "execution_count": 17,
     "metadata": {},
     "output_type": "execute_result"
    }
   ],
   "source": [
    "len(base_treinamento)"
   ]
  },
  {
   "cell_type": "code",
   "execution_count": 18,
   "metadata": {
    "scrolled": true
   },
   "outputs": [
    {
     "data": {
      "text/plain": [
       "(41757, 6)"
      ]
     },
     "execution_count": 18,
     "metadata": {},
     "output_type": "execute_result"
    }
   ],
   "source": [
    "base_treinamento.shape"
   ]
  },
  {
   "cell_type": "markdown",
   "metadata": {},
   "source": [
    "#### Normalizar os dados"
   ]
  },
  {
   "cell_type": "code",
   "execution_count": 19,
   "metadata": {},
   "outputs": [],
   "source": [
    "normalizador = MinMaxScaler(feature_range=(0,1))\n",
    "base_treinamento_normalizada = normalizador.fit_transform(base_treinamento)"
   ]
  },
  {
   "cell_type": "code",
   "execution_count": 20,
   "metadata": {},
   "outputs": [],
   "source": [
    "poluicao = poluicao.reshape(-1,1)\n",
    "poluicao_normalizada = normalizador.fit_transform(poluicao)"
   ]
  },
  {
   "cell_type": "markdown",
   "metadata": {},
   "source": [
    "#### Formar base de dados de forma a utilizar os 10 registros anteriores para se prever o proximo valor"
   ]
  },
  {
   "cell_type": "code",
   "execution_count": 22,
   "metadata": {},
   "outputs": [],
   "source": [
    "previsores = []\n",
    "poluicao_real = []\n",
    "for i in range(10, 41757):\n",
    "    previsores.append(base_treinamento_normalizada[i-10:i, 0:6])\n",
    "    poluicao_real.append(poluicao_normalizada[i, 0])\n",
    "previsores, poluicao_real = np.array(previsores), np.array(poluicao_real)"
   ]
  },
  {
   "cell_type": "code",
   "execution_count": 23,
   "metadata": {},
   "outputs": [
    {
     "data": {
      "text/plain": [
       "(41747, 10, 6)"
      ]
     },
     "execution_count": 23,
     "metadata": {},
     "output_type": "execute_result"
    }
   ],
   "source": [
    "previsores.shape"
   ]
  },
  {
   "cell_type": "markdown",
   "metadata": {},
   "source": [
    "#### Estrutura da rede neural recorrente"
   ]
  },
  {
   "cell_type": "code",
   "execution_count": 25,
   "metadata": {},
   "outputs": [],
   "source": [
    "regressor = Sequential()\n",
    "\n",
    "regressor.add(LSTM(units = 100, return_sequences = True, input_shape = (previsores.shape[1], 6)))\n",
    "regressor.add(Dropout(0.3))\n",
    "\n",
    "regressor.add(LSTM(units = 50, return_sequences = True))\n",
    "regressor.add(Dropout(0.3))\n",
    "regressor.add(LSTM(units = 50, return_sequences = True))\n",
    "regressor.add(Dropout(0.3))\n",
    "regressor.add(LSTM(units = 50, return_sequences = True))\n",
    "regressor.add(Dropout(0.3))\n",
    "regressor.add(LSTM(units = 50))\n",
    "regressor.add(Dropout(0.3))\n",
    "\n",
    "regressor.add(Dense(units = 1, activation = 'linear'))\n",
    "regressor.compile(optimizer = 'adam', loss = 'mean_squared_error', metrics = ['mean_absolute_error'])"
   ]
  },
  {
   "cell_type": "code",
   "execution_count": 26,
   "metadata": {},
   "outputs": [
    {
     "name": "stdout",
     "output_type": "stream",
     "text": [
      "Epoch 1/100\n",
      "41747/41747 [==============================] - 50s 1ms/step - loss: 0.0074 - mean_absolute_error: 0.0625\n",
      "Epoch 2/100\n",
      "41747/41747 [==============================] - 48s 1ms/step - loss: 0.0062 - mean_absolute_error: 0.0564\n",
      "Epoch 3/100\n",
      "41747/41747 [==============================] - 60s 1ms/step - loss: 0.0057 - mean_absolute_error: 0.0535\n",
      "Epoch 4/100\n",
      "41747/41747 [==============================] - 68s 2ms/step - loss: 0.0055 - mean_absolute_error: 0.0525\n",
      "Epoch 5/100\n",
      "41747/41747 [==============================] - 66s 2ms/step - loss: 0.0054 - mean_absolute_error: 0.0518\n",
      "Epoch 6/100\n",
      "41747/41747 [==============================] - 59s 1ms/step - loss: 0.0053 - mean_absolute_error: 0.0514\n",
      "Epoch 7/100\n",
      "41747/41747 [==============================] - 59s 1ms/step - loss: 0.0052 - mean_absolute_error: 0.0508\n",
      "Epoch 8/100\n",
      "41747/41747 [==============================] - 69s 2ms/step - loss: 0.0052 - mean_absolute_error: 0.0506\n",
      "Epoch 9/100\n",
      "41747/41747 [==============================] - 55s 1ms/step - loss: 0.0051 - mean_absolute_error: 0.0502\n",
      "Epoch 10/100\n",
      "41747/41747 [==============================] - 67s 2ms/step - loss: 0.0051 - mean_absolute_error: 0.0499\n",
      "Epoch 11/100\n",
      "41747/41747 [==============================] - 64s 2ms/step - loss: 0.0050 - mean_absolute_error: 0.0496\n",
      "Epoch 12/100\n",
      "41747/41747 [==============================] - 57s 1ms/step - loss: 0.0050 - mean_absolute_error: 0.0497\n",
      "Epoch 13/100\n",
      "41747/41747 [==============================] - 60s 1ms/step - loss: 0.0050 - mean_absolute_error: 0.0493\n",
      "Epoch 14/100\n",
      "41747/41747 [==============================] - 73s 2ms/step - loss: 0.0050 - mean_absolute_error: 0.0491\n",
      "Epoch 15/100\n",
      "41747/41747 [==============================] - 90s 2ms/step - loss: 0.0049 - mean_absolute_error: 0.0490\n",
      "Epoch 16/100\n",
      "41747/41747 [==============================] - 93s 2ms/step - loss: 0.0049 - mean_absolute_error: 0.0487\n",
      "Epoch 17/100\n",
      "41747/41747 [==============================] - 95s 2ms/step - loss: 0.0049 - mean_absolute_error: 0.0485\n",
      "Epoch 18/100\n",
      "41747/41747 [==============================] - 93s 2ms/step - loss: 0.0048 - mean_absolute_error: 0.0483\n",
      "Epoch 19/100\n",
      "41747/41747 [==============================] - 93s 2ms/step - loss: 0.0048 - mean_absolute_error: 0.0480\n",
      "Epoch 20/100\n",
      "41747/41747 [==============================] - 93s 2ms/step - loss: 0.0047 - mean_absolute_error: 0.0477\n",
      "Epoch 21/100\n",
      "41747/41747 [==============================] - 95s 2ms/step - loss: 0.0047 - mean_absolute_error: 0.0476\n",
      "Epoch 22/100\n",
      "41747/41747 [==============================] - 94s 2ms/step - loss: 0.0046 - mean_absolute_error: 0.0474\n",
      "Epoch 23/100\n",
      "41747/41747 [==============================] - 90s 2ms/step - loss: 0.0046 - mean_absolute_error: 0.0473\n",
      "Epoch 24/100\n",
      "41747/41747 [==============================] - 62s 1ms/step - loss: 0.0045 - mean_absolute_error: 0.0469\n",
      "Epoch 25/100\n",
      "41747/41747 [==============================] - 66s 2ms/step - loss: 0.0045 - mean_absolute_error: 0.0470\n",
      "Epoch 26/100\n",
      "41747/41747 [==============================] - 66s 2ms/step - loss: 0.0045 - mean_absolute_error: 0.0468\n",
      "Epoch 27/100\n",
      "41747/41747 [==============================] - 68s 2ms/step - loss: 0.0045 - mean_absolute_error: 0.0464\n",
      "Epoch 28/100\n",
      "41747/41747 [==============================] - 68s 2ms/step - loss: 0.0044 - mean_absolute_error: 0.0463\n",
      "Epoch 29/100\n",
      "41747/41747 [==============================] - 65s 2ms/step - loss: 0.0044 - mean_absolute_error: 0.0462\n",
      "Epoch 30/100\n",
      "41747/41747 [==============================] - 70s 2ms/step - loss: 0.0044 - mean_absolute_error: 0.0462\n",
      "Epoch 31/100\n",
      "41747/41747 [==============================] - 73s 2ms/step - loss: 0.0044 - mean_absolute_error: 0.0458\n",
      "Epoch 32/100\n",
      "41747/41747 [==============================] - 73s 2ms/step - loss: 0.0044 - mean_absolute_error: 0.0458\n",
      "Epoch 33/100\n",
      "41747/41747 [==============================] - 71s 2ms/step - loss: 0.0043 - mean_absolute_error: 0.0456\n",
      "Epoch 34/100\n",
      "41747/41747 [==============================] - 75s 2ms/step - loss: 0.0043 - mean_absolute_error: 0.0455\n",
      "Epoch 35/100\n",
      "41747/41747 [==============================] - 73s 2ms/step - loss: 0.0043 - mean_absolute_error: 0.0454\n",
      "Epoch 36/100\n",
      "41747/41747 [==============================] - 70s 2ms/step - loss: 0.0043 - mean_absolute_error: 0.0452\n",
      "Epoch 37/100\n",
      "41747/41747 [==============================] - 75s 2ms/step - loss: 0.0043 - mean_absolute_error: 0.0453\n",
      "Epoch 38/100\n",
      "41747/41747 [==============================] - 63s 2ms/step - loss: 0.0042 - mean_absolute_error: 0.0451\n",
      "Epoch 39/100\n",
      "41747/41747 [==============================] - 51s 1ms/step - loss: 0.0042 - mean_absolute_error: 0.0449\n",
      "Epoch 40/100\n",
      "41747/41747 [==============================] - 49s 1ms/step - loss: 0.0042 - mean_absolute_error: 0.0448\n",
      "Epoch 41/100\n",
      "41747/41747 [==============================] - 48s 1ms/step - loss: 0.0042 - mean_absolute_error: 0.0447\n",
      "Epoch 42/100\n",
      "41747/41747 [==============================] - 51s 1ms/step - loss: 0.0041 - mean_absolute_error: 0.0445\n",
      "Epoch 43/100\n",
      "41747/41747 [==============================] - 48s 1ms/step - loss: 0.0041 - mean_absolute_error: 0.0444\n",
      "Epoch 44/100\n",
      "41747/41747 [==============================] - 49s 1ms/step - loss: 0.0041 - mean_absolute_error: 0.0443\n",
      "Epoch 45/100\n",
      "41747/41747 [==============================] - 48s 1ms/step - loss: 0.0041 - mean_absolute_error: 0.0444\n",
      "Epoch 46/100\n",
      "41747/41747 [==============================] - 50s 1ms/step - loss: 0.0040 - mean_absolute_error: 0.0441\n",
      "Epoch 47/100\n",
      "41747/41747 [==============================] - 49s 1ms/step - loss: 0.0041 - mean_absolute_error: 0.0440\n",
      "Epoch 48/100\n",
      "41747/41747 [==============================] - 48s 1ms/step - loss: 0.0040 - mean_absolute_error: 0.0439\n",
      "Epoch 49/100\n",
      "41747/41747 [==============================] - 49s 1ms/step - loss: 0.0040 - mean_absolute_error: 0.0436\n",
      "Epoch 50/100\n",
      "41747/41747 [==============================] - 50s 1ms/step - loss: 0.0040 - mean_absolute_error: 0.0437\n",
      "Epoch 51/100\n",
      "41747/41747 [==============================] - 50s 1ms/step - loss: 0.0039 - mean_absolute_error: 0.0434\n",
      "Epoch 52/100\n",
      "41747/41747 [==============================] - 48s 1ms/step - loss: 0.0040 - mean_absolute_error: 0.0436\n",
      "Epoch 53/100\n",
      "41747/41747 [==============================] - 47s 1ms/step - loss: 0.0039 - mean_absolute_error: 0.0434\n",
      "Epoch 54/100\n",
      "41747/41747 [==============================] - 47s 1ms/step - loss: 0.0039 - mean_absolute_error: 0.0433\n",
      "Epoch 55/100\n",
      "41747/41747 [==============================] - 48s 1ms/step - loss: 0.0039 - mean_absolute_error: 0.0430\n",
      "Epoch 56/100\n",
      "41747/41747 [==============================] - 46s 1ms/step - loss: 0.0039 - mean_absolute_error: 0.0430\n",
      "Epoch 57/100\n",
      "41747/41747 [==============================] - 49s 1ms/step - loss: 0.0038 - mean_absolute_error: 0.0427\n",
      "Epoch 58/100\n",
      "41747/41747 [==============================] - 48s 1ms/step - loss: 0.0038 - mean_absolute_error: 0.0427\n",
      "Epoch 59/100\n",
      "41747/41747 [==============================] - 48s 1ms/step - loss: 0.0038 - mean_absolute_error: 0.0426\n",
      "Epoch 60/100\n",
      "41747/41747 [==============================] - 48s 1ms/step - loss: 0.0038 - mean_absolute_error: 0.0424\n",
      "Epoch 61/100\n",
      "41747/41747 [==============================] - 46s 1ms/step - loss: 0.0038 - mean_absolute_error: 0.0425\n",
      "Epoch 62/100\n",
      "41747/41747 [==============================] - 45s 1ms/step - loss: 0.0037 - mean_absolute_error: 0.0421\n",
      "Epoch 63/100\n",
      "41747/41747 [==============================] - 47s 1ms/step - loss: 0.0037 - mean_absolute_error: 0.0420\n",
      "Epoch 64/100\n",
      "41747/41747 [==============================] - 46s 1ms/step - loss: 0.0037 - mean_absolute_error: 0.0420\n",
      "Epoch 65/100\n",
      "41747/41747 [==============================] - 45s 1ms/step - loss: 0.0036 - mean_absolute_error: 0.0418\n",
      "Epoch 66/100\n",
      "41747/41747 [==============================] - 48s 1ms/step - loss: 0.0037 - mean_absolute_error: 0.0419\n",
      "Epoch 67/100\n",
      "41747/41747 [==============================] - 47s 1ms/step - loss: 0.0036 - mean_absolute_error: 0.0415\n",
      "Epoch 68/100\n",
      "41747/41747 [==============================] - 47s 1ms/step - loss: 0.0036 - mean_absolute_error: 0.0414\n",
      "Epoch 69/100\n",
      "41747/41747 [==============================] - 45s 1ms/step - loss: 0.0036 - mean_absolute_error: 0.0416\n",
      "Epoch 70/100\n"
     ]
    },
    {
     "name": "stdout",
     "output_type": "stream",
     "text": [
      "41747/41747 [==============================] - 45s 1ms/step - loss: 0.0036 - mean_absolute_error: 0.0414\n",
      "Epoch 71/100\n",
      "41747/41747 [==============================] - 47s 1ms/step - loss: 0.0035 - mean_absolute_error: 0.0410\n",
      "Epoch 72/100\n",
      "41747/41747 [==============================] - 49s 1ms/step - loss: 0.0035 - mean_absolute_error: 0.0409\n",
      "Epoch 73/100\n",
      "41747/41747 [==============================] - 45s 1ms/step - loss: 0.0035 - mean_absolute_error: 0.0410\n",
      "Epoch 74/100\n",
      "41747/41747 [==============================] - 47s 1ms/step - loss: 0.0035 - mean_absolute_error: 0.0408\n",
      "Epoch 75/100\n",
      "41747/41747 [==============================] - 47s 1ms/step - loss: 0.0034 - mean_absolute_error: 0.0406\n",
      "Epoch 76/100\n",
      "41747/41747 [==============================] - 48s 1ms/step - loss: 0.0034 - mean_absolute_error: 0.0406\n",
      "Epoch 77/100\n",
      "41747/41747 [==============================] - 43s 1ms/step - loss: 0.0034 - mean_absolute_error: 0.0405\n",
      "Epoch 78/100\n",
      "41747/41747 [==============================] - 46s 1ms/step - loss: 0.0034 - mean_absolute_error: 0.0404\n",
      "Epoch 79/100\n",
      "41747/41747 [==============================] - 48s 1ms/step - loss: 0.0034 - mean_absolute_error: 0.0405\n",
      "Epoch 80/100\n",
      "41747/41747 [==============================] - 47s 1ms/step - loss: 0.0034 - mean_absolute_error: 0.0402\n",
      "Epoch 81/100\n",
      "41747/41747 [==============================] - 49s 1ms/step - loss: 0.0033 - mean_absolute_error: 0.0400\n",
      "Epoch 82/100\n",
      "41747/41747 [==============================] - 45s 1ms/step - loss: 0.0033 - mean_absolute_error: 0.0400\n",
      "Epoch 83/100\n",
      "41747/41747 [==============================] - 47s 1ms/step - loss: 0.0033 - mean_absolute_error: 0.0397\n",
      "Epoch 84/100\n",
      "41747/41747 [==============================] - 49s 1ms/step - loss: 0.0033 - mean_absolute_error: 0.0397\n",
      "Epoch 85/100\n",
      "41747/41747 [==============================] - 45s 1ms/step - loss: 0.0033 - mean_absolute_error: 0.0397\n",
      "Epoch 86/100\n",
      "41747/41747 [==============================] - 45s 1ms/step - loss: 0.0032 - mean_absolute_error: 0.0396\n",
      "Epoch 87/100\n",
      "41747/41747 [==============================] - 45s 1ms/step - loss: 0.0032 - mean_absolute_error: 0.0393\n",
      "Epoch 88/100\n",
      "41747/41747 [==============================] - 50s 1ms/step - loss: 0.0032 - mean_absolute_error: 0.0394: 1s - loss: 0.0032 - mean\n",
      "Epoch 89/100\n",
      "41747/41747 [==============================] - 70s 2ms/step - loss: 0.0032 - mean_absolute_error: 0.0393\n",
      "Epoch 90/100\n",
      "41747/41747 [==============================] - 83s 2ms/step - loss: 0.0032 - mean_absolute_error: 0.0392\n",
      "Epoch 91/100\n",
      "41747/41747 [==============================] - 118s 3ms/step - loss: 0.0031 - mean_absolute_error: 0.0392\n",
      "Epoch 92/100\n",
      "41747/41747 [==============================] - 93s 2ms/step - loss: 0.0031 - mean_absolute_error: 0.0388\n",
      "Epoch 93/100\n",
      "41747/41747 [==============================] - 121s 3ms/step - loss: 0.0031 - mean_absolute_error: 0.0391\n",
      "Epoch 94/100\n",
      "41747/41747 [==============================] - 129s 3ms/step - loss: 0.0031 - mean_absolute_error: 0.0388\n",
      "Epoch 95/100\n",
      "41747/41747 [==============================] - 173s 4ms/step - loss: 0.0030 - mean_absolute_error: 0.0385\n",
      "Epoch 96/100\n",
      "41747/41747 [==============================] - 167s 4ms/step - loss: 0.0031 - mean_absolute_error: 0.0385\n",
      "Epoch 97/100\n",
      "41747/41747 [==============================] - 156s 4ms/step - loss: 0.0030 - mean_absolute_error: 0.0385\n",
      "Epoch 98/100\n",
      "41747/41747 [==============================] - 125s 3ms/step - loss: 0.0030 - mean_absolute_error: 0.0384\n",
      "Epoch 99/100\n",
      "41747/41747 [==============================] - 96s 2ms/step - loss: 0.0030 - mean_absolute_error: 0.0382\n",
      "Epoch 100/100\n",
      "41747/41747 [==============================] - 83s 2ms/step - loss: 0.0030 - mean_absolute_error: 0.0383\n"
     ]
    },
    {
     "data": {
      "text/plain": [
       "<keras.callbacks.callbacks.History at 0x7f1e98ee0ef0>"
      ]
     },
     "execution_count": 26,
     "metadata": {},
     "output_type": "execute_result"
    }
   ],
   "source": [
    "regressor.fit(previsores,poluicao_real, epochs = 100, batch_size=64, use_multiprocessing=True)"
   ]
  },
  {
   "cell_type": "code",
   "execution_count": 27,
   "metadata": {},
   "outputs": [],
   "source": [
    "previsoes = regressor.predict(previsores)\n",
    "previsoes = normalizador.inverse_transform(previsoes)"
   ]
  },
  {
   "cell_type": "code",
   "execution_count": 28,
   "metadata": {},
   "outputs": [
    {
     "data": {
      "image/png": "[encoded data removed]",
      "text/plain": [
       "<Figure size 432x288 with 1 Axes>"
      ]
     },
     "metadata": {
      "needs_background": "light"
     },
     "output_type": "display_data"
    }
   ],
   "source": [
    "plt.plot(poluicao, color = 'brown', label = 'Poluição real')\n",
    "plt.plot(previsoes, color = 'green', label = 'Previsões')\n",
    "plt.title('Previsão poluição')\n",
    "plt.xlabel('Horas')\n",
    "plt.ylabel('Valor poluição')\n",
    "plt.legend()\n",
    "plt.show()"
   ]
  },
  {
   "cell_type": "code",
   "execution_count": null,
   "metadata": {},
   "outputs": [],
   "source": []
  }
 ],
 "metadata": {
  "kernelspec": {
   "display_name": "Python 3",
   "language": "python",
   "name": "python3"
  },
  "language_info": {
   "codemirror_mode": {
    "name": "ipython",
    "version": 3
   },
   "file_extension": ".py",
   "mimetype": "text/x-python",
   "name": "python",
   "nbconvert_exporter": "python",
   "pygments_lexer": "ipython3",
   "version": "3.5.2"
  }
 },
 "nbformat": 4,
 "nbformat_minor": 4
}
